{
 "cells": [
  {
   "cell_type": "code",
   "execution_count": 1,
   "id": "44f4869a",
   "metadata": {},
   "outputs": [],
   "source": [
    "import pandas as pd\n",
    "import matplotlib.pyplot as plt\n",
    "import numpy as np\n",
    "import seaborn as sns\n"
   ]
  },
  {
   "cell_type": "code",
   "execution_count": 2,
   "id": "b3c7e27c",
   "metadata": {},
   "outputs": [],
   "source": [
    "df=pd.read_csv('3. Police Data.csv')\n",
    "df=pd.DataFrame(df)"
   ]
  },
  {
   "cell_type": "code",
   "execution_count": 3,
   "id": "e63c3a25",
   "metadata": {},
   "outputs": [
    {
     "data": {
      "text/html": [
       "<div>\n",
       "<style scoped>\n",
       "    .dataframe tbody tr th:only-of-type {\n",
       "        vertical-align: middle;\n",
       "    }\n",
       "\n",
       "    .dataframe tbody tr th {\n",
       "        vertical-align: top;\n",
       "    }\n",
       "\n",
       "    .dataframe thead th {\n",
       "        text-align: right;\n",
       "    }\n",
       "</style>\n",
       "<table border=\"1\" class=\"dataframe\">\n",
       "  <thead>\n",
       "    <tr style=\"text-align: right;\">\n",
       "      <th></th>\n",
       "      <th>stop_date</th>\n",
       "      <th>stop_time</th>\n",
       "      <th>country_name</th>\n",
       "      <th>driver_gender</th>\n",
       "      <th>driver_age_raw</th>\n",
       "      <th>driver_age</th>\n",
       "      <th>driver_race</th>\n",
       "      <th>violation_raw</th>\n",
       "      <th>violation</th>\n",
       "      <th>search_conducted</th>\n",
       "      <th>search_type</th>\n",
       "      <th>stop_outcome</th>\n",
       "      <th>is_arrested</th>\n",
       "      <th>stop_duration</th>\n",
       "      <th>drugs_related_stop</th>\n",
       "    </tr>\n",
       "  </thead>\n",
       "  <tbody>\n",
       "    <tr>\n",
       "      <th>0</th>\n",
       "      <td>1/2/2005</td>\n",
       "      <td>1:55</td>\n",
       "      <td>NaN</td>\n",
       "      <td>M</td>\n",
       "      <td>1985.0</td>\n",
       "      <td>20.0</td>\n",
       "      <td>White</td>\n",
       "      <td>Speeding</td>\n",
       "      <td>Speeding</td>\n",
       "      <td>False</td>\n",
       "      <td>NaN</td>\n",
       "      <td>Citation</td>\n",
       "      <td>False</td>\n",
       "      <td>0-15 Min</td>\n",
       "      <td>False</td>\n",
       "    </tr>\n",
       "    <tr>\n",
       "      <th>1</th>\n",
       "      <td>1/18/2005</td>\n",
       "      <td>8:15</td>\n",
       "      <td>NaN</td>\n",
       "      <td>M</td>\n",
       "      <td>1965.0</td>\n",
       "      <td>40.0</td>\n",
       "      <td>White</td>\n",
       "      <td>Speeding</td>\n",
       "      <td>Speeding</td>\n",
       "      <td>False</td>\n",
       "      <td>NaN</td>\n",
       "      <td>Citation</td>\n",
       "      <td>False</td>\n",
       "      <td>0-15 Min</td>\n",
       "      <td>False</td>\n",
       "    </tr>\n",
       "    <tr>\n",
       "      <th>2</th>\n",
       "      <td>1/23/2005</td>\n",
       "      <td>23:15</td>\n",
       "      <td>NaN</td>\n",
       "      <td>M</td>\n",
       "      <td>1972.0</td>\n",
       "      <td>33.0</td>\n",
       "      <td>White</td>\n",
       "      <td>Speeding</td>\n",
       "      <td>Speeding</td>\n",
       "      <td>False</td>\n",
       "      <td>NaN</td>\n",
       "      <td>Citation</td>\n",
       "      <td>False</td>\n",
       "      <td>0-15 Min</td>\n",
       "      <td>False</td>\n",
       "    </tr>\n",
       "    <tr>\n",
       "      <th>3</th>\n",
       "      <td>2/20/2005</td>\n",
       "      <td>17:15</td>\n",
       "      <td>NaN</td>\n",
       "      <td>M</td>\n",
       "      <td>1986.0</td>\n",
       "      <td>19.0</td>\n",
       "      <td>White</td>\n",
       "      <td>Call for Service</td>\n",
       "      <td>Other</td>\n",
       "      <td>False</td>\n",
       "      <td>NaN</td>\n",
       "      <td>Arrest Driver</td>\n",
       "      <td>True</td>\n",
       "      <td>16-30 Min</td>\n",
       "      <td>False</td>\n",
       "    </tr>\n",
       "    <tr>\n",
       "      <th>4</th>\n",
       "      <td>3/14/2005</td>\n",
       "      <td>10:00</td>\n",
       "      <td>NaN</td>\n",
       "      <td>F</td>\n",
       "      <td>1984.0</td>\n",
       "      <td>21.0</td>\n",
       "      <td>White</td>\n",
       "      <td>Speeding</td>\n",
       "      <td>Speeding</td>\n",
       "      <td>False</td>\n",
       "      <td>NaN</td>\n",
       "      <td>Citation</td>\n",
       "      <td>False</td>\n",
       "      <td>0-15 Min</td>\n",
       "      <td>False</td>\n",
       "    </tr>\n",
       "  </tbody>\n",
       "</table>\n",
       "</div>"
      ],
      "text/plain": [
       "   stop_date stop_time  country_name driver_gender  driver_age_raw  \\\n",
       "0   1/2/2005      1:55           NaN             M          1985.0   \n",
       "1  1/18/2005      8:15           NaN             M          1965.0   \n",
       "2  1/23/2005     23:15           NaN             M          1972.0   \n",
       "3  2/20/2005     17:15           NaN             M          1986.0   \n",
       "4  3/14/2005     10:00           NaN             F          1984.0   \n",
       "\n",
       "   driver_age driver_race     violation_raw violation  search_conducted  \\\n",
       "0        20.0       White          Speeding  Speeding             False   \n",
       "1        40.0       White          Speeding  Speeding             False   \n",
       "2        33.0       White          Speeding  Speeding             False   \n",
       "3        19.0       White  Call for Service     Other             False   \n",
       "4        21.0       White          Speeding  Speeding             False   \n",
       "\n",
       "  search_type   stop_outcome is_arrested stop_duration  drugs_related_stop  \n",
       "0         NaN       Citation       False      0-15 Min               False  \n",
       "1         NaN       Citation       False      0-15 Min               False  \n",
       "2         NaN       Citation       False      0-15 Min               False  \n",
       "3         NaN  Arrest Driver        True     16-30 Min               False  \n",
       "4         NaN       Citation       False      0-15 Min               False  "
      ]
     },
     "execution_count": 3,
     "metadata": {},
     "output_type": "execute_result"
    }
   ],
   "source": [
    "df.head()"
   ]
  },
  {
   "cell_type": "code",
   "execution_count": 4,
   "id": "b56fd111",
   "metadata": {},
   "outputs": [
    {
     "data": {
      "text/plain": [
       "(65535, 15)"
      ]
     },
     "execution_count": 4,
     "metadata": {},
     "output_type": "execute_result"
    }
   ],
   "source": [
    "df.shape"
   ]
  },
  {
   "cell_type": "code",
   "execution_count": 5,
   "id": "0ce69350",
   "metadata": {},
   "outputs": [
    {
     "data": {
      "text/html": [
       "<div>\n",
       "<style scoped>\n",
       "    .dataframe tbody tr th:only-of-type {\n",
       "        vertical-align: middle;\n",
       "    }\n",
       "\n",
       "    .dataframe tbody tr th {\n",
       "        vertical-align: top;\n",
       "    }\n",
       "\n",
       "    .dataframe thead th {\n",
       "        text-align: right;\n",
       "    }\n",
       "</style>\n",
       "<table border=\"1\" class=\"dataframe\">\n",
       "  <thead>\n",
       "    <tr style=\"text-align: right;\">\n",
       "      <th></th>\n",
       "      <th>stop_date</th>\n",
       "      <th>stop_time</th>\n",
       "      <th>country_name</th>\n",
       "      <th>driver_gender</th>\n",
       "      <th>driver_age_raw</th>\n",
       "      <th>driver_age</th>\n",
       "      <th>driver_race</th>\n",
       "      <th>violation_raw</th>\n",
       "      <th>violation</th>\n",
       "      <th>search_conducted</th>\n",
       "      <th>search_type</th>\n",
       "      <th>stop_outcome</th>\n",
       "      <th>is_arrested</th>\n",
       "      <th>stop_duration</th>\n",
       "      <th>drugs_related_stop</th>\n",
       "    </tr>\n",
       "  </thead>\n",
       "  <tbody>\n",
       "    <tr>\n",
       "      <th>count</th>\n",
       "      <td>65535</td>\n",
       "      <td>65535</td>\n",
       "      <td>0.0</td>\n",
       "      <td>61474</td>\n",
       "      <td>61481.000000</td>\n",
       "      <td>61228.000000</td>\n",
       "      <td>61475</td>\n",
       "      <td>61475</td>\n",
       "      <td>61475</td>\n",
       "      <td>65535</td>\n",
       "      <td>2479</td>\n",
       "      <td>61475</td>\n",
       "      <td>61475</td>\n",
       "      <td>61475</td>\n",
       "      <td>65535</td>\n",
       "    </tr>\n",
       "    <tr>\n",
       "      <th>unique</th>\n",
       "      <td>2651</td>\n",
       "      <td>1432</td>\n",
       "      <td>NaN</td>\n",
       "      <td>2</td>\n",
       "      <td>NaN</td>\n",
       "      <td>NaN</td>\n",
       "      <td>5</td>\n",
       "      <td>12</td>\n",
       "      <td>6</td>\n",
       "      <td>2</td>\n",
       "      <td>23</td>\n",
       "      <td>6</td>\n",
       "      <td>2</td>\n",
       "      <td>4</td>\n",
       "      <td>2</td>\n",
       "    </tr>\n",
       "    <tr>\n",
       "      <th>top</th>\n",
       "      <td>1/11/2012</td>\n",
       "      <td>11:00</td>\n",
       "      <td>NaN</td>\n",
       "      <td>M</td>\n",
       "      <td>NaN</td>\n",
       "      <td>NaN</td>\n",
       "      <td>White</td>\n",
       "      <td>Speeding</td>\n",
       "      <td>Speeding</td>\n",
       "      <td>False</td>\n",
       "      <td>Incident to Arrest</td>\n",
       "      <td>Citation</td>\n",
       "      <td>False</td>\n",
       "      <td>0-15 Min</td>\n",
       "      <td>False</td>\n",
       "    </tr>\n",
       "    <tr>\n",
       "      <th>freq</th>\n",
       "      <td>69</td>\n",
       "      <td>280</td>\n",
       "      <td>NaN</td>\n",
       "      <td>45164</td>\n",
       "      <td>NaN</td>\n",
       "      <td>NaN</td>\n",
       "      <td>45747</td>\n",
       "      <td>37204</td>\n",
       "      <td>37204</td>\n",
       "      <td>63056</td>\n",
       "      <td>1074</td>\n",
       "      <td>56564</td>\n",
       "      <td>59215</td>\n",
       "      <td>47379</td>\n",
       "      <td>65017</td>\n",
       "    </tr>\n",
       "    <tr>\n",
       "      <th>mean</th>\n",
       "      <td>NaN</td>\n",
       "      <td>NaN</td>\n",
       "      <td>NaN</td>\n",
       "      <td>NaN</td>\n",
       "      <td>1967.791106</td>\n",
       "      <td>34.148984</td>\n",
       "      <td>NaN</td>\n",
       "      <td>NaN</td>\n",
       "      <td>NaN</td>\n",
       "      <td>NaN</td>\n",
       "      <td>NaN</td>\n",
       "      <td>NaN</td>\n",
       "      <td>NaN</td>\n",
       "      <td>NaN</td>\n",
       "      <td>NaN</td>\n",
       "    </tr>\n",
       "    <tr>\n",
       "      <th>std</th>\n",
       "      <td>NaN</td>\n",
       "      <td>NaN</td>\n",
       "      <td>NaN</td>\n",
       "      <td>NaN</td>\n",
       "      <td>121.050106</td>\n",
       "      <td>12.760710</td>\n",
       "      <td>NaN</td>\n",
       "      <td>NaN</td>\n",
       "      <td>NaN</td>\n",
       "      <td>NaN</td>\n",
       "      <td>NaN</td>\n",
       "      <td>NaN</td>\n",
       "      <td>NaN</td>\n",
       "      <td>NaN</td>\n",
       "      <td>NaN</td>\n",
       "    </tr>\n",
       "    <tr>\n",
       "      <th>min</th>\n",
       "      <td>NaN</td>\n",
       "      <td>NaN</td>\n",
       "      <td>NaN</td>\n",
       "      <td>NaN</td>\n",
       "      <td>0.000000</td>\n",
       "      <td>15.000000</td>\n",
       "      <td>NaN</td>\n",
       "      <td>NaN</td>\n",
       "      <td>NaN</td>\n",
       "      <td>NaN</td>\n",
       "      <td>NaN</td>\n",
       "      <td>NaN</td>\n",
       "      <td>NaN</td>\n",
       "      <td>NaN</td>\n",
       "      <td>NaN</td>\n",
       "    </tr>\n",
       "    <tr>\n",
       "      <th>25%</th>\n",
       "      <td>NaN</td>\n",
       "      <td>NaN</td>\n",
       "      <td>NaN</td>\n",
       "      <td>NaN</td>\n",
       "      <td>1965.000000</td>\n",
       "      <td>23.000000</td>\n",
       "      <td>NaN</td>\n",
       "      <td>NaN</td>\n",
       "      <td>NaN</td>\n",
       "      <td>NaN</td>\n",
       "      <td>NaN</td>\n",
       "      <td>NaN</td>\n",
       "      <td>NaN</td>\n",
       "      <td>NaN</td>\n",
       "      <td>NaN</td>\n",
       "    </tr>\n",
       "    <tr>\n",
       "      <th>50%</th>\n",
       "      <td>NaN</td>\n",
       "      <td>NaN</td>\n",
       "      <td>NaN</td>\n",
       "      <td>NaN</td>\n",
       "      <td>1978.000000</td>\n",
       "      <td>31.000000</td>\n",
       "      <td>NaN</td>\n",
       "      <td>NaN</td>\n",
       "      <td>NaN</td>\n",
       "      <td>NaN</td>\n",
       "      <td>NaN</td>\n",
       "      <td>NaN</td>\n",
       "      <td>NaN</td>\n",
       "      <td>NaN</td>\n",
       "      <td>NaN</td>\n",
       "    </tr>\n",
       "    <tr>\n",
       "      <th>75%</th>\n",
       "      <td>NaN</td>\n",
       "      <td>NaN</td>\n",
       "      <td>NaN</td>\n",
       "      <td>NaN</td>\n",
       "      <td>1985.000000</td>\n",
       "      <td>43.000000</td>\n",
       "      <td>NaN</td>\n",
       "      <td>NaN</td>\n",
       "      <td>NaN</td>\n",
       "      <td>NaN</td>\n",
       "      <td>NaN</td>\n",
       "      <td>NaN</td>\n",
       "      <td>NaN</td>\n",
       "      <td>NaN</td>\n",
       "      <td>NaN</td>\n",
       "    </tr>\n",
       "    <tr>\n",
       "      <th>max</th>\n",
       "      <td>NaN</td>\n",
       "      <td>NaN</td>\n",
       "      <td>NaN</td>\n",
       "      <td>NaN</td>\n",
       "      <td>8801.000000</td>\n",
       "      <td>88.000000</td>\n",
       "      <td>NaN</td>\n",
       "      <td>NaN</td>\n",
       "      <td>NaN</td>\n",
       "      <td>NaN</td>\n",
       "      <td>NaN</td>\n",
       "      <td>NaN</td>\n",
       "      <td>NaN</td>\n",
       "      <td>NaN</td>\n",
       "      <td>NaN</td>\n",
       "    </tr>\n",
       "  </tbody>\n",
       "</table>\n",
       "</div>"
      ],
      "text/plain": [
       "        stop_date stop_time  country_name driver_gender  driver_age_raw  \\\n",
       "count       65535     65535           0.0         61474    61481.000000   \n",
       "unique       2651      1432           NaN             2             NaN   \n",
       "top     1/11/2012     11:00           NaN             M             NaN   \n",
       "freq           69       280           NaN         45164             NaN   \n",
       "mean          NaN       NaN           NaN           NaN     1967.791106   \n",
       "std           NaN       NaN           NaN           NaN      121.050106   \n",
       "min           NaN       NaN           NaN           NaN        0.000000   \n",
       "25%           NaN       NaN           NaN           NaN     1965.000000   \n",
       "50%           NaN       NaN           NaN           NaN     1978.000000   \n",
       "75%           NaN       NaN           NaN           NaN     1985.000000   \n",
       "max           NaN       NaN           NaN           NaN     8801.000000   \n",
       "\n",
       "          driver_age driver_race violation_raw violation search_conducted  \\\n",
       "count   61228.000000       61475         61475     61475            65535   \n",
       "unique           NaN           5            12         6                2   \n",
       "top              NaN       White      Speeding  Speeding            False   \n",
       "freq             NaN       45747         37204     37204            63056   \n",
       "mean       34.148984         NaN           NaN       NaN              NaN   \n",
       "std        12.760710         NaN           NaN       NaN              NaN   \n",
       "min        15.000000         NaN           NaN       NaN              NaN   \n",
       "25%        23.000000         NaN           NaN       NaN              NaN   \n",
       "50%        31.000000         NaN           NaN       NaN              NaN   \n",
       "75%        43.000000         NaN           NaN       NaN              NaN   \n",
       "max        88.000000         NaN           NaN       NaN              NaN   \n",
       "\n",
       "               search_type stop_outcome is_arrested stop_duration  \\\n",
       "count                 2479        61475       61475         61475   \n",
       "unique                  23            6           2             4   \n",
       "top     Incident to Arrest     Citation       False      0-15 Min   \n",
       "freq                  1074        56564       59215         47379   \n",
       "mean                   NaN          NaN         NaN           NaN   \n",
       "std                    NaN          NaN         NaN           NaN   \n",
       "min                    NaN          NaN         NaN           NaN   \n",
       "25%                    NaN          NaN         NaN           NaN   \n",
       "50%                    NaN          NaN         NaN           NaN   \n",
       "75%                    NaN          NaN         NaN           NaN   \n",
       "max                    NaN          NaN         NaN           NaN   \n",
       "\n",
       "       drugs_related_stop  \n",
       "count               65535  \n",
       "unique                  2  \n",
       "top                 False  \n",
       "freq                65017  \n",
       "mean                  NaN  \n",
       "std                   NaN  \n",
       "min                   NaN  \n",
       "25%                   NaN  \n",
       "50%                   NaN  \n",
       "75%                   NaN  \n",
       "max                   NaN  "
      ]
     },
     "execution_count": 5,
     "metadata": {},
     "output_type": "execute_result"
    }
   ],
   "source": [
    "df.describe(include='all')"
   ]
  },
  {
   "cell_type": "markdown",
   "id": "f19d132e",
   "metadata": {},
   "source": [
    "# stop_date    (converting stop_date to to_datetime)"
   ]
  },
  {
   "cell_type": "code",
   "execution_count": 6,
   "id": "c694d371",
   "metadata": {},
   "outputs": [],
   "source": [
    "df.stop_date=pd.to_datetime(df.stop_date)"
   ]
  },
  {
   "cell_type": "markdown",
   "id": "2ddc0fc3",
   "metadata": {},
   "source": [
    "# stop_time"
   ]
  },
  {
   "cell_type": "code",
   "execution_count": 7,
   "id": "8b9395d0",
   "metadata": {},
   "outputs": [],
   "source": [
    "#df.stop_time=pd.to_datetime(df.stop_time).dt.hour"
   ]
  },
  {
   "cell_type": "code",
   "execution_count": 8,
   "id": "027560ae",
   "metadata": {},
   "outputs": [],
   "source": [
    "df.drop('country_name',axis=1,inplace=True)"
   ]
  },
  {
   "cell_type": "code",
   "execution_count": 9,
   "id": "8f8700a1",
   "metadata": {},
   "outputs": [],
   "source": [
    "#df.search_type.value_counts()"
   ]
  },
  {
   "cell_type": "code",
   "execution_count": 10,
   "id": "800405c8",
   "metadata": {},
   "outputs": [],
   "source": [
    "mode=df.search_type.mode()[0]\n",
    "df.search_type=df.search_type.fillna(mode)"
   ]
  },
  {
   "cell_type": "code",
   "execution_count": 11,
   "id": "962a8eb9",
   "metadata": {},
   "outputs": [],
   "source": [
    "df.dropna(inplace=True)"
   ]
  },
  {
   "cell_type": "code",
   "execution_count": 12,
   "id": "89ddd9ed",
   "metadata": {},
   "outputs": [],
   "source": [
    "df.drop('driver_age_raw',axis=1,inplace=True) #deleting because we already have age related column"
   ]
  },
  {
   "cell_type": "code",
   "execution_count": 13,
   "id": "b26936d7",
   "metadata": {},
   "outputs": [],
   "source": [
    "df.drop('violation_raw',axis=1,inplace=True) ##deleting because we already have violation related column"
   ]
  },
  {
   "cell_type": "markdown",
   "id": "3cb87c85",
   "metadata": {},
   "source": [
    "# driver_gender"
   ]
  },
  {
   "cell_type": "code",
   "execution_count": 14,
   "id": "ee9fa7b9",
   "metadata": {},
   "outputs": [
    {
     "name": "stderr",
     "output_type": "stream",
     "text": [
      "C:\\Users\\jonah\\anaconda3\\lib\\site-packages\\seaborn\\_decorators.py:36: FutureWarning: Pass the following variable as a keyword arg: x. From version 0.12, the only valid positional argument will be `data`, and passing other arguments without an explicit keyword will result in an error or misinterpretation.\n",
      "  warnings.warn(\n"
     ]
    },
    {
     "data": {
      "text/plain": [
       "<AxesSubplot:xlabel='driver_gender', ylabel='count'>"
      ]
     },
     "execution_count": 14,
     "metadata": {},
     "output_type": "execute_result"
    },
    {
     "data": {
      "image/png": "[encoded data removed]",
      "text/plain": [
       "<Figure size 432x288 with 1 Axes>"
      ]
     },
     "metadata": {
      "needs_background": "light"
     },
     "output_type": "display_data"
    }
   ],
   "source": [
    "sns.countplot(df.driver_gender,hue=df.is_arrested)"
   ]
  },
  {
   "cell_type": "markdown",
   "id": "9e2700fa",
   "metadata": {},
   "source": [
    "# driver_age"
   ]
  },
  {
   "cell_type": "code",
   "execution_count": 15,
   "id": "0cfa09cc",
   "metadata": {},
   "outputs": [
    {
     "name": "stderr",
     "output_type": "stream",
     "text": [
      "C:\\Users\\jonah\\anaconda3\\lib\\site-packages\\seaborn\\distributions.py:2619: FutureWarning: `distplot` is a deprecated function and will be removed in a future version. Please adapt your code to use either `displot` (a figure-level function with similar flexibility) or `histplot` (an axes-level function for histograms).\n",
      "  warnings.warn(msg, FutureWarning)\n"
     ]
    },
    {
     "data": {
      "text/plain": [
       "<AxesSubplot:xlabel='driver_age', ylabel='Density'>"
      ]
     },
     "execution_count": 15,
     "metadata": {},
     "output_type": "execute_result"
    },
    {
     "data": {
      "image/png": "[encoded data removed]",
      "text/plain": [
       "<Figure size 432x288 with 1 Axes>"
      ]
     },
     "metadata": {
      "needs_background": "light"
     },
     "output_type": "display_data"
    }
   ],
   "source": [
    "sns.distplot(df.driver_age)"
   ]
  },
  {
   "cell_type": "code",
   "execution_count": 16,
   "id": "49bb6a6d",
   "metadata": {},
   "outputs": [
    {
     "name": "stderr",
     "output_type": "stream",
     "text": [
      "C:\\Users\\jonah\\anaconda3\\lib\\site-packages\\seaborn\\_decorators.py:36: FutureWarning: Pass the following variable as a keyword arg: x. From version 0.12, the only valid positional argument will be `data`, and passing other arguments without an explicit keyword will result in an error or misinterpretation.\n",
      "  warnings.warn(\n"
     ]
    },
    {
     "data": {
      "text/plain": [
       "<AxesSubplot:xlabel='driver_age'>"
      ]
     },
     "execution_count": 16,
     "metadata": {},
     "output_type": "execute_result"
    },
    {
     "data": {
      "image/png": "[encoded data removed]",
      "text/plain": [
       "<Figure size 432x288 with 1 Axes>"
      ]
     },
     "metadata": {
      "needs_background": "light"
     },
     "output_type": "display_data"
    }
   ],
   "source": [
    "sns.boxplot(df.driver_age)"
   ]
  },
  {
   "cell_type": "code",
   "execution_count": 17,
   "id": "d0093e61",
   "metadata": {},
   "outputs": [],
   "source": [
    "q1=df.driver_age.quantile(0.25)\n",
    "q3=df.driver_age.quantile(0.75)\n",
    "iqr=q3-q1\n",
    "upper=q3+(1.5*iqr)\n"
   ]
  },
  {
   "cell_type": "code",
   "execution_count": 18,
   "id": "26001c8d",
   "metadata": {},
   "outputs": [],
   "source": [
    "df.drop(df[df.driver_age > upper].index,inplace=True,axis=0)"
   ]
  },
  {
   "cell_type": "markdown",
   "id": "1d8c95ca",
   "metadata": {},
   "source": [
    "# driver_race"
   ]
  },
  {
   "cell_type": "code",
   "execution_count": 19,
   "id": "ae8246b1",
   "metadata": {},
   "outputs": [
    {
     "name": "stderr",
     "output_type": "stream",
     "text": [
      "C:\\Users\\jonah\\anaconda3\\lib\\site-packages\\seaborn\\_decorators.py:36: FutureWarning: Pass the following variable as a keyword arg: x. From version 0.12, the only valid positional argument will be `data`, and passing other arguments without an explicit keyword will result in an error or misinterpretation.\n",
      "  warnings.warn(\n"
     ]
    },
    {
     "data": {
      "text/plain": [
       "<AxesSubplot:xlabel='driver_race', ylabel='count'>"
      ]
     },
     "execution_count": 19,
     "metadata": {},
     "output_type": "execute_result"
    },
    {
     "data": {
      "image/png": "[encoded data removed]",
      "text/plain": [
       "<Figure size 432x288 with 1 Axes>"
      ]
     },
     "metadata": {
      "needs_background": "light"
     },
     "output_type": "display_data"
    }
   ],
   "source": [
    "sns.countplot(df.driver_race,hue=df.is_arrested)"
   ]
  },
  {
   "cell_type": "markdown",
   "id": "b38cd0f5",
   "metadata": {},
   "source": [
    "# violation  (target variable)"
   ]
  },
  {
   "cell_type": "code",
   "execution_count": 20,
   "id": "1dce758d",
   "metadata": {},
   "outputs": [
    {
     "name": "stderr",
     "output_type": "stream",
     "text": [
      "C:\\Users\\jonah\\anaconda3\\lib\\site-packages\\seaborn\\_decorators.py:36: FutureWarning: Pass the following variable as a keyword arg: x. From version 0.12, the only valid positional argument will be `data`, and passing other arguments without an explicit keyword will result in an error or misinterpretation.\n",
      "  warnings.warn(\n"
     ]
    },
    {
     "data": {
      "text/plain": [
       "<AxesSubplot:xlabel='violation', ylabel='count'>"
      ]
     },
     "execution_count": 20,
     "metadata": {},
     "output_type": "execute_result"
    },
    {
     "data": {
      "image/png": "[encoded data removed]",
      "text/plain": [
       "<Figure size 720x360 with 1 Axes>"
      ]
     },
     "metadata": {
      "needs_background": "light"
     },
     "output_type": "display_data"
    }
   ],
   "source": [
    "plt.figure(figsize=(10, 5))\n",
    "sns.countplot(df.violation,hue=df.is_arrested)"
   ]
  },
  {
   "cell_type": "markdown",
   "id": "cffcb670",
   "metadata": {},
   "source": [
    "# search_conducted"
   ]
  },
  {
   "cell_type": "code",
   "execution_count": 21,
   "id": "c8cba27f",
   "metadata": {},
   "outputs": [
    {
     "name": "stderr",
     "output_type": "stream",
     "text": [
      "C:\\Users\\jonah\\anaconda3\\lib\\site-packages\\seaborn\\_decorators.py:36: FutureWarning: Pass the following variable as a keyword arg: x. From version 0.12, the only valid positional argument will be `data`, and passing other arguments without an explicit keyword will result in an error or misinterpretation.\n",
      "  warnings.warn(\n"
     ]
    },
    {
     "data": {
      "text/plain": [
       "<AxesSubplot:xlabel='search_conducted', ylabel='count'>"
      ]
     },
     "execution_count": 21,
     "metadata": {},
     "output_type": "execute_result"
    },
    {
     "data": {
      "image/png": "[encoded data removed]",
      "text/plain": [
       "<Figure size 432x288 with 1 Axes>"
      ]
     },
     "metadata": {
      "needs_background": "light"
     },
     "output_type": "display_data"
    }
   ],
   "source": [
    "sns.countplot(df.search_conducted,hue=df.violation)"
   ]
  },
  {
   "cell_type": "markdown",
   "id": "9f61b779",
   "metadata": {},
   "source": [
    "# search_type"
   ]
  },
  {
   "cell_type": "code",
   "execution_count": 22,
   "id": "dbd96942",
   "metadata": {},
   "outputs": [],
   "source": [
    "df.drop('search_type',axis=1,inplace=True)"
   ]
  },
  {
   "cell_type": "markdown",
   "id": "5960e3b4",
   "metadata": {},
   "source": [
    "# stop_outcome"
   ]
  },
  {
   "cell_type": "code",
   "execution_count": 23,
   "id": "75bb602f",
   "metadata": {},
   "outputs": [
    {
     "name": "stderr",
     "output_type": "stream",
     "text": [
      "C:\\Users\\jonah\\anaconda3\\lib\\site-packages\\seaborn\\_decorators.py:36: FutureWarning: Pass the following variable as a keyword arg: x. From version 0.12, the only valid positional argument will be `data`, and passing other arguments without an explicit keyword will result in an error or misinterpretation.\n",
      "  warnings.warn(\n"
     ]
    },
    {
     "data": {
      "text/plain": [
       "<AxesSubplot:xlabel='stop_outcome', ylabel='count'>"
      ]
     },
     "execution_count": 23,
     "metadata": {},
     "output_type": "execute_result"
    },
    {
     "data": {
      "image/png": "[encoded data removed]",
      "text/plain": [
       "<Figure size 432x288 with 1 Axes>"
      ]
     },
     "metadata": {
      "needs_background": "light"
     },
     "output_type": "display_data"
    }
   ],
   "source": [
    "plt.xticks(rotation=90)\n",
    "sns.countplot(df.stop_outcome)"
   ]
  },
  {
   "cell_type": "markdown",
   "id": "f431156d",
   "metadata": {},
   "source": [
    "# is_arrested"
   ]
  },
  {
   "cell_type": "code",
   "execution_count": 24,
   "id": "005551c6",
   "metadata": {},
   "outputs": [
    {
     "name": "stderr",
     "output_type": "stream",
     "text": [
      "C:\\Users\\jonah\\anaconda3\\lib\\site-packages\\seaborn\\_decorators.py:36: FutureWarning: Pass the following variable as a keyword arg: x. From version 0.12, the only valid positional argument will be `data`, and passing other arguments without an explicit keyword will result in an error or misinterpretation.\n",
      "  warnings.warn(\n"
     ]
    },
    {
     "data": {
      "text/plain": [
       "<AxesSubplot:xlabel='is_arrested', ylabel='count'>"
      ]
     },
     "execution_count": 24,
     "metadata": {},
     "output_type": "execute_result"
    },
    {
     "data": {
      "image/png": "[encoded data removed]",
      "text/plain": [
       "<Figure size 432x288 with 1 Axes>"
      ]
     },
     "metadata": {
      "needs_background": "light"
     },
     "output_type": "display_data"
    }
   ],
   "source": [
    "sns.countplot(df.is_arrested,hue=df.violation)"
   ]
  },
  {
   "cell_type": "code",
   "execution_count": 25,
   "id": "3287cba8",
   "metadata": {},
   "outputs": [
    {
     "data": {
      "text/plain": [
       "False    58776\n",
       "True      2253\n",
       "Name: is_arrested, dtype: int64"
      ]
     },
     "execution_count": 25,
     "metadata": {},
     "output_type": "execute_result"
    }
   ],
   "source": [
    "df.is_arrested.value_counts()"
   ]
  },
  {
   "cell_type": "markdown",
   "id": "385f37f1",
   "metadata": {},
   "source": [
    "# stop_duration"
   ]
  },
  {
   "cell_type": "code",
   "execution_count": 26,
   "id": "81fae727",
   "metadata": {},
   "outputs": [
    {
     "data": {
      "text/plain": [
       "0-15 Min     47048\n",
       "16-30 Min    11349\n",
       "30+ Min       2631\n",
       "2                1\n",
       "Name: stop_duration, dtype: int64"
      ]
     },
     "execution_count": 26,
     "metadata": {},
     "output_type": "execute_result"
    }
   ],
   "source": [
    "df.stop_duration.value_counts()"
   ]
  },
  {
   "cell_type": "code",
   "execution_count": 27,
   "id": "bc696fcb",
   "metadata": {},
   "outputs": [],
   "source": [
    "#we need to convert this column to int.i took the int as average of these range."
   ]
  },
  {
   "cell_type": "code",
   "execution_count": 28,
   "id": "e133f159",
   "metadata": {},
   "outputs": [],
   "source": [
    "df['stop_duration'] = df['stop_duration'].replace({'2': '120','30+ Min':'30','16-30 Min':'15','0-15 Min':'8'})"
   ]
  },
  {
   "cell_type": "code",
   "execution_count": 29,
   "id": "6c6e7611",
   "metadata": {},
   "outputs": [],
   "source": [
    "df['stop_duration'] = df['stop_duration'].astype(int) #convering to int"
   ]
  },
  {
   "cell_type": "code",
   "execution_count": 30,
   "id": "1a4db19e",
   "metadata": {},
   "outputs": [
    {
     "name": "stderr",
     "output_type": "stream",
     "text": [
      "C:\\Users\\jonah\\anaconda3\\lib\\site-packages\\seaborn\\_decorators.py:36: FutureWarning: Pass the following variable as a keyword arg: x. From version 0.12, the only valid positional argument will be `data`, and passing other arguments without an explicit keyword will result in an error or misinterpretation.\n",
      "  warnings.warn(\n"
     ]
    },
    {
     "data": {
      "text/plain": [
       "<AxesSubplot:xlabel='stop_duration', ylabel='count'>"
      ]
     },
     "execution_count": 30,
     "metadata": {},
     "output_type": "execute_result"
    },
    {
     "data": {
      "image/png": "[encoded data removed]",
      "text/plain": [
       "<Figure size 432x288 with 1 Axes>"
      ]
     },
     "metadata": {
      "needs_background": "light"
     },
     "output_type": "display_data"
    }
   ],
   "source": [
    "sns.countplot(df.stop_duration,hue=df.is_arrested)"
   ]
  },
  {
   "cell_type": "code",
   "execution_count": 31,
   "id": "d09b00c4",
   "metadata": {},
   "outputs": [
    {
     "name": "stderr",
     "output_type": "stream",
     "text": [
      "C:\\Users\\jonah\\anaconda3\\lib\\site-packages\\seaborn\\_decorators.py:36: FutureWarning: Pass the following variable as a keyword arg: x. From version 0.12, the only valid positional argument will be `data`, and passing other arguments without an explicit keyword will result in an error or misinterpretation.\n",
      "  warnings.warn(\n"
     ]
    },
    {
     "data": {
      "text/plain": [
       "<AxesSubplot:xlabel='stop_duration', ylabel='count'>"
      ]
     },
     "execution_count": 31,
     "metadata": {},
     "output_type": "execute_result"
    },
    {
     "data": {
      "image/png": "[encoded data removed]",
      "text/plain": [
       "<Figure size 432x288 with 1 Axes>"
      ]
     },
     "metadata": {
      "needs_background": "light"
     },
     "output_type": "display_data"
    }
   ],
   "source": [
    "sns.countplot(df.stop_duration,hue=df.violation)"
   ]
  },
  {
   "cell_type": "code",
   "execution_count": 32,
   "id": "a8c34b94",
   "metadata": {},
   "outputs": [
    {
     "name": "stdout",
     "output_type": "stream",
     "text": [
      "<class 'pandas.core.frame.DataFrame'>\n",
      "Int64Index: 61029 entries, 0 to 65534\n",
      "Data columns (total 11 columns):\n",
      " #   Column              Non-Null Count  Dtype         \n",
      "---  ------              --------------  -----         \n",
      " 0   stop_date           61029 non-null  datetime64[ns]\n",
      " 1   stop_time           61029 non-null  object        \n",
      " 2   driver_gender       61029 non-null  object        \n",
      " 3   driver_age          61029 non-null  float64       \n",
      " 4   driver_race         61029 non-null  object        \n",
      " 5   violation           61029 non-null  object        \n",
      " 6   search_conducted    61029 non-null  bool          \n",
      " 7   stop_outcome        61029 non-null  object        \n",
      " 8   is_arrested         61029 non-null  object        \n",
      " 9   stop_duration       61029 non-null  int32         \n",
      " 10  drugs_related_stop  61029 non-null  bool          \n",
      "dtypes: bool(2), datetime64[ns](1), float64(1), int32(1), object(6)\n",
      "memory usage: 4.5+ MB\n"
     ]
    }
   ],
   "source": [
    "df.info()"
   ]
  },
  {
   "cell_type": "markdown",
   "id": "2bb1dfec",
   "metadata": {},
   "source": [
    "# drugs_related_stop"
   ]
  },
  {
   "cell_type": "code",
   "execution_count": 33,
   "id": "9c5c03b6",
   "metadata": {},
   "outputs": [
    {
     "data": {
      "text/plain": [
       "False    60511\n",
       "True       518\n",
       "Name: drugs_related_stop, dtype: int64"
      ]
     },
     "execution_count": 33,
     "metadata": {},
     "output_type": "execute_result"
    }
   ],
   "source": [
    "df.drugs_related_stop.value_counts()"
   ]
  },
  {
   "cell_type": "code",
   "execution_count": 34,
   "id": "f2bcc91b",
   "metadata": {
    "scrolled": true
   },
   "outputs": [
    {
     "name": "stderr",
     "output_type": "stream",
     "text": [
      "C:\\Users\\jonah\\anaconda3\\lib\\site-packages\\seaborn\\_decorators.py:36: FutureWarning: Pass the following variable as a keyword arg: x. From version 0.12, the only valid positional argument will be `data`, and passing other arguments without an explicit keyword will result in an error or misinterpretation.\n",
      "  warnings.warn(\n"
     ]
    },
    {
     "data": {
      "text/plain": [
       "<AxesSubplot:xlabel='drugs_related_stop', ylabel='count'>"
      ]
     },
     "execution_count": 34,
     "metadata": {},
     "output_type": "execute_result"
    },
    {
     "data": {
      "image/png": "[encoded data removed]",
      "text/plain": [
       "<Figure size 432x288 with 1 Axes>"
      ]
     },
     "metadata": {
      "needs_background": "light"
     },
     "output_type": "display_data"
    }
   ],
   "source": [
    "sns.countplot(df.drugs_related_stop,hue=df.violation)"
   ]
  },
  {
   "cell_type": "code",
   "execution_count": 35,
   "id": "e77ac256",
   "metadata": {},
   "outputs": [],
   "source": [
    "df['year']=df['stop_date'].dt.year"
   ]
  },
  {
   "cell_type": "code",
   "execution_count": 36,
   "id": "5dba5013",
   "metadata": {},
   "outputs": [],
   "source": [
    "df['month']=df['stop_date'].dt.month"
   ]
  },
  {
   "cell_type": "code",
   "execution_count": 37,
   "id": "da3cab75",
   "metadata": {},
   "outputs": [],
   "source": [
    "df.drop('stop_date',axis=1,inplace=True)"
   ]
  },
  {
   "cell_type": "code",
   "execution_count": 38,
   "id": "3040a608",
   "metadata": {},
   "outputs": [],
   "source": [
    "def get_hour(time_string):\n",
    "    return time_string.split(':')[0]"
   ]
  },
  {
   "cell_type": "code",
   "execution_count": 39,
   "id": "bcdf1a06",
   "metadata": {},
   "outputs": [],
   "source": [
    "df['stop_time'] = df['stop_time'].apply(get_hour)"
   ]
  },
  {
   "cell_type": "code",
   "execution_count": 40,
   "id": "0bcf6a06",
   "metadata": {},
   "outputs": [],
   "source": [
    "#df['stoptime'] = pd.to_datetime(df['stop_time'],format = '%H')"
   ]
  },
  {
   "cell_type": "code",
   "execution_count": 41,
   "id": "fe47c755",
   "metadata": {},
   "outputs": [
    {
     "data": {
      "text/html": [
       "<div>\n",
       "<style scoped>\n",
       "    .dataframe tbody tr th:only-of-type {\n",
       "        vertical-align: middle;\n",
       "    }\n",
       "\n",
       "    .dataframe tbody tr th {\n",
       "        vertical-align: top;\n",
       "    }\n",
       "\n",
       "    .dataframe thead th {\n",
       "        text-align: right;\n",
       "    }\n",
       "</style>\n",
       "<table border=\"1\" class=\"dataframe\">\n",
       "  <thead>\n",
       "    <tr style=\"text-align: right;\">\n",
       "      <th></th>\n",
       "      <th>stop_time</th>\n",
       "      <th>driver_gender</th>\n",
       "      <th>driver_age</th>\n",
       "      <th>driver_race</th>\n",
       "      <th>violation</th>\n",
       "      <th>search_conducted</th>\n",
       "      <th>stop_outcome</th>\n",
       "      <th>is_arrested</th>\n",
       "      <th>stop_duration</th>\n",
       "      <th>drugs_related_stop</th>\n",
       "      <th>year</th>\n",
       "      <th>month</th>\n",
       "    </tr>\n",
       "  </thead>\n",
       "  <tbody>\n",
       "    <tr>\n",
       "      <th>0</th>\n",
       "      <td>1</td>\n",
       "      <td>M</td>\n",
       "      <td>20.0</td>\n",
       "      <td>White</td>\n",
       "      <td>Speeding</td>\n",
       "      <td>False</td>\n",
       "      <td>Citation</td>\n",
       "      <td>False</td>\n",
       "      <td>8</td>\n",
       "      <td>False</td>\n",
       "      <td>2005</td>\n",
       "      <td>1</td>\n",
       "    </tr>\n",
       "    <tr>\n",
       "      <th>1</th>\n",
       "      <td>8</td>\n",
       "      <td>M</td>\n",
       "      <td>40.0</td>\n",
       "      <td>White</td>\n",
       "      <td>Speeding</td>\n",
       "      <td>False</td>\n",
       "      <td>Citation</td>\n",
       "      <td>False</td>\n",
       "      <td>8</td>\n",
       "      <td>False</td>\n",
       "      <td>2005</td>\n",
       "      <td>1</td>\n",
       "    </tr>\n",
       "    <tr>\n",
       "      <th>2</th>\n",
       "      <td>23</td>\n",
       "      <td>M</td>\n",
       "      <td>33.0</td>\n",
       "      <td>White</td>\n",
       "      <td>Speeding</td>\n",
       "      <td>False</td>\n",
       "      <td>Citation</td>\n",
       "      <td>False</td>\n",
       "      <td>8</td>\n",
       "      <td>False</td>\n",
       "      <td>2005</td>\n",
       "      <td>1</td>\n",
       "    </tr>\n",
       "    <tr>\n",
       "      <th>3</th>\n",
       "      <td>17</td>\n",
       "      <td>M</td>\n",
       "      <td>19.0</td>\n",
       "      <td>White</td>\n",
       "      <td>Other</td>\n",
       "      <td>False</td>\n",
       "      <td>Arrest Driver</td>\n",
       "      <td>True</td>\n",
       "      <td>15</td>\n",
       "      <td>False</td>\n",
       "      <td>2005</td>\n",
       "      <td>2</td>\n",
       "    </tr>\n",
       "    <tr>\n",
       "      <th>4</th>\n",
       "      <td>10</td>\n",
       "      <td>F</td>\n",
       "      <td>21.0</td>\n",
       "      <td>White</td>\n",
       "      <td>Speeding</td>\n",
       "      <td>False</td>\n",
       "      <td>Citation</td>\n",
       "      <td>False</td>\n",
       "      <td>8</td>\n",
       "      <td>False</td>\n",
       "      <td>2005</td>\n",
       "      <td>3</td>\n",
       "    </tr>\n",
       "  </tbody>\n",
       "</table>\n",
       "</div>"
      ],
      "text/plain": [
       "  stop_time driver_gender  driver_age driver_race violation  search_conducted  \\\n",
       "0         1             M        20.0       White  Speeding             False   \n",
       "1         8             M        40.0       White  Speeding             False   \n",
       "2        23             M        33.0       White  Speeding             False   \n",
       "3        17             M        19.0       White     Other             False   \n",
       "4        10             F        21.0       White  Speeding             False   \n",
       "\n",
       "    stop_outcome is_arrested  stop_duration  drugs_related_stop  year  month  \n",
       "0       Citation       False              8               False  2005      1  \n",
       "1       Citation       False              8               False  2005      1  \n",
       "2       Citation       False              8               False  2005      1  \n",
       "3  Arrest Driver        True             15               False  2005      2  \n",
       "4       Citation       False              8               False  2005      3  "
      ]
     },
     "execution_count": 41,
     "metadata": {},
     "output_type": "execute_result"
    }
   ],
   "source": [
    "df.head()"
   ]
  },
  {
   "cell_type": "markdown",
   "id": "604d6d39",
   "metadata": {},
   "source": [
    "# chisquare\n"
   ]
  },
  {
   "cell_type": "code",
   "execution_count": 42,
   "id": "6a959a0f",
   "metadata": {},
   "outputs": [],
   "source": [
    "from scipy.stats import chi2_contingency"
   ]
  },
  {
   "cell_type": "code",
   "execution_count": 43,
   "id": "2cd00b7d",
   "metadata": {},
   "outputs": [
    {
     "data": {
      "text/plain": [
       "1.4453579076388324e-280"
      ]
     },
     "execution_count": 43,
     "metadata": {},
     "output_type": "execute_result"
    }
   ],
   "source": [
    "#driver_gender\n",
    "a=pd.crosstab(df.violation,df.driver_gender)\n",
    "chi2_contingency(a)[1]   #less than 0.05"
   ]
  },
  {
   "cell_type": "code",
   "execution_count": 44,
   "id": "0f92ad10",
   "metadata": {},
   "outputs": [
    {
     "data": {
      "text/plain": [
       "0.0"
      ]
     },
     "execution_count": 44,
     "metadata": {},
     "output_type": "execute_result"
    }
   ],
   "source": [
    "#driver_race\n",
    "a=pd.crosstab(df.violation,df.driver_race)\n",
    "chi2_contingency(a)[1]   #less than 0.05"
   ]
  },
  {
   "cell_type": "code",
   "execution_count": 45,
   "id": "4feaaf4e",
   "metadata": {},
   "outputs": [
    {
     "data": {
      "text/plain": [
       "1.8333499225270287e-256"
      ]
     },
     "execution_count": 45,
     "metadata": {},
     "output_type": "execute_result"
    }
   ],
   "source": [
    "#search_conducted\n",
    "a=pd.crosstab(df.violation,df.search_conducted)\n",
    "chi2_contingency(a)[1]   #less than 0.05"
   ]
  },
  {
   "cell_type": "code",
   "execution_count": 46,
   "id": "8d61dc53",
   "metadata": {},
   "outputs": [
    {
     "data": {
      "text/plain": [
       "0.0"
      ]
     },
     "execution_count": 46,
     "metadata": {},
     "output_type": "execute_result"
    }
   ],
   "source": [
    "#stop_outcome\n",
    "a=pd.crosstab(df.violation,df.stop_outcome)\n",
    "chi2_contingency(a)[1]   #less than 0.05"
   ]
  },
  {
   "cell_type": "code",
   "execution_count": 47,
   "id": "24568245",
   "metadata": {},
   "outputs": [
    {
     "data": {
      "text/plain": [
       "0.0"
      ]
     },
     "execution_count": 47,
     "metadata": {},
     "output_type": "execute_result"
    }
   ],
   "source": [
    "#is_arrested\n",
    "a=pd.crosstab(df.violation,df.is_arrested)\n",
    "chi2_contingency(a)[1]   #less than 0.05"
   ]
  },
  {
   "cell_type": "code",
   "execution_count": 48,
   "id": "aa1910e9",
   "metadata": {},
   "outputs": [
    {
     "data": {
      "text/plain": [
       "4.1484779996856094e-43"
      ]
     },
     "execution_count": 48,
     "metadata": {},
     "output_type": "execute_result"
    }
   ],
   "source": [
    "#drugs_related_stop\n",
    "a=pd.crosstab(df.violation,df.drugs_related_stop)\n",
    "chi2_contingency(a)[1]   #less than 0.05"
   ]
  },
  {
   "cell_type": "code",
   "execution_count": 49,
   "id": "1c1c8018",
   "metadata": {},
   "outputs": [
    {
     "data": {
      "text/plain": [
       "0.0"
      ]
     },
     "execution_count": 49,
     "metadata": {},
     "output_type": "execute_result"
    }
   ],
   "source": [
    "#year\n",
    "a=pd.crosstab(df.violation,df.year)\n",
    "chi2_contingency(a)[1]   #less than 0.05"
   ]
  },
  {
   "cell_type": "code",
   "execution_count": 50,
   "id": "c0d75feb",
   "metadata": {},
   "outputs": [
    {
     "data": {
      "text/plain": [
       "8.777206148056804e-23"
      ]
     },
     "execution_count": 50,
     "metadata": {},
     "output_type": "execute_result"
    }
   ],
   "source": [
    "#month\n",
    "a=pd.crosstab(df.violation,df.month)\n",
    "chi2_contingency(a)[1]   #less than 0.05"
   ]
  },
  {
   "cell_type": "markdown",
   "id": "373250b7",
   "metadata": {},
   "source": [
    "# ANOVA"
   ]
  },
  {
   "cell_type": "code",
   "execution_count": 51,
   "id": "3fa3b0bd",
   "metadata": {},
   "outputs": [],
   "source": [
    "import statsmodels.api as sm\n",
    "from statsmodels.formula.api import ols\n",
    "from statsmodels.stats.multicomp import pairwise_tukeyhsd"
   ]
  },
  {
   "cell_type": "code",
   "execution_count": 52,
   "id": "465ddd6c",
   "metadata": {},
   "outputs": [],
   "source": [
    "#convert drivesr age to float\n",
    "df['driver_age']=df['driver_age'].astype(float)"
   ]
  },
  {
   "cell_type": "code",
   "execution_count": 53,
   "id": "f3cac52a",
   "metadata": {},
   "outputs": [
    {
     "name": "stdout",
     "output_type": "stream",
     "text": [
      "                df        sum_sq      mean_sq         F  PR(>F)\n",
      "violation      5.0  2.792521e+05  55850.41306  365.4045     0.0\n",
      "Residual   61023.0  9.327088e+06    152.84544       NaN     NaN\n"
     ]
    }
   ],
   "source": [
    "model = ols('driver_age ~ violation', data = df).fit()\n",
    "anova = sm.stats.anova_lm(model, type = 2)\n",
    "print(anova.round(decimals=5))"
   ]
  },
  {
   "cell_type": "code",
   "execution_count": 54,
   "id": "df8ac47a",
   "metadata": {},
   "outputs": [
    {
     "data": {
      "text/html": [
       "<div>\n",
       "<style scoped>\n",
       "    .dataframe tbody tr th:only-of-type {\n",
       "        vertical-align: middle;\n",
       "    }\n",
       "\n",
       "    .dataframe tbody tr th {\n",
       "        vertical-align: top;\n",
       "    }\n",
       "\n",
       "    .dataframe thead th {\n",
       "        text-align: right;\n",
       "    }\n",
       "</style>\n",
       "<table border=\"1\" class=\"dataframe\">\n",
       "  <thead>\n",
       "    <tr style=\"text-align: right;\">\n",
       "      <th></th>\n",
       "      <th>stop_time</th>\n",
       "      <th>driver_gender</th>\n",
       "      <th>driver_age</th>\n",
       "      <th>driver_race</th>\n",
       "      <th>violation</th>\n",
       "      <th>search_conducted</th>\n",
       "      <th>stop_outcome</th>\n",
       "      <th>is_arrested</th>\n",
       "      <th>stop_duration</th>\n",
       "      <th>drugs_related_stop</th>\n",
       "      <th>year</th>\n",
       "      <th>month</th>\n",
       "    </tr>\n",
       "  </thead>\n",
       "  <tbody>\n",
       "    <tr>\n",
       "      <th>0</th>\n",
       "      <td>1</td>\n",
       "      <td>M</td>\n",
       "      <td>20.0</td>\n",
       "      <td>White</td>\n",
       "      <td>Speeding</td>\n",
       "      <td>False</td>\n",
       "      <td>Citation</td>\n",
       "      <td>False</td>\n",
       "      <td>8</td>\n",
       "      <td>False</td>\n",
       "      <td>2005</td>\n",
       "      <td>1</td>\n",
       "    </tr>\n",
       "    <tr>\n",
       "      <th>1</th>\n",
       "      <td>8</td>\n",
       "      <td>M</td>\n",
       "      <td>40.0</td>\n",
       "      <td>White</td>\n",
       "      <td>Speeding</td>\n",
       "      <td>False</td>\n",
       "      <td>Citation</td>\n",
       "      <td>False</td>\n",
       "      <td>8</td>\n",
       "      <td>False</td>\n",
       "      <td>2005</td>\n",
       "      <td>1</td>\n",
       "    </tr>\n",
       "    <tr>\n",
       "      <th>2</th>\n",
       "      <td>23</td>\n",
       "      <td>M</td>\n",
       "      <td>33.0</td>\n",
       "      <td>White</td>\n",
       "      <td>Speeding</td>\n",
       "      <td>False</td>\n",
       "      <td>Citation</td>\n",
       "      <td>False</td>\n",
       "      <td>8</td>\n",
       "      <td>False</td>\n",
       "      <td>2005</td>\n",
       "      <td>1</td>\n",
       "    </tr>\n",
       "    <tr>\n",
       "      <th>3</th>\n",
       "      <td>17</td>\n",
       "      <td>M</td>\n",
       "      <td>19.0</td>\n",
       "      <td>White</td>\n",
       "      <td>Other</td>\n",
       "      <td>False</td>\n",
       "      <td>Arrest Driver</td>\n",
       "      <td>True</td>\n",
       "      <td>15</td>\n",
       "      <td>False</td>\n",
       "      <td>2005</td>\n",
       "      <td>2</td>\n",
       "    </tr>\n",
       "    <tr>\n",
       "      <th>4</th>\n",
       "      <td>10</td>\n",
       "      <td>F</td>\n",
       "      <td>21.0</td>\n",
       "      <td>White</td>\n",
       "      <td>Speeding</td>\n",
       "      <td>False</td>\n",
       "      <td>Citation</td>\n",
       "      <td>False</td>\n",
       "      <td>8</td>\n",
       "      <td>False</td>\n",
       "      <td>2005</td>\n",
       "      <td>3</td>\n",
       "    </tr>\n",
       "  </tbody>\n",
       "</table>\n",
       "</div>"
      ],
      "text/plain": [
       "  stop_time driver_gender  driver_age driver_race violation  search_conducted  \\\n",
       "0         1             M        20.0       White  Speeding             False   \n",
       "1         8             M        40.0       White  Speeding             False   \n",
       "2        23             M        33.0       White  Speeding             False   \n",
       "3        17             M        19.0       White     Other             False   \n",
       "4        10             F        21.0       White  Speeding             False   \n",
       "\n",
       "    stop_outcome is_arrested  stop_duration  drugs_related_stop  year  month  \n",
       "0       Citation       False              8               False  2005      1  \n",
       "1       Citation       False              8               False  2005      1  \n",
       "2       Citation       False              8               False  2005      1  \n",
       "3  Arrest Driver        True             15               False  2005      2  \n",
       "4       Citation       False              8               False  2005      3  "
      ]
     },
     "execution_count": 54,
     "metadata": {},
     "output_type": "execute_result"
    }
   ],
   "source": [
    "df.head()"
   ]
  },
  {
   "cell_type": "markdown",
   "id": "b483aee2",
   "metadata": {},
   "source": [
    "# labelencoding"
   ]
  },
  {
   "cell_type": "code",
   "execution_count": 55,
   "id": "335148c8",
   "metadata": {},
   "outputs": [],
   "source": [
    "from sklearn.preprocessing import LabelEncoder\n",
    "le=LabelEncoder()"
   ]
  },
  {
   "cell_type": "code",
   "execution_count": 56,
   "id": "57adc279",
   "metadata": {},
   "outputs": [],
   "source": [
    "df.driver_gender=le.fit_transform(df.driver_gender)"
   ]
  },
  {
   "cell_type": "code",
   "execution_count": 57,
   "id": "19ff8cc9",
   "metadata": {},
   "outputs": [],
   "source": [
    "df.driver_race=le.fit_transform(df.driver_race)"
   ]
  },
  {
   "cell_type": "code",
   "execution_count": 58,
   "id": "ae755501",
   "metadata": {},
   "outputs": [],
   "source": [
    "df.violation=le.fit_transform(df.violation)"
   ]
  },
  {
   "cell_type": "code",
   "execution_count": 59,
   "id": "2fbb7acd",
   "metadata": {},
   "outputs": [],
   "source": [
    "df.search_conducted=le.fit_transform(df.search_conducted)"
   ]
  },
  {
   "cell_type": "code",
   "execution_count": 60,
   "id": "2744329d",
   "metadata": {},
   "outputs": [],
   "source": [
    "df.stop_outcome=le.fit_transform(df.stop_outcome)"
   ]
  },
  {
   "cell_type": "code",
   "execution_count": 61,
   "id": "11fb0e8f",
   "metadata": {},
   "outputs": [],
   "source": [
    "df.is_arrested=le.fit_transform(df.is_arrested)"
   ]
  },
  {
   "cell_type": "code",
   "execution_count": 62,
   "id": "7edeefe7",
   "metadata": {},
   "outputs": [],
   "source": [
    "df.drugs_related_stop=le.fit_transform(df.drugs_related_stop)"
   ]
  },
  {
   "cell_type": "code",
   "execution_count": 63,
   "id": "c0917b34",
   "metadata": {},
   "outputs": [],
   "source": [
    "#df.drop('stoptime',axis=1,inplace=True)"
   ]
  },
  {
   "cell_type": "markdown",
   "id": "c9007ff8",
   "metadata": {},
   "source": [
    "# smot"
   ]
  },
  {
   "cell_type": "code",
   "execution_count": 64,
   "id": "bd724fc1",
   "metadata": {},
   "outputs": [
    {
     "data": {
      "text/plain": [
       "5    37010\n",
       "1    11815\n",
       "0     6497\n",
       "2     3465\n",
       "3     2239\n",
       "4        3\n",
       "Name: violation, dtype: int64"
      ]
     },
     "execution_count": 64,
     "metadata": {},
     "output_type": "execute_result"
    }
   ],
   "source": [
    "df.violation.value_counts()"
   ]
  },
  {
   "cell_type": "code",
   "execution_count": 65,
   "id": "329a9d9c",
   "metadata": {},
   "outputs": [],
   "source": [
    "from sklearn.utils import resample"
   ]
  },
  {
   "cell_type": "code",
   "execution_count": 66,
   "id": "40cac10e",
   "metadata": {},
   "outputs": [],
   "source": [
    "five=df[df['violation']==5]\n",
    "four=df[df['violation']==4]\n",
    "three=df[df['violation']==3]\n",
    "two=df[df['violation']==2]\n",
    "one=df[df['violation']==1]\n",
    "zero=df[df['violation']==0]"
   ]
  },
  {
   "cell_type": "code",
   "execution_count": 67,
   "id": "48700756",
   "metadata": {},
   "outputs": [],
   "source": [
    "fournew =resample(four,replace=True,n_samples=len(five),random_state=23)\n",
    "threenew =resample(three,replace=True,n_samples=len(five),random_state=23)\n",
    "twonew =resample(two,replace=True,n_samples=len(five),random_state=23)\n",
    "onenew =resample(one,replace=True,n_samples=len(five),random_state=23)\n",
    "zeronew =resample(zero,replace=True,n_samples=len(five),random_state=23)\n",
    "\n",
    "\n"
   ]
  },
  {
   "cell_type": "code",
   "execution_count": 68,
   "id": "119b6f91",
   "metadata": {},
   "outputs": [],
   "source": [
    "df=pd.concat([five,fournew,threenew,twonew,onenew,zeronew])"
   ]
  },
  {
   "cell_type": "code",
   "execution_count": 69,
   "id": "c1fd2bf0",
   "metadata": {},
   "outputs": [
    {
     "data": {
      "text/plain": [
       "5    37010\n",
       "4    37010\n",
       "3    37010\n",
       "2    37010\n",
       "1    37010\n",
       "0    37010\n",
       "Name: violation, dtype: int64"
      ]
     },
     "execution_count": 69,
     "metadata": {},
     "output_type": "execute_result"
    }
   ],
   "source": [
    "df.violation.value_counts()"
   ]
  },
  {
   "cell_type": "code",
   "execution_count": 70,
   "id": "46ec59fe",
   "metadata": {},
   "outputs": [],
   "source": [
    "#df.drop('stop_time',axis=1,inplace=True) #dropping stop_time"
   ]
  },
  {
   "cell_type": "markdown",
   "id": "365d47eb",
   "metadata": {},
   "source": [
    "# Splitting the Dataset"
   ]
  },
  {
   "cell_type": "code",
   "execution_count": 71,
   "id": "5e586fa8",
   "metadata": {},
   "outputs": [],
   "source": [
    "from sklearn.model_selection import train_test_split"
   ]
  },
  {
   "cell_type": "code",
   "execution_count": 72,
   "id": "6d5c5a9b",
   "metadata": {},
   "outputs": [],
   "source": [
    "x=df.drop('violation',axis=1)"
   ]
  },
  {
   "cell_type": "code",
   "execution_count": 73,
   "id": "1ee8ae58",
   "metadata": {},
   "outputs": [],
   "source": [
    "y=df.violation"
   ]
  },
  {
   "cell_type": "code",
   "execution_count": 74,
   "id": "03639c25",
   "metadata": {},
   "outputs": [],
   "source": [
    "xtrain,xtest,ytrain,ytest=train_test_split(x,y,test_size=0.2,random_state=2)"
   ]
  },
  {
   "cell_type": "code",
   "execution_count": 75,
   "id": "0e6945c4",
   "metadata": {},
   "outputs": [],
   "source": [
    "from sklearn.linear_model import LogisticRegression"
   ]
  },
  {
   "cell_type": "code",
   "execution_count": 76,
   "id": "8355f2d6",
   "metadata": {},
   "outputs": [],
   "source": [
    "lo=LogisticRegression()"
   ]
  },
  {
   "cell_type": "code",
   "execution_count": 77,
   "id": "df62c5e5",
   "metadata": {},
   "outputs": [
    {
     "name": "stderr",
     "output_type": "stream",
     "text": [
      "C:\\Users\\jonah\\anaconda3\\lib\\site-packages\\sklearn\\linear_model\\_logistic.py:814: ConvergenceWarning: lbfgs failed to converge (status=1):\n",
      "STOP: TOTAL NO. of ITERATIONS REACHED LIMIT.\n",
      "\n",
      "Increase the number of iterations (max_iter) or scale the data as shown in:\n",
      "    https://scikit-learn.org/stable/modules/preprocessing.html\n",
      "Please also refer to the documentation for alternative solver options:\n",
      "    https://scikit-learn.org/stable/modules/linear_model.html#logistic-regression\n",
      "  n_iter_i = _check_optimize_result(\n"
     ]
    },
    {
     "data": {
      "text/plain": [
       "LogisticRegression()"
      ]
     },
     "execution_count": 77,
     "metadata": {},
     "output_type": "execute_result"
    }
   ],
   "source": [
    "lo.fit(xtrain,ytrain)"
   ]
  },
  {
   "cell_type": "code",
   "execution_count": 78,
   "id": "ec79bd81",
   "metadata": {},
   "outputs": [],
   "source": [
    "ypred=lo.predict(xtest)"
   ]
  },
  {
   "cell_type": "code",
   "execution_count": 79,
   "id": "1c70e4ac",
   "metadata": {},
   "outputs": [],
   "source": [
    "from sklearn.metrics import classification_report,confusion_matrix,accuracy_score"
   ]
  },
  {
   "cell_type": "code",
   "execution_count": 80,
   "id": "12b3ebb0",
   "metadata": {},
   "outputs": [],
   "source": [
    "#confusion_matrix(ytest,ypred)"
   ]
  },
  {
   "cell_type": "code",
   "execution_count": 81,
   "id": "52e4439b",
   "metadata": {},
   "outputs": [
    {
     "data": {
      "text/plain": [
       "0.38016752229127265"
      ]
     },
     "execution_count": 81,
     "metadata": {},
     "output_type": "execute_result"
    }
   ],
   "source": [
    "accuracy_score(ytest,ypred)   #bad model"
   ]
  },
  {
   "cell_type": "code",
   "execution_count": null,
   "id": "da7da3ef",
   "metadata": {},
   "outputs": [],
   "source": []
  },
  {
   "cell_type": "markdown",
   "id": "c0283028",
   "metadata": {},
   "source": [
    "# KNN"
   ]
  },
  {
   "cell_type": "code",
   "execution_count": 82,
   "id": "892dfd60",
   "metadata": {},
   "outputs": [],
   "source": [
    "from sklearn.neighbors import KNeighborsClassifier"
   ]
  },
  {
   "cell_type": "code",
   "execution_count": 83,
   "id": "67aab9fe",
   "metadata": {},
   "outputs": [],
   "source": [
    "classifier=KNeighborsClassifier(n_neighbors=4,metric='minkowski',p=2)"
   ]
  },
  {
   "cell_type": "code",
   "execution_count": 84,
   "id": "2f2a21d1",
   "metadata": {},
   "outputs": [
    {
     "data": {
      "text/plain": [
       "KNeighborsClassifier(n_neighbors=4)"
      ]
     },
     "execution_count": 84,
     "metadata": {},
     "output_type": "execute_result"
    }
   ],
   "source": [
    "classifier.fit(xtrain,ytrain)"
   ]
  },
  {
   "cell_type": "code",
   "execution_count": 85,
   "id": "85d7c510",
   "metadata": {},
   "outputs": [],
   "source": [
    "ypred=classifier.predict(xtest)"
   ]
  },
  {
   "cell_type": "code",
   "execution_count": 86,
   "id": "c9e7914e",
   "metadata": {},
   "outputs": [
    {
     "data": {
      "text/plain": [
       "0.8468431955327389"
      ]
     },
     "execution_count": 86,
     "metadata": {},
     "output_type": "execute_result"
    }
   ],
   "source": [
    "accuracy_score(ytest,ypred) #average model"
   ]
  },
  {
   "cell_type": "markdown",
   "id": "9daa5b65",
   "metadata": {},
   "source": [
    "# dicision tree"
   ]
  },
  {
   "cell_type": "code",
   "execution_count": 87,
   "id": "06d015a2",
   "metadata": {},
   "outputs": [],
   "source": [
    "from sklearn.model_selection import GridSearchCV"
   ]
  },
  {
   "cell_type": "code",
   "execution_count": 88,
   "id": "1ef6f63c",
   "metadata": {},
   "outputs": [],
   "source": [
    "from sklearn.tree import DecisionTreeClassifier\n"
   ]
  },
  {
   "cell_type": "code",
   "execution_count": 89,
   "id": "7b414111",
   "metadata": {},
   "outputs": [],
   "source": [
    "clf=DecisionTreeClassifier()"
   ]
  },
  {
   "cell_type": "code",
   "execution_count": 90,
   "id": "3d819a58",
   "metadata": {},
   "outputs": [],
   "source": [
    "parm={'max_depth':[80,90,100,150,200],'min_samples_leaf':[1,2,3,4,5]}"
   ]
  },
  {
   "cell_type": "code",
   "execution_count": 91,
   "id": "0c55db17",
   "metadata": {},
   "outputs": [],
   "source": [
    "grid_search = GridSearchCV(clf,parm ,cv=5)"
   ]
  },
  {
   "cell_type": "code",
   "execution_count": 92,
   "id": "aa50b18b",
   "metadata": {},
   "outputs": [
    {
     "data": {
      "text/plain": [
       "GridSearchCV(cv=5, estimator=DecisionTreeClassifier(),\n",
       "             param_grid={'max_depth': [80, 90, 100, 150, 200],\n",
       "                         'min_samples_leaf': [1, 2, 3, 4, 5]})"
      ]
     },
     "execution_count": 92,
     "metadata": {},
     "output_type": "execute_result"
    }
   ],
   "source": [
    "grid_search.fit(xtrain, ytrain)"
   ]
  },
  {
   "cell_type": "code",
   "execution_count": 93,
   "id": "6492254f",
   "metadata": {},
   "outputs": [],
   "source": [
    "ypred = grid_search.best_estimator_.predict(xtest)"
   ]
  },
  {
   "cell_type": "code",
   "execution_count": 94,
   "id": "8b0f08a0",
   "metadata": {},
   "outputs": [
    {
     "data": {
      "text/plain": [
       "0.9200666486535171"
      ]
     },
     "execution_count": 94,
     "metadata": {},
     "output_type": "execute_result"
    }
   ],
   "source": [
    "accuracy_score(ytest, ypred)"
   ]
  },
  {
   "cell_type": "code",
   "execution_count": 95,
   "id": "3eb7a28e",
   "metadata": {},
   "outputs": [
    {
     "data": {
      "text/plain": [
       "{'max_depth': 90, 'min_samples_leaf': 1}"
      ]
     },
     "execution_count": 95,
     "metadata": {},
     "output_type": "execute_result"
    }
   ],
   "source": [
    "grid_search.best_params_ # we got the best parameter for the disision tree"
   ]
  },
  {
   "cell_type": "code",
   "execution_count": 96,
   "id": "df169e3c",
   "metadata": {},
   "outputs": [],
   "source": [
    "entropy=DecisionTreeClassifier(criterion='entropy',random_state=1,max_depth=100,min_samples_leaf=1)"
   ]
  },
  {
   "cell_type": "code",
   "execution_count": 97,
   "id": "099b2f15",
   "metadata": {},
   "outputs": [
    {
     "data": {
      "text/plain": [
       "DecisionTreeClassifier(criterion='entropy', max_depth=100, random_state=1)"
      ]
     },
     "execution_count": 97,
     "metadata": {},
     "output_type": "execute_result"
    }
   ],
   "source": [
    "entropy.fit(xtrain,ytrain)"
   ]
  },
  {
   "cell_type": "code",
   "execution_count": 98,
   "id": "ad85b327",
   "metadata": {},
   "outputs": [],
   "source": [
    "ypred=entropy.predict(xtest)"
   ]
  },
  {
   "cell_type": "code",
   "execution_count": 99,
   "id": "18abb2a4",
   "metadata": {},
   "outputs": [
    {
     "data": {
      "text/plain": [
       "0.9205169773934972"
      ]
     },
     "execution_count": 99,
     "metadata": {},
     "output_type": "execute_result"
    }
   ],
   "source": [
    "accuracy_score(ytest,ypred) #good model"
   ]
  },
  {
   "cell_type": "markdown",
   "id": "131ea316",
   "metadata": {},
   "source": [
    "# Random forest"
   ]
  },
  {
   "cell_type": "code",
   "execution_count": 100,
   "id": "dfa18f7c",
   "metadata": {},
   "outputs": [],
   "source": [
    "from sklearn.ensemble import RandomForestClassifier"
   ]
  },
  {
   "cell_type": "code",
   "execution_count": 101,
   "id": "0104d944",
   "metadata": {},
   "outputs": [],
   "source": [
    "rf=RandomForestClassifier()"
   ]
  },
  {
   "cell_type": "code",
   "execution_count": 102,
   "id": "c9a86cc0",
   "metadata": {},
   "outputs": [],
   "source": [
    "params={\n",
    "    'n_estimators':[80,100,200],\n",
    "    'max_features':['sqrt',0.25],\n",
    "    'min_samples_split':[2,4,6]\n",
    "}"
   ]
  },
  {
   "cell_type": "code",
   "execution_count": 103,
   "id": "7b534f8c",
   "metadata": {},
   "outputs": [],
   "source": [
    "gd=GridSearchCV(rf,params,cv=3)"
   ]
  },
  {
   "cell_type": "code",
   "execution_count": 104,
   "id": "dbcb252f",
   "metadata": {},
   "outputs": [
    {
     "data": {
      "text/plain": [
       "GridSearchCV(cv=3, estimator=RandomForestClassifier(),\n",
       "             param_grid={'max_features': ['sqrt', 0.25],\n",
       "                         'min_samples_split': [2, 4, 6],\n",
       "                         'n_estimators': [80, 100, 200]})"
      ]
     },
     "execution_count": 104,
     "metadata": {},
     "output_type": "execute_result"
    }
   ],
   "source": [
    "gd.fit(xtrain,ytrain)"
   ]
  },
  {
   "cell_type": "code",
   "execution_count": 105,
   "id": "6ab94dea",
   "metadata": {},
   "outputs": [],
   "source": [
    "ypred = gd.best_estimator_.predict(xtest)"
   ]
  },
  {
   "cell_type": "code",
   "execution_count": 106,
   "id": "b41ab4e7",
   "metadata": {},
   "outputs": [
    {
     "data": {
      "text/plain": [
       "0.9338917409709088"
      ]
     },
     "execution_count": 106,
     "metadata": {},
     "output_type": "execute_result"
    }
   ],
   "source": [
    "accuracy_score(ytest, ypred)"
   ]
  },
  {
   "cell_type": "code",
   "execution_count": 107,
   "id": "79e4109d",
   "metadata": {},
   "outputs": [
    {
     "data": {
      "text/plain": [
       "{'max_features': 0.25, 'min_samples_split': 2, 'n_estimators': 200}"
      ]
     },
     "execution_count": 107,
     "metadata": {},
     "output_type": "execute_result"
    }
   ],
   "source": [
    "gd.best_params_ #we got the best parameters for random forest"
   ]
  },
  {
   "cell_type": "code",
   "execution_count": 108,
   "id": "b58b5afc",
   "metadata": {},
   "outputs": [],
   "source": [
    "rdd=RandomForestClassifier(n_estimators=100,bootstrap=True,criterion='entropy',max_features=0.25,random_state=1,min_samples_split=2)"
   ]
  },
  {
   "cell_type": "code",
   "execution_count": 109,
   "id": "2e81f0aa",
   "metadata": {},
   "outputs": [],
   "source": [
    "rdd.fit(xtrain,ytrain)\n",
    "ypred=rdd.predict(xtest)"
   ]
  },
  {
   "cell_type": "code",
   "execution_count": 110,
   "id": "f7f75fb2",
   "metadata": {},
   "outputs": [
    {
     "data": {
      "text/plain": [
       "0.9340493560299018"
      ]
     },
     "execution_count": 110,
     "metadata": {},
     "output_type": "execute_result"
    }
   ],
   "source": [
    "accuracy_score(ytest,ypred) #good model"
   ]
  },
  {
   "cell_type": "markdown",
   "id": "d3bc25a9",
   "metadata": {},
   "source": [
    "# ADAboost"
   ]
  },
  {
   "cell_type": "code",
   "execution_count": 111,
   "id": "f8665161",
   "metadata": {},
   "outputs": [],
   "source": [
    "from sklearn.ensemble import AdaBoostClassifier"
   ]
  },
  {
   "cell_type": "code",
   "execution_count": 112,
   "id": "4f2ef663",
   "metadata": {},
   "outputs": [],
   "source": [
    "ad=AdaBoostClassifier(random_state=1)\n"
   ]
  },
  {
   "cell_type": "code",
   "execution_count": 113,
   "id": "77638f79",
   "metadata": {},
   "outputs": [],
   "source": [
    "ad.fit(xtrain,ytrain)\n",
    "ypred=ad.predict(xtest)"
   ]
  },
  {
   "cell_type": "code",
   "execution_count": 114,
   "id": "a8b1ebc9",
   "metadata": {},
   "outputs": [
    {
     "data": {
      "text/plain": [
       "0.3556246059623525"
      ]
     },
     "execution_count": 114,
     "metadata": {},
     "output_type": "execute_result"
    }
   ],
   "source": [
    "accuracy_score(ytest,ypred) #bad model"
   ]
  },
  {
   "cell_type": "markdown",
   "id": "b0c846ba",
   "metadata": {},
   "source": [
    "# SVM"
   ]
  },
  {
   "cell_type": "code",
   "execution_count": 115,
   "id": "276bed7d",
   "metadata": {},
   "outputs": [],
   "source": [
    "#from sklearn.svm import SVC"
   ]
  },
  {
   "cell_type": "code",
   "execution_count": 116,
   "id": "464d6a69",
   "metadata": {},
   "outputs": [],
   "source": [
    "#clf = SVC(kernel='linear')"
   ]
  },
  {
   "cell_type": "code",
   "execution_count": 117,
   "id": "9fb58924",
   "metadata": {},
   "outputs": [],
   "source": [
    "#clf.fit(xtrain, ytrain)"
   ]
  },
  {
   "cell_type": "code",
   "execution_count": 118,
   "id": "7fee51c0",
   "metadata": {},
   "outputs": [],
   "source": [
    "#ypred = clf.predict(xtest)"
   ]
  },
  {
   "cell_type": "code",
   "execution_count": 119,
   "id": "ac775353",
   "metadata": {},
   "outputs": [],
   "source": [
    "#accuracy_score(ytest,ypred)"
   ]
  },
  {
   "cell_type": "code",
   "execution_count": null,
   "id": "f8e407fb",
   "metadata": {},
   "outputs": [],
   "source": []
  },
  {
   "cell_type": "code",
   "execution_count": null,
   "id": "409aa641",
   "metadata": {},
   "outputs": [],
   "source": []
  },
  {
   "cell_type": "code",
   "execution_count": null,
   "id": "b6860bac",
   "metadata": {},
   "outputs": [],
   "source": []
  },
  {
   "cell_type": "code",
   "execution_count": null,
   "id": "84aa55e0",
   "metadata": {},
   "outputs": [],
   "source": []
  },
  {
   "cell_type": "code",
   "execution_count": null,
   "id": "e662a999",
   "metadata": {},
   "outputs": [],
   "source": [
    "\n"
   ]
  }
 ],
 "metadata": {
  "kernelspec": {
   "display_name": "Python 3 (ipykernel)",
   "language": "python",
   "name": "python3"
  },
  "language_info": {
   "codemirror_mode": {
    "name": "ipython",
    "version": 3
   },
   "file_extension": ".py",
   "mimetype": "text/x-python",
   "name": "python",
   "nbconvert_exporter": "python",
   "pygments_lexer": "ipython3",
   "version": "3.9.12"
  }
 },
 "nbformat": 4,
 "nbformat_minor": 5
}
