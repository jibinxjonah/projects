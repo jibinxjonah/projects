{
 "cells": [
  {
   "cell_type": "markdown",
   "id": "a1f90608",
   "metadata": {},
   "source": [
    "## Cancer prediction"
   ]
  },
  {
   "cell_type": "markdown",
   "id": "42213b3c",
   "metadata": {},
   "source": [
    "### B = Benign Cancer\n",
    "###M = Malignant Cancer"
   ]
  },
  {
   "cell_type": "code",
   "execution_count": 1,
   "id": "b38abbf9",
   "metadata": {},
   "outputs": [],
   "source": [
    "import pandas as pd\n",
    "import numpy as np\n",
    "import matplotlib.pyplot as plt\n",
    "import seaborn as sns"
   ]
  },
  {
   "cell_type": "code",
   "execution_count": 2,
   "id": "a7c65ed9",
   "metadata": {},
   "outputs": [],
   "source": [
    "df=pd.read_csv('Cancer_Data.csv')\n",
    "df=pd.DataFrame(df)"
   ]
  },
  {
   "cell_type": "code",
   "execution_count": 3,
   "id": "a092d143",
   "metadata": {},
   "outputs": [
    {
     "data": {
      "text/html": [
       "<div>\n",
       "<style scoped>\n",
       "    .dataframe tbody tr th:only-of-type {\n",
       "        vertical-align: middle;\n",
       "    }\n",
       "\n",
       "    .dataframe tbody tr th {\n",
       "        vertical-align: top;\n",
       "    }\n",
       "\n",
       "    .dataframe thead th {\n",
       "        text-align: right;\n",
       "    }\n",
       "</style>\n",
       "<table border=\"1\" class=\"dataframe\">\n",
       "  <thead>\n",
       "    <tr style=\"text-align: right;\">\n",
       "      <th></th>\n",
       "      <th>id</th>\n",
       "      <th>diagnosis</th>\n",
       "      <th>radius_mean</th>\n",
       "      <th>texture_mean</th>\n",
       "      <th>perimeter_mean</th>\n",
       "      <th>area_mean</th>\n",
       "      <th>smoothness_mean</th>\n",
       "      <th>compactness_mean</th>\n",
       "      <th>concavity_mean</th>\n",
       "      <th>concave points_mean</th>\n",
       "      <th>symmetry_mean</th>\n",
       "      <th>fractal_dimension_mean</th>\n",
       "      <th>radius_se</th>\n",
       "      <th>texture_se</th>\n",
       "      <th>perimeter_se</th>\n",
       "      <th>area_se</th>\n",
       "      <th>smoothness_se</th>\n",
       "      <th>compactness_se</th>\n",
       "      <th>concavity_se</th>\n",
       "      <th>concave points_se</th>\n",
       "      <th>symmetry_se</th>\n",
       "      <th>fractal_dimension_se</th>\n",
       "      <th>radius_worst</th>\n",
       "      <th>texture_worst</th>\n",
       "      <th>perimeter_worst</th>\n",
       "      <th>area_worst</th>\n",
       "      <th>smoothness_worst</th>\n",
       "      <th>compactness_worst</th>\n",
       "      <th>concavity_worst</th>\n",
       "      <th>concave points_worst</th>\n",
       "      <th>symmetry_worst</th>\n",
       "      <th>fractal_dimension_worst</th>\n",
       "      <th>Unnamed: 32</th>\n",
       "    </tr>\n",
       "  </thead>\n",
       "  <tbody>\n",
       "    <tr>\n",
       "      <th>0</th>\n",
       "      <td>842302</td>\n",
       "      <td>M</td>\n",
       "      <td>17.99</td>\n",
       "      <td>10.38</td>\n",
       "      <td>122.80</td>\n",
       "      <td>1001.0</td>\n",
       "      <td>0.11840</td>\n",
       "      <td>0.27760</td>\n",
       "      <td>0.3001</td>\n",
       "      <td>0.14710</td>\n",
       "      <td>0.2419</td>\n",
       "      <td>0.07871</td>\n",
       "      <td>1.0950</td>\n",
       "      <td>0.9053</td>\n",
       "      <td>8.589</td>\n",
       "      <td>153.40</td>\n",
       "      <td>0.006399</td>\n",
       "      <td>0.04904</td>\n",
       "      <td>0.05373</td>\n",
       "      <td>0.01587</td>\n",
       "      <td>0.03003</td>\n",
       "      <td>0.006193</td>\n",
       "      <td>25.38</td>\n",
       "      <td>17.33</td>\n",
       "      <td>184.60</td>\n",
       "      <td>2019.0</td>\n",
       "      <td>0.1622</td>\n",
       "      <td>0.6656</td>\n",
       "      <td>0.7119</td>\n",
       "      <td>0.2654</td>\n",
       "      <td>0.4601</td>\n",
       "      <td>0.11890</td>\n",
       "      <td>NaN</td>\n",
       "    </tr>\n",
       "    <tr>\n",
       "      <th>1</th>\n",
       "      <td>842517</td>\n",
       "      <td>M</td>\n",
       "      <td>20.57</td>\n",
       "      <td>17.77</td>\n",
       "      <td>132.90</td>\n",
       "      <td>1326.0</td>\n",
       "      <td>0.08474</td>\n",
       "      <td>0.07864</td>\n",
       "      <td>0.0869</td>\n",
       "      <td>0.07017</td>\n",
       "      <td>0.1812</td>\n",
       "      <td>0.05667</td>\n",
       "      <td>0.5435</td>\n",
       "      <td>0.7339</td>\n",
       "      <td>3.398</td>\n",
       "      <td>74.08</td>\n",
       "      <td>0.005225</td>\n",
       "      <td>0.01308</td>\n",
       "      <td>0.01860</td>\n",
       "      <td>0.01340</td>\n",
       "      <td>0.01389</td>\n",
       "      <td>0.003532</td>\n",
       "      <td>24.99</td>\n",
       "      <td>23.41</td>\n",
       "      <td>158.80</td>\n",
       "      <td>1956.0</td>\n",
       "      <td>0.1238</td>\n",
       "      <td>0.1866</td>\n",
       "      <td>0.2416</td>\n",
       "      <td>0.1860</td>\n",
       "      <td>0.2750</td>\n",
       "      <td>0.08902</td>\n",
       "      <td>NaN</td>\n",
       "    </tr>\n",
       "    <tr>\n",
       "      <th>2</th>\n",
       "      <td>84300903</td>\n",
       "      <td>M</td>\n",
       "      <td>19.69</td>\n",
       "      <td>21.25</td>\n",
       "      <td>130.00</td>\n",
       "      <td>1203.0</td>\n",
       "      <td>0.10960</td>\n",
       "      <td>0.15990</td>\n",
       "      <td>0.1974</td>\n",
       "      <td>0.12790</td>\n",
       "      <td>0.2069</td>\n",
       "      <td>0.05999</td>\n",
       "      <td>0.7456</td>\n",
       "      <td>0.7869</td>\n",
       "      <td>4.585</td>\n",
       "      <td>94.03</td>\n",
       "      <td>0.006150</td>\n",
       "      <td>0.04006</td>\n",
       "      <td>0.03832</td>\n",
       "      <td>0.02058</td>\n",
       "      <td>0.02250</td>\n",
       "      <td>0.004571</td>\n",
       "      <td>23.57</td>\n",
       "      <td>25.53</td>\n",
       "      <td>152.50</td>\n",
       "      <td>1709.0</td>\n",
       "      <td>0.1444</td>\n",
       "      <td>0.4245</td>\n",
       "      <td>0.4504</td>\n",
       "      <td>0.2430</td>\n",
       "      <td>0.3613</td>\n",
       "      <td>0.08758</td>\n",
       "      <td>NaN</td>\n",
       "    </tr>\n",
       "    <tr>\n",
       "      <th>3</th>\n",
       "      <td>84348301</td>\n",
       "      <td>M</td>\n",
       "      <td>11.42</td>\n",
       "      <td>20.38</td>\n",
       "      <td>77.58</td>\n",
       "      <td>386.1</td>\n",
       "      <td>0.14250</td>\n",
       "      <td>0.28390</td>\n",
       "      <td>0.2414</td>\n",
       "      <td>0.10520</td>\n",
       "      <td>0.2597</td>\n",
       "      <td>0.09744</td>\n",
       "      <td>0.4956</td>\n",
       "      <td>1.1560</td>\n",
       "      <td>3.445</td>\n",
       "      <td>27.23</td>\n",
       "      <td>0.009110</td>\n",
       "      <td>0.07458</td>\n",
       "      <td>0.05661</td>\n",
       "      <td>0.01867</td>\n",
       "      <td>0.05963</td>\n",
       "      <td>0.009208</td>\n",
       "      <td>14.91</td>\n",
       "      <td>26.50</td>\n",
       "      <td>98.87</td>\n",
       "      <td>567.7</td>\n",
       "      <td>0.2098</td>\n",
       "      <td>0.8663</td>\n",
       "      <td>0.6869</td>\n",
       "      <td>0.2575</td>\n",
       "      <td>0.6638</td>\n",
       "      <td>0.17300</td>\n",
       "      <td>NaN</td>\n",
       "    </tr>\n",
       "    <tr>\n",
       "      <th>4</th>\n",
       "      <td>84358402</td>\n",
       "      <td>M</td>\n",
       "      <td>20.29</td>\n",
       "      <td>14.34</td>\n",
       "      <td>135.10</td>\n",
       "      <td>1297.0</td>\n",
       "      <td>0.10030</td>\n",
       "      <td>0.13280</td>\n",
       "      <td>0.1980</td>\n",
       "      <td>0.10430</td>\n",
       "      <td>0.1809</td>\n",
       "      <td>0.05883</td>\n",
       "      <td>0.7572</td>\n",
       "      <td>0.7813</td>\n",
       "      <td>5.438</td>\n",
       "      <td>94.44</td>\n",
       "      <td>0.011490</td>\n",
       "      <td>0.02461</td>\n",
       "      <td>0.05688</td>\n",
       "      <td>0.01885</td>\n",
       "      <td>0.01756</td>\n",
       "      <td>0.005115</td>\n",
       "      <td>22.54</td>\n",
       "      <td>16.67</td>\n",
       "      <td>152.20</td>\n",
       "      <td>1575.0</td>\n",
       "      <td>0.1374</td>\n",
       "      <td>0.2050</td>\n",
       "      <td>0.4000</td>\n",
       "      <td>0.1625</td>\n",
       "      <td>0.2364</td>\n",
       "      <td>0.07678</td>\n",
       "      <td>NaN</td>\n",
       "    </tr>\n",
       "  </tbody>\n",
       "</table>\n",
       "</div>"
      ],
      "text/plain": [
       "         id diagnosis  radius_mean  texture_mean  perimeter_mean  area_mean  \\\n",
       "0    842302         M        17.99         10.38          122.80     1001.0   \n",
       "1    842517         M        20.57         17.77          132.90     1326.0   \n",
       "2  84300903         M        19.69         21.25          130.00     1203.0   \n",
       "3  84348301         M        11.42         20.38           77.58      386.1   \n",
       "4  84358402         M        20.29         14.34          135.10     1297.0   \n",
       "\n",
       "   smoothness_mean  compactness_mean  concavity_mean  concave points_mean  \\\n",
       "0          0.11840           0.27760          0.3001              0.14710   \n",
       "1          0.08474           0.07864          0.0869              0.07017   \n",
       "2          0.10960           0.15990          0.1974              0.12790   \n",
       "3          0.14250           0.28390          0.2414              0.10520   \n",
       "4          0.10030           0.13280          0.1980              0.10430   \n",
       "\n",
       "   symmetry_mean  fractal_dimension_mean  radius_se  texture_se  perimeter_se  \\\n",
       "0         0.2419                 0.07871     1.0950      0.9053         8.589   \n",
       "1         0.1812                 0.05667     0.5435      0.7339         3.398   \n",
       "2         0.2069                 0.05999     0.7456      0.7869         4.585   \n",
       "3         0.2597                 0.09744     0.4956      1.1560         3.445   \n",
       "4         0.1809                 0.05883     0.7572      0.7813         5.438   \n",
       "\n",
       "   area_se  smoothness_se  compactness_se  concavity_se  concave points_se  \\\n",
       "0   153.40       0.006399         0.04904       0.05373            0.01587   \n",
       "1    74.08       0.005225         0.01308       0.01860            0.01340   \n",
       "2    94.03       0.006150         0.04006       0.03832            0.02058   \n",
       "3    27.23       0.009110         0.07458       0.05661            0.01867   \n",
       "4    94.44       0.011490         0.02461       0.05688            0.01885   \n",
       "\n",
       "   symmetry_se  fractal_dimension_se  radius_worst  texture_worst  \\\n",
       "0      0.03003              0.006193         25.38          17.33   \n",
       "1      0.01389              0.003532         24.99          23.41   \n",
       "2      0.02250              0.004571         23.57          25.53   \n",
       "3      0.05963              0.009208         14.91          26.50   \n",
       "4      0.01756              0.005115         22.54          16.67   \n",
       "\n",
       "   perimeter_worst  area_worst  smoothness_worst  compactness_worst  \\\n",
       "0           184.60      2019.0            0.1622             0.6656   \n",
       "1           158.80      1956.0            0.1238             0.1866   \n",
       "2           152.50      1709.0            0.1444             0.4245   \n",
       "3            98.87       567.7            0.2098             0.8663   \n",
       "4           152.20      1575.0            0.1374             0.2050   \n",
       "\n",
       "   concavity_worst  concave points_worst  symmetry_worst  \\\n",
       "0           0.7119                0.2654          0.4601   \n",
       "1           0.2416                0.1860          0.2750   \n",
       "2           0.4504                0.2430          0.3613   \n",
       "3           0.6869                0.2575          0.6638   \n",
       "4           0.4000                0.1625          0.2364   \n",
       "\n",
       "   fractal_dimension_worst  Unnamed: 32  \n",
       "0                  0.11890          NaN  \n",
       "1                  0.08902          NaN  \n",
       "2                  0.08758          NaN  \n",
       "3                  0.17300          NaN  \n",
       "4                  0.07678          NaN  "
      ]
     },
     "execution_count": 3,
     "metadata": {},
     "output_type": "execute_result"
    }
   ],
   "source": [
    "pd.set_option('display.max_columns', None)\n",
    "df.head()"
   ]
  },
  {
   "cell_type": "code",
   "execution_count": 4,
   "id": "cd5feafd",
   "metadata": {},
   "outputs": [
    {
     "data": {
      "text/plain": [
       "(569, 33)"
      ]
     },
     "execution_count": 4,
     "metadata": {},
     "output_type": "execute_result"
    }
   ],
   "source": [
    "df.shape"
   ]
  },
  {
   "cell_type": "code",
   "execution_count": 5,
   "id": "c54d5ea7",
   "metadata": {},
   "outputs": [
    {
     "data": {
      "text/html": [
       "<div>\n",
       "<style scoped>\n",
       "    .dataframe tbody tr th:only-of-type {\n",
       "        vertical-align: middle;\n",
       "    }\n",
       "\n",
       "    .dataframe tbody tr th {\n",
       "        vertical-align: top;\n",
       "    }\n",
       "\n",
       "    .dataframe thead th {\n",
       "        text-align: right;\n",
       "    }\n",
       "</style>\n",
       "<table border=\"1\" class=\"dataframe\">\n",
       "  <thead>\n",
       "    <tr style=\"text-align: right;\">\n",
       "      <th></th>\n",
       "      <th>id</th>\n",
       "      <th>radius_mean</th>\n",
       "      <th>texture_mean</th>\n",
       "      <th>perimeter_mean</th>\n",
       "      <th>area_mean</th>\n",
       "      <th>smoothness_mean</th>\n",
       "      <th>compactness_mean</th>\n",
       "      <th>concavity_mean</th>\n",
       "      <th>concave points_mean</th>\n",
       "      <th>symmetry_mean</th>\n",
       "      <th>fractal_dimension_mean</th>\n",
       "      <th>radius_se</th>\n",
       "      <th>texture_se</th>\n",
       "      <th>perimeter_se</th>\n",
       "      <th>area_se</th>\n",
       "      <th>smoothness_se</th>\n",
       "      <th>compactness_se</th>\n",
       "      <th>concavity_se</th>\n",
       "      <th>concave points_se</th>\n",
       "      <th>symmetry_se</th>\n",
       "      <th>fractal_dimension_se</th>\n",
       "      <th>radius_worst</th>\n",
       "      <th>texture_worst</th>\n",
       "      <th>perimeter_worst</th>\n",
       "      <th>area_worst</th>\n",
       "      <th>smoothness_worst</th>\n",
       "      <th>compactness_worst</th>\n",
       "      <th>concavity_worst</th>\n",
       "      <th>concave points_worst</th>\n",
       "      <th>symmetry_worst</th>\n",
       "      <th>fractal_dimension_worst</th>\n",
       "      <th>Unnamed: 32</th>\n",
       "    </tr>\n",
       "  </thead>\n",
       "  <tbody>\n",
       "    <tr>\n",
       "      <th>count</th>\n",
       "      <td>5.690000e+02</td>\n",
       "      <td>569.000000</td>\n",
       "      <td>569.000000</td>\n",
       "      <td>569.000000</td>\n",
       "      <td>569.000000</td>\n",
       "      <td>569.000000</td>\n",
       "      <td>569.000000</td>\n",
       "      <td>569.000000</td>\n",
       "      <td>569.000000</td>\n",
       "      <td>569.000000</td>\n",
       "      <td>569.000000</td>\n",
       "      <td>569.000000</td>\n",
       "      <td>569.000000</td>\n",
       "      <td>569.000000</td>\n",
       "      <td>569.000000</td>\n",
       "      <td>569.000000</td>\n",
       "      <td>569.000000</td>\n",
       "      <td>569.000000</td>\n",
       "      <td>569.000000</td>\n",
       "      <td>569.000000</td>\n",
       "      <td>569.000000</td>\n",
       "      <td>569.000000</td>\n",
       "      <td>569.000000</td>\n",
       "      <td>569.000000</td>\n",
       "      <td>569.000000</td>\n",
       "      <td>569.000000</td>\n",
       "      <td>569.000000</td>\n",
       "      <td>569.000000</td>\n",
       "      <td>569.000000</td>\n",
       "      <td>569.000000</td>\n",
       "      <td>569.000000</td>\n",
       "      <td>0.0</td>\n",
       "    </tr>\n",
       "    <tr>\n",
       "      <th>mean</th>\n",
       "      <td>3.037183e+07</td>\n",
       "      <td>14.127292</td>\n",
       "      <td>19.289649</td>\n",
       "      <td>91.969033</td>\n",
       "      <td>654.889104</td>\n",
       "      <td>0.096360</td>\n",
       "      <td>0.104341</td>\n",
       "      <td>0.088799</td>\n",
       "      <td>0.048919</td>\n",
       "      <td>0.181162</td>\n",
       "      <td>0.062798</td>\n",
       "      <td>0.405172</td>\n",
       "      <td>1.216853</td>\n",
       "      <td>2.866059</td>\n",
       "      <td>40.337079</td>\n",
       "      <td>0.007041</td>\n",
       "      <td>0.025478</td>\n",
       "      <td>0.031894</td>\n",
       "      <td>0.011796</td>\n",
       "      <td>0.020542</td>\n",
       "      <td>0.003795</td>\n",
       "      <td>16.269190</td>\n",
       "      <td>25.677223</td>\n",
       "      <td>107.261213</td>\n",
       "      <td>880.583128</td>\n",
       "      <td>0.132369</td>\n",
       "      <td>0.254265</td>\n",
       "      <td>0.272188</td>\n",
       "      <td>0.114606</td>\n",
       "      <td>0.290076</td>\n",
       "      <td>0.083946</td>\n",
       "      <td>NaN</td>\n",
       "    </tr>\n",
       "    <tr>\n",
       "      <th>std</th>\n",
       "      <td>1.250206e+08</td>\n",
       "      <td>3.524049</td>\n",
       "      <td>4.301036</td>\n",
       "      <td>24.298981</td>\n",
       "      <td>351.914129</td>\n",
       "      <td>0.014064</td>\n",
       "      <td>0.052813</td>\n",
       "      <td>0.079720</td>\n",
       "      <td>0.038803</td>\n",
       "      <td>0.027414</td>\n",
       "      <td>0.007060</td>\n",
       "      <td>0.277313</td>\n",
       "      <td>0.551648</td>\n",
       "      <td>2.021855</td>\n",
       "      <td>45.491006</td>\n",
       "      <td>0.003003</td>\n",
       "      <td>0.017908</td>\n",
       "      <td>0.030186</td>\n",
       "      <td>0.006170</td>\n",
       "      <td>0.008266</td>\n",
       "      <td>0.002646</td>\n",
       "      <td>4.833242</td>\n",
       "      <td>6.146258</td>\n",
       "      <td>33.602542</td>\n",
       "      <td>569.356993</td>\n",
       "      <td>0.022832</td>\n",
       "      <td>0.157336</td>\n",
       "      <td>0.208624</td>\n",
       "      <td>0.065732</td>\n",
       "      <td>0.061867</td>\n",
       "      <td>0.018061</td>\n",
       "      <td>NaN</td>\n",
       "    </tr>\n",
       "    <tr>\n",
       "      <th>min</th>\n",
       "      <td>8.670000e+03</td>\n",
       "      <td>6.981000</td>\n",
       "      <td>9.710000</td>\n",
       "      <td>43.790000</td>\n",
       "      <td>143.500000</td>\n",
       "      <td>0.052630</td>\n",
       "      <td>0.019380</td>\n",
       "      <td>0.000000</td>\n",
       "      <td>0.000000</td>\n",
       "      <td>0.106000</td>\n",
       "      <td>0.049960</td>\n",
       "      <td>0.111500</td>\n",
       "      <td>0.360200</td>\n",
       "      <td>0.757000</td>\n",
       "      <td>6.802000</td>\n",
       "      <td>0.001713</td>\n",
       "      <td>0.002252</td>\n",
       "      <td>0.000000</td>\n",
       "      <td>0.000000</td>\n",
       "      <td>0.007882</td>\n",
       "      <td>0.000895</td>\n",
       "      <td>7.930000</td>\n",
       "      <td>12.020000</td>\n",
       "      <td>50.410000</td>\n",
       "      <td>185.200000</td>\n",
       "      <td>0.071170</td>\n",
       "      <td>0.027290</td>\n",
       "      <td>0.000000</td>\n",
       "      <td>0.000000</td>\n",
       "      <td>0.156500</td>\n",
       "      <td>0.055040</td>\n",
       "      <td>NaN</td>\n",
       "    </tr>\n",
       "    <tr>\n",
       "      <th>25%</th>\n",
       "      <td>8.692180e+05</td>\n",
       "      <td>11.700000</td>\n",
       "      <td>16.170000</td>\n",
       "      <td>75.170000</td>\n",
       "      <td>420.300000</td>\n",
       "      <td>0.086370</td>\n",
       "      <td>0.064920</td>\n",
       "      <td>0.029560</td>\n",
       "      <td>0.020310</td>\n",
       "      <td>0.161900</td>\n",
       "      <td>0.057700</td>\n",
       "      <td>0.232400</td>\n",
       "      <td>0.833900</td>\n",
       "      <td>1.606000</td>\n",
       "      <td>17.850000</td>\n",
       "      <td>0.005169</td>\n",
       "      <td>0.013080</td>\n",
       "      <td>0.015090</td>\n",
       "      <td>0.007638</td>\n",
       "      <td>0.015160</td>\n",
       "      <td>0.002248</td>\n",
       "      <td>13.010000</td>\n",
       "      <td>21.080000</td>\n",
       "      <td>84.110000</td>\n",
       "      <td>515.300000</td>\n",
       "      <td>0.116600</td>\n",
       "      <td>0.147200</td>\n",
       "      <td>0.114500</td>\n",
       "      <td>0.064930</td>\n",
       "      <td>0.250400</td>\n",
       "      <td>0.071460</td>\n",
       "      <td>NaN</td>\n",
       "    </tr>\n",
       "    <tr>\n",
       "      <th>50%</th>\n",
       "      <td>9.060240e+05</td>\n",
       "      <td>13.370000</td>\n",
       "      <td>18.840000</td>\n",
       "      <td>86.240000</td>\n",
       "      <td>551.100000</td>\n",
       "      <td>0.095870</td>\n",
       "      <td>0.092630</td>\n",
       "      <td>0.061540</td>\n",
       "      <td>0.033500</td>\n",
       "      <td>0.179200</td>\n",
       "      <td>0.061540</td>\n",
       "      <td>0.324200</td>\n",
       "      <td>1.108000</td>\n",
       "      <td>2.287000</td>\n",
       "      <td>24.530000</td>\n",
       "      <td>0.006380</td>\n",
       "      <td>0.020450</td>\n",
       "      <td>0.025890</td>\n",
       "      <td>0.010930</td>\n",
       "      <td>0.018730</td>\n",
       "      <td>0.003187</td>\n",
       "      <td>14.970000</td>\n",
       "      <td>25.410000</td>\n",
       "      <td>97.660000</td>\n",
       "      <td>686.500000</td>\n",
       "      <td>0.131300</td>\n",
       "      <td>0.211900</td>\n",
       "      <td>0.226700</td>\n",
       "      <td>0.099930</td>\n",
       "      <td>0.282200</td>\n",
       "      <td>0.080040</td>\n",
       "      <td>NaN</td>\n",
       "    </tr>\n",
       "    <tr>\n",
       "      <th>75%</th>\n",
       "      <td>8.813129e+06</td>\n",
       "      <td>15.780000</td>\n",
       "      <td>21.800000</td>\n",
       "      <td>104.100000</td>\n",
       "      <td>782.700000</td>\n",
       "      <td>0.105300</td>\n",
       "      <td>0.130400</td>\n",
       "      <td>0.130700</td>\n",
       "      <td>0.074000</td>\n",
       "      <td>0.195700</td>\n",
       "      <td>0.066120</td>\n",
       "      <td>0.478900</td>\n",
       "      <td>1.474000</td>\n",
       "      <td>3.357000</td>\n",
       "      <td>45.190000</td>\n",
       "      <td>0.008146</td>\n",
       "      <td>0.032450</td>\n",
       "      <td>0.042050</td>\n",
       "      <td>0.014710</td>\n",
       "      <td>0.023480</td>\n",
       "      <td>0.004558</td>\n",
       "      <td>18.790000</td>\n",
       "      <td>29.720000</td>\n",
       "      <td>125.400000</td>\n",
       "      <td>1084.000000</td>\n",
       "      <td>0.146000</td>\n",
       "      <td>0.339100</td>\n",
       "      <td>0.382900</td>\n",
       "      <td>0.161400</td>\n",
       "      <td>0.317900</td>\n",
       "      <td>0.092080</td>\n",
       "      <td>NaN</td>\n",
       "    </tr>\n",
       "    <tr>\n",
       "      <th>max</th>\n",
       "      <td>9.113205e+08</td>\n",
       "      <td>28.110000</td>\n",
       "      <td>39.280000</td>\n",
       "      <td>188.500000</td>\n",
       "      <td>2501.000000</td>\n",
       "      <td>0.163400</td>\n",
       "      <td>0.345400</td>\n",
       "      <td>0.426800</td>\n",
       "      <td>0.201200</td>\n",
       "      <td>0.304000</td>\n",
       "      <td>0.097440</td>\n",
       "      <td>2.873000</td>\n",
       "      <td>4.885000</td>\n",
       "      <td>21.980000</td>\n",
       "      <td>542.200000</td>\n",
       "      <td>0.031130</td>\n",
       "      <td>0.135400</td>\n",
       "      <td>0.396000</td>\n",
       "      <td>0.052790</td>\n",
       "      <td>0.078950</td>\n",
       "      <td>0.029840</td>\n",
       "      <td>36.040000</td>\n",
       "      <td>49.540000</td>\n",
       "      <td>251.200000</td>\n",
       "      <td>4254.000000</td>\n",
       "      <td>0.222600</td>\n",
       "      <td>1.058000</td>\n",
       "      <td>1.252000</td>\n",
       "      <td>0.291000</td>\n",
       "      <td>0.663800</td>\n",
       "      <td>0.207500</td>\n",
       "      <td>NaN</td>\n",
       "    </tr>\n",
       "  </tbody>\n",
       "</table>\n",
       "</div>"
      ],
      "text/plain": [
       "                 id  radius_mean  texture_mean  perimeter_mean    area_mean  \\\n",
       "count  5.690000e+02   569.000000    569.000000      569.000000   569.000000   \n",
       "mean   3.037183e+07    14.127292     19.289649       91.969033   654.889104   \n",
       "std    1.250206e+08     3.524049      4.301036       24.298981   351.914129   \n",
       "min    8.670000e+03     6.981000      9.710000       43.790000   143.500000   \n",
       "25%    8.692180e+05    11.700000     16.170000       75.170000   420.300000   \n",
       "50%    9.060240e+05    13.370000     18.840000       86.240000   551.100000   \n",
       "75%    8.813129e+06    15.780000     21.800000      104.100000   782.700000   \n",
       "max    9.113205e+08    28.110000     39.280000      188.500000  2501.000000   \n",
       "\n",
       "       smoothness_mean  compactness_mean  concavity_mean  concave points_mean  \\\n",
       "count       569.000000        569.000000      569.000000           569.000000   \n",
       "mean          0.096360          0.104341        0.088799             0.048919   \n",
       "std           0.014064          0.052813        0.079720             0.038803   \n",
       "min           0.052630          0.019380        0.000000             0.000000   \n",
       "25%           0.086370          0.064920        0.029560             0.020310   \n",
       "50%           0.095870          0.092630        0.061540             0.033500   \n",
       "75%           0.105300          0.130400        0.130700             0.074000   \n",
       "max           0.163400          0.345400        0.426800             0.201200   \n",
       "\n",
       "       symmetry_mean  fractal_dimension_mean   radius_se  texture_se  \\\n",
       "count     569.000000              569.000000  569.000000  569.000000   \n",
       "mean        0.181162                0.062798    0.405172    1.216853   \n",
       "std         0.027414                0.007060    0.277313    0.551648   \n",
       "min         0.106000                0.049960    0.111500    0.360200   \n",
       "25%         0.161900                0.057700    0.232400    0.833900   \n",
       "50%         0.179200                0.061540    0.324200    1.108000   \n",
       "75%         0.195700                0.066120    0.478900    1.474000   \n",
       "max         0.304000                0.097440    2.873000    4.885000   \n",
       "\n",
       "       perimeter_se     area_se  smoothness_se  compactness_se  concavity_se  \\\n",
       "count    569.000000  569.000000     569.000000      569.000000    569.000000   \n",
       "mean       2.866059   40.337079       0.007041        0.025478      0.031894   \n",
       "std        2.021855   45.491006       0.003003        0.017908      0.030186   \n",
       "min        0.757000    6.802000       0.001713        0.002252      0.000000   \n",
       "25%        1.606000   17.850000       0.005169        0.013080      0.015090   \n",
       "50%        2.287000   24.530000       0.006380        0.020450      0.025890   \n",
       "75%        3.357000   45.190000       0.008146        0.032450      0.042050   \n",
       "max       21.980000  542.200000       0.031130        0.135400      0.396000   \n",
       "\n",
       "       concave points_se  symmetry_se  fractal_dimension_se  radius_worst  \\\n",
       "count         569.000000   569.000000            569.000000    569.000000   \n",
       "mean            0.011796     0.020542              0.003795     16.269190   \n",
       "std             0.006170     0.008266              0.002646      4.833242   \n",
       "min             0.000000     0.007882              0.000895      7.930000   \n",
       "25%             0.007638     0.015160              0.002248     13.010000   \n",
       "50%             0.010930     0.018730              0.003187     14.970000   \n",
       "75%             0.014710     0.023480              0.004558     18.790000   \n",
       "max             0.052790     0.078950              0.029840     36.040000   \n",
       "\n",
       "       texture_worst  perimeter_worst   area_worst  smoothness_worst  \\\n",
       "count     569.000000       569.000000   569.000000        569.000000   \n",
       "mean       25.677223       107.261213   880.583128          0.132369   \n",
       "std         6.146258        33.602542   569.356993          0.022832   \n",
       "min        12.020000        50.410000   185.200000          0.071170   \n",
       "25%        21.080000        84.110000   515.300000          0.116600   \n",
       "50%        25.410000        97.660000   686.500000          0.131300   \n",
       "75%        29.720000       125.400000  1084.000000          0.146000   \n",
       "max        49.540000       251.200000  4254.000000          0.222600   \n",
       "\n",
       "       compactness_worst  concavity_worst  concave points_worst  \\\n",
       "count         569.000000       569.000000            569.000000   \n",
       "mean            0.254265         0.272188              0.114606   \n",
       "std             0.157336         0.208624              0.065732   \n",
       "min             0.027290         0.000000              0.000000   \n",
       "25%             0.147200         0.114500              0.064930   \n",
       "50%             0.211900         0.226700              0.099930   \n",
       "75%             0.339100         0.382900              0.161400   \n",
       "max             1.058000         1.252000              0.291000   \n",
       "\n",
       "       symmetry_worst  fractal_dimension_worst  Unnamed: 32  \n",
       "count      569.000000               569.000000          0.0  \n",
       "mean         0.290076                 0.083946          NaN  \n",
       "std          0.061867                 0.018061          NaN  \n",
       "min          0.156500                 0.055040          NaN  \n",
       "25%          0.250400                 0.071460          NaN  \n",
       "50%          0.282200                 0.080040          NaN  \n",
       "75%          0.317900                 0.092080          NaN  \n",
       "max          0.663800                 0.207500          NaN  "
      ]
     },
     "execution_count": 5,
     "metadata": {},
     "output_type": "execute_result"
    }
   ],
   "source": [
    "pd.set_option('display.max_columns', None)\n",
    "df.describe()"
   ]
  },
  {
   "cell_type": "code",
   "execution_count": 6,
   "id": "19ba3a43",
   "metadata": {},
   "outputs": [
    {
     "data": {
      "text/plain": [
       "id                           0\n",
       "diagnosis                    0\n",
       "radius_mean                  0\n",
       "texture_mean                 0\n",
       "perimeter_mean               0\n",
       "area_mean                    0\n",
       "smoothness_mean              0\n",
       "compactness_mean             0\n",
       "concavity_mean               0\n",
       "concave points_mean          0\n",
       "symmetry_mean                0\n",
       "fractal_dimension_mean       0\n",
       "radius_se                    0\n",
       "texture_se                   0\n",
       "perimeter_se                 0\n",
       "area_se                      0\n",
       "smoothness_se                0\n",
       "compactness_se               0\n",
       "concavity_se                 0\n",
       "concave points_se            0\n",
       "symmetry_se                  0\n",
       "fractal_dimension_se         0\n",
       "radius_worst                 0\n",
       "texture_worst                0\n",
       "perimeter_worst              0\n",
       "area_worst                   0\n",
       "smoothness_worst             0\n",
       "compactness_worst            0\n",
       "concavity_worst              0\n",
       "concave points_worst         0\n",
       "symmetry_worst               0\n",
       "fractal_dimension_worst      0\n",
       "Unnamed: 32                569\n",
       "dtype: int64"
      ]
     },
     "execution_count": 6,
     "metadata": {},
     "output_type": "execute_result"
    }
   ],
   "source": [
    "df.isnull().sum()"
   ]
  },
  {
   "cell_type": "code",
   "execution_count": 7,
   "id": "d3faeb19",
   "metadata": {},
   "outputs": [],
   "source": [
    "df.drop('Unnamed: 32',axis=1,inplace=True)"
   ]
  },
  {
   "cell_type": "code",
   "execution_count": 8,
   "id": "cd63acaf",
   "metadata": {},
   "outputs": [],
   "source": [
    "df.drop('id',axis=1,inplace=True)"
   ]
  },
  {
   "cell_type": "markdown",
   "id": "ebda6c01",
   "metadata": {},
   "source": [
    "## Target"
   ]
  },
  {
   "cell_type": "code",
   "execution_count": 9,
   "id": "0a3f3c8e",
   "metadata": {},
   "outputs": [
    {
     "name": "stderr",
     "output_type": "stream",
     "text": [
      "C:\\Users\\jonah\\anaconda3\\lib\\site-packages\\seaborn\\_decorators.py:36: FutureWarning: Pass the following variable as a keyword arg: x. From version 0.12, the only valid positional argument will be `data`, and passing other arguments without an explicit keyword will result in an error or misinterpretation.\n",
      "  warnings.warn(\n"
     ]
    },
    {
     "data": {
      "text/plain": [
       "<Axes: xlabel='diagnosis', ylabel='count'>"
      ]
     },
     "execution_count": 9,
     "metadata": {},
     "output_type": "execute_result"
    },
    {
     "data": {
      "image/png": "[encoded data removed]",
      "text/plain": [
       "<Figure size 640x480 with 1 Axes>"
      ]
     },
     "metadata": {},
     "output_type": "display_data"
    }
   ],
   "source": [
    "sns.countplot(df.diagnosis)"
   ]
  },
  {
   "cell_type": "markdown",
   "id": "283dc720",
   "metadata": {},
   "source": [
    "## boxplot"
   ]
  },
  {
   "cell_type": "markdown",
   "id": "149cb86a",
   "metadata": {},
   "source": [
    "## radius_mean"
   ]
  },
  {
   "cell_type": "code",
   "execution_count": 10,
   "id": "11beba79",
   "metadata": {},
   "outputs": [
    {
     "data": {
      "image/png": "[encoded data removed]",
      "text/plain": [
       "<Figure size 640x480 with 1 Axes>"
      ]
     },
     "metadata": {},
     "output_type": "display_data"
    }
   ],
   "source": [
    "sns.boxplot(x=\"radius_mean\", data=df)\n",
    "plt.show()"
   ]
  },
  {
   "cell_type": "code",
   "execution_count": 11,
   "id": "70ac6840",
   "metadata": {},
   "outputs": [],
   "source": [
    "q1=df['radius_mean'].quantile(0.25)\n",
    "q3=df['radius_mean'].quantile(0.75)\n",
    "iqr=q3-q1\n",
    "lower=q1- 1.5*iqr\n",
    "upper=q3+1.5*iqr\n",
    "df['radius_mean']=np.where(df['radius_mean']>upper,upper,df['radius_mean'])\n",
    "df['radius_mean']=np.where(df['radius_mean']<lower,lower,df['radius_mean'])"
   ]
  },
  {
   "cell_type": "markdown",
   "id": "b4292cb7",
   "metadata": {},
   "source": [
    "## texture_mean"
   ]
  },
  {
   "cell_type": "code",
   "execution_count": 12,
   "id": "dff96991",
   "metadata": {},
   "outputs": [
    {
     "data": {
      "image/png": "[encoded data removed]",
      "text/plain": [
       "<Figure size 640x480 with 1 Axes>"
      ]
     },
     "metadata": {},
     "output_type": "display_data"
    }
   ],
   "source": [
    "sns.boxplot(x=\"texture_mean\", data=df)\n",
    "plt.show()"
   ]
  },
  {
   "cell_type": "code",
   "execution_count": 13,
   "id": "fec59edf",
   "metadata": {},
   "outputs": [],
   "source": [
    "q1=df['texture_mean'].quantile(0.25)\n",
    "q3=df['texture_mean'].quantile(0.75)\n",
    "iqr=q3-q1\n",
    "lower=q1- 1.5*iqr\n",
    "upper=q3+1.5*iqr\n",
    "df['texture_mean']=np.where(df['texture_mean']>upper,upper,df['texture_mean'])\n",
    "df['texture_mean']=np.where(df['texture_mean']<lower,lower,df['texture_mean'])"
   ]
  },
  {
   "cell_type": "markdown",
   "id": "9db9c211",
   "metadata": {},
   "source": [
    "## perimeter_mean"
   ]
  },
  {
   "cell_type": "code",
   "execution_count": 14,
   "id": "c6cbdabe",
   "metadata": {},
   "outputs": [
    {
     "data": {
      "image/png": "[encoded data removed]",
      "text/plain": [
       "<Figure size 640x480 with 1 Axes>"
      ]
     },
     "metadata": {},
     "output_type": "display_data"
    }
   ],
   "source": [
    "sns.boxplot(x=\"perimeter_mean\", data=df)\n",
    "plt.show()"
   ]
  },
  {
   "cell_type": "code",
   "execution_count": 15,
   "id": "f85b0679",
   "metadata": {},
   "outputs": [],
   "source": [
    "q1=df['perimeter_mean'].quantile(0.25)\n",
    "q3=df['perimeter_mean'].quantile(0.75)\n",
    "iqr=q3-q1\n",
    "lower=q1- 1.5*iqr\n",
    "upper=q3+1.5*iqr\n",
    "df['perimeter_mean']=np.where(df['perimeter_mean']>upper,upper,df['perimeter_mean'])\n",
    "df['perimeter_mean']=np.where(df['perimeter_mean']<lower,lower,df['perimeter_mean'])"
   ]
  },
  {
   "cell_type": "markdown",
   "id": "26500ed3",
   "metadata": {},
   "source": [
    "## area_mean"
   ]
  },
  {
   "cell_type": "code",
   "execution_count": 16,
   "id": "2c654e65",
   "metadata": {},
   "outputs": [
    {
     "data": {
      "image/png": "[encoded data removed]",
      "text/plain": [
       "<Figure size 640x480 with 1 Axes>"
      ]
     },
     "metadata": {},
     "output_type": "display_data"
    }
   ],
   "source": [
    "sns.boxplot(x=\"area_mean\", data=df)\n",
    "plt.show()"
   ]
  },
  {
   "cell_type": "code",
   "execution_count": 17,
   "id": "d382d0b1",
   "metadata": {},
   "outputs": [],
   "source": [
    "q1=df['area_mean'].quantile(0.25)\n",
    "q3=df['area_mean'].quantile(0.75)\n",
    "iqr=q3-q1\n",
    "lower=q1- 1.5*iqr\n",
    "upper=q3+1.5*iqr\n",
    "df['area_mean']=np.where(df['area_mean']>upper,upper,df['area_mean'])\n",
    "df['area_mean']=np.where(df['area_mean']<lower,lower,df['area_mean'])"
   ]
  },
  {
   "cell_type": "markdown",
   "id": "661c6cf7",
   "metadata": {},
   "source": [
    "## smoothness_mean"
   ]
  },
  {
   "cell_type": "code",
   "execution_count": 18,
   "id": "2a2f870e",
   "metadata": {},
   "outputs": [
    {
     "data": {
      "image/png": "[encoded data removed]",
      "text/plain": [
       "<Figure size 640x480 with 1 Axes>"
      ]
     },
     "metadata": {},
     "output_type": "display_data"
    }
   ],
   "source": [
    "sns.boxplot(x=\"smoothness_mean\", data=df)\n",
    "plt.show()"
   ]
  },
  {
   "cell_type": "code",
   "execution_count": 19,
   "id": "cfedd05c",
   "metadata": {},
   "outputs": [],
   "source": [
    "q1=df['smoothness_mean'].quantile(0.25)\n",
    "q3=df['smoothness_mean'].quantile(0.75)\n",
    "iqr=q3-q1\n",
    "lower=q1- 1.5*iqr\n",
    "upper=q3+1.5*iqr\n",
    "df['smoothness_mean']=np.where(df['smoothness_mean']>upper,upper,df['smoothness_mean'])\n",
    "df['smoothness_mean']=np.where(df['smoothness_mean']<lower,lower,df['smoothness_mean'])"
   ]
  },
  {
   "cell_type": "markdown",
   "id": "e003afb4",
   "metadata": {},
   "source": [
    "## compactness_mean"
   ]
  },
  {
   "cell_type": "code",
   "execution_count": 20,
   "id": "47b477d1",
   "metadata": {},
   "outputs": [
    {
     "data": {
      "image/png": "[encoded data removed]",
      "text/plain": [
       "<Figure size 640x480 with 1 Axes>"
      ]
     },
     "metadata": {},
     "output_type": "display_data"
    }
   ],
   "source": [
    "sns.boxplot(x=\"compactness_mean\", data=df)\n",
    "plt.show()"
   ]
  },
  {
   "cell_type": "code",
   "execution_count": 21,
   "id": "280e7621",
   "metadata": {},
   "outputs": [],
   "source": [
    "q1=df['compactness_mean'].quantile(0.25)\n",
    "q3=df['compactness_mean'].quantile(0.75)\n",
    "iqr=q3-q1\n",
    "lower=q1- 1.5*iqr\n",
    "upper=q3+1.5*iqr\n",
    "df['compactness_mean']=np.where(df['compactness_mean']>upper,upper,df['compactness_mean'])\n",
    "df['compactness_mean']=np.where(df['compactness_mean']<lower,lower,df['compactness_mean'])"
   ]
  },
  {
   "cell_type": "markdown",
   "id": "dedabb67",
   "metadata": {},
   "source": [
    "## concavity_mean"
   ]
  },
  {
   "cell_type": "code",
   "execution_count": 22,
   "id": "8b24468e",
   "metadata": {},
   "outputs": [
    {
     "data": {
      "image/png": "[encoded data removed]",
      "text/plain": [
       "<Figure size 640x480 with 1 Axes>"
      ]
     },
     "metadata": {},
     "output_type": "display_data"
    }
   ],
   "source": [
    "sns.boxplot(x=\"concavity_mean\", data=df)\n",
    "plt.show()"
   ]
  },
  {
   "cell_type": "code",
   "execution_count": 23,
   "id": "f908abba",
   "metadata": {},
   "outputs": [],
   "source": [
    "q1=df['concavity_mean'].quantile(0.25)\n",
    "q3=df['concavity_mean'].quantile(0.75)\n",
    "iqr=q3-q1\n",
    "lower=q1- 1.5*iqr\n",
    "upper=q3+1.5*iqr\n",
    "df['concavity_mean']=np.where(df['concavity_mean']>upper,upper,df['concavity_mean'])\n",
    "df['concavity_mean']=np.where(df['concavity_mean']<lower,lower,df['concavity_mean'])"
   ]
  },
  {
   "cell_type": "markdown",
   "id": "82063eff",
   "metadata": {},
   "source": [
    "## concave points_mean"
   ]
  },
  {
   "cell_type": "code",
   "execution_count": 24,
   "id": "95678581",
   "metadata": {},
   "outputs": [
    {
     "data": {
      "image/png": "[encoded data removed]",
      "text/plain": [
       "<Figure size 640x480 with 1 Axes>"
      ]
     },
     "metadata": {},
     "output_type": "display_data"
    }
   ],
   "source": [
    "sns.boxplot(x=\"concave points_mean\", data=df)\n",
    "plt.show()"
   ]
  },
  {
   "cell_type": "code",
   "execution_count": 25,
   "id": "c6d43470",
   "metadata": {},
   "outputs": [],
   "source": [
    "q1=df['concave points_mean'].quantile(0.25)\n",
    "q3=df['concave points_mean'].quantile(0.75)\n",
    "iqr=q3-q1\n",
    "lower=q1- 1.5*iqr\n",
    "upper=q3+1.5*iqr\n",
    "df['concave points_mean']=np.where(df['concave points_mean']>upper,upper,df['concave points_mean'])\n",
    "df['concave points_mean']=np.where(df['concave points_mean']<lower,lower,df['concave points_mean'])"
   ]
  },
  {
   "cell_type": "markdown",
   "id": "3ec6460d",
   "metadata": {},
   "source": [
    "## symmetry_mean"
   ]
  },
  {
   "cell_type": "code",
   "execution_count": 26,
   "id": "6981116e",
   "metadata": {},
   "outputs": [
    {
     "data": {
      "image/png": "[encoded data removed]",
      "text/plain": [
       "<Figure size 640x480 with 1 Axes>"
      ]
     },
     "metadata": {},
     "output_type": "display_data"
    }
   ],
   "source": [
    "sns.boxplot(x=\"symmetry_mean\", data=df)\n",
    "plt.show()"
   ]
  },
  {
   "cell_type": "code",
   "execution_count": 27,
   "id": "66fe33e3",
   "metadata": {},
   "outputs": [],
   "source": [
    "q1=df['symmetry_mean'].quantile(0.25)\n",
    "q3=df['symmetry_mean'].quantile(0.75)\n",
    "iqr=q3-q1\n",
    "lower=q1- 1.5*iqr\n",
    "upper=q3+1.5*iqr\n",
    "df['symmetry_mean']=np.where(df['symmetry_mean']>upper,upper,df['symmetry_mean'])\n",
    "df['symmetry_mean']=np.where(df['symmetry_mean']<lower,lower,df['symmetry_mean'])"
   ]
  },
  {
   "cell_type": "markdown",
   "id": "e0587a90",
   "metadata": {},
   "source": [
    "## fractal_dimension_mean"
   ]
  },
  {
   "cell_type": "code",
   "execution_count": 28,
   "id": "6e354948",
   "metadata": {},
   "outputs": [
    {
     "data": {
      "image/png": "[encoded data removed]",
      "text/plain": [
       "<Figure size 640x480 with 1 Axes>"
      ]
     },
     "metadata": {},
     "output_type": "display_data"
    }
   ],
   "source": [
    "sns.boxplot(x=\"fractal_dimension_mean\", data=df)\n",
    "plt.show()"
   ]
  },
  {
   "cell_type": "code",
   "execution_count": 29,
   "id": "0aefa054",
   "metadata": {},
   "outputs": [],
   "source": [
    "q1=df['fractal_dimension_mean'].quantile(0.25)\n",
    "q3=df['fractal_dimension_mean'].quantile(0.75)\n",
    "iqr=q3-q1\n",
    "lower=q1- 1.5*iqr\n",
    "upper=q3+1.5*iqr\n",
    "df['fractal_dimension_mean']=np.where(df['fractal_dimension_mean']>upper,upper,df['fractal_dimension_mean'])\n",
    "df['fractal_dimension_mean']=np.where(df['fractal_dimension_mean']<lower,lower,df['fractal_dimension_mean'])"
   ]
  },
  {
   "cell_type": "markdown",
   "id": "418d5ab4",
   "metadata": {},
   "source": [
    "## radius_se"
   ]
  },
  {
   "cell_type": "code",
   "execution_count": 30,
   "id": "e08ce0b5",
   "metadata": {},
   "outputs": [
    {
     "data": {
      "image/png": "[encoded data removed]",
      "text/plain": [
       "<Figure size 640x480 with 1 Axes>"
      ]
     },
     "metadata": {},
     "output_type": "display_data"
    }
   ],
   "source": [
    "sns.boxplot(x=\"radius_se\", data=df)\n",
    "plt.show()"
   ]
  },
  {
   "cell_type": "code",
   "execution_count": 31,
   "id": "86403635",
   "metadata": {},
   "outputs": [],
   "source": [
    "q1=df['radius_se'].quantile(0.25)\n",
    "q3=df['radius_se'].quantile(0.75)\n",
    "iqr=q3-q1\n",
    "lower=q1- 1.5*iqr\n",
    "upper=q3+1.5*iqr\n",
    "df['radius_se']=np.where(df['radius_se']>upper,upper,df['radius_se'])\n",
    "df['radius_se']=np.where(df['radius_se']<lower,lower,df['radius_se'])"
   ]
  },
  {
   "cell_type": "markdown",
   "id": "bf4a2d4a",
   "metadata": {},
   "source": [
    "## texture_se"
   ]
  },
  {
   "cell_type": "code",
   "execution_count": 32,
   "id": "38acbed4",
   "metadata": {},
   "outputs": [
    {
     "data": {
      "image/png": "[encoded data removed]",
      "text/plain": [
       "<Figure size 640x480 with 1 Axes>"
      ]
     },
     "metadata": {},
     "output_type": "display_data"
    }
   ],
   "source": [
    "sns.boxplot(x=\"texture_se\", data=df)\n",
    "plt.show()"
   ]
  },
  {
   "cell_type": "code",
   "execution_count": 33,
   "id": "86ddcf6a",
   "metadata": {},
   "outputs": [],
   "source": [
    "q1=df['texture_se'].quantile(0.25)\n",
    "q3=df['texture_se'].quantile(0.75)\n",
    "iqr=q3-q1\n",
    "lower=q1- 1.5*iqr\n",
    "upper=q3+1.5*iqr\n",
    "df['texture_se']=np.where(df['texture_se']>upper,upper,df['texture_se'])\n",
    "df['texture_se']=np.where(df['texture_se']<lower,lower,df['texture_se'])"
   ]
  },
  {
   "cell_type": "markdown",
   "id": "7a0465c0",
   "metadata": {},
   "source": [
    "## perimeter_se"
   ]
  },
  {
   "cell_type": "code",
   "execution_count": 34,
   "id": "127de277",
   "metadata": {},
   "outputs": [
    {
     "data": {
      "image/png": "[encoded data removed]",
      "text/plain": [
       "<Figure size 640x480 with 1 Axes>"
      ]
     },
     "metadata": {},
     "output_type": "display_data"
    }
   ],
   "source": [
    "sns.boxplot(x=\"perimeter_se\", data=df)\n",
    "plt.show()"
   ]
  },
  {
   "cell_type": "code",
   "execution_count": 35,
   "id": "d7557fdd",
   "metadata": {},
   "outputs": [],
   "source": [
    "q1=df['perimeter_se'].quantile(0.25)\n",
    "q3=df['perimeter_se'].quantile(0.75)\n",
    "iqr=q3-q1\n",
    "lower=q1- 1.5*iqr\n",
    "upper=q3+1.5*iqr\n",
    "df['perimeter_se']=np.where(df['perimeter_se']>upper,upper,df['perimeter_se'])\n",
    "df['perimeter_se']=np.where(df['perimeter_se']<lower,lower,df['perimeter_se'])"
   ]
  },
  {
   "cell_type": "markdown",
   "id": "e599ea84",
   "metadata": {},
   "source": [
    "## area_se"
   ]
  },
  {
   "cell_type": "code",
   "execution_count": 36,
   "id": "09955650",
   "metadata": {},
   "outputs": [
    {
     "data": {
      "image/png": "[encoded data removed]",
      "text/plain": [
       "<Figure size 640x480 with 1 Axes>"
      ]
     },
     "metadata": {},
     "output_type": "display_data"
    }
   ],
   "source": [
    "sns.boxplot(x=\"area_se\", data=df)\n",
    "plt.show()"
   ]
  },
  {
   "cell_type": "code",
   "execution_count": 37,
   "id": "f2db9e88",
   "metadata": {},
   "outputs": [],
   "source": [
    "q1=df['area_se'].quantile(0.25)\n",
    "q3=df['area_se'].quantile(0.75)\n",
    "iqr=q3-q1\n",
    "lower=q1- 1.5*iqr\n",
    "upper=q3+1.5*iqr\n",
    "df['area_se']=np.where(df['area_se']>upper,upper,df['area_se'])\n",
    "df['area_se']=np.where(df['area_se']<lower,lower,df['area_se'])"
   ]
  },
  {
   "cell_type": "markdown",
   "id": "de1e7a40",
   "metadata": {},
   "source": [
    "## smoothness_se"
   ]
  },
  {
   "cell_type": "code",
   "execution_count": 38,
   "id": "3dcb3216",
   "metadata": {},
   "outputs": [
    {
     "data": {
      "image/png": "[encoded data removed]",
      "text/plain": [
       "<Figure size 640x480 with 1 Axes>"
      ]
     },
     "metadata": {},
     "output_type": "display_data"
    }
   ],
   "source": [
    "sns.boxplot(x=\"smoothness_se\", data=df)\n",
    "plt.show()"
   ]
  },
  {
   "cell_type": "code",
   "execution_count": 39,
   "id": "7f471334",
   "metadata": {},
   "outputs": [],
   "source": [
    "q1=df['smoothness_se'].quantile(0.25)\n",
    "q3=df['smoothness_se'].quantile(0.75)\n",
    "iqr=q3-q1\n",
    "lower=q1- 1.5*iqr\n",
    "upper=q3+1.5*iqr\n",
    "df['smoothness_se']=np.where(df['smoothness_se']>upper,upper,df['smoothness_se'])\n",
    "df['smoothness_se']=np.where(df['smoothness_se']<lower,lower,df['smoothness_se'])"
   ]
  },
  {
   "cell_type": "markdown",
   "id": "728657da",
   "metadata": {},
   "source": [
    "## compactness_se"
   ]
  },
  {
   "cell_type": "code",
   "execution_count": 40,
   "id": "b5f4ac89",
   "metadata": {},
   "outputs": [
    {
     "data": {
      "image/png": "[encoded data removed]",
      "text/plain": [
       "<Figure size 640x480 with 1 Axes>"
      ]
     },
     "metadata": {},
     "output_type": "display_data"
    }
   ],
   "source": [
    "sns.boxplot(x=\"compactness_se\", data=df)\n",
    "plt.show()"
   ]
  },
  {
   "cell_type": "code",
   "execution_count": 41,
   "id": "d50bea70",
   "metadata": {},
   "outputs": [],
   "source": [
    "q1=df['compactness_se'].quantile(0.25)\n",
    "q3=df['compactness_se'].quantile(0.75)\n",
    "iqr=q3-q1\n",
    "lower=q1- 1.5*iqr\n",
    "upper=q3+1.5*iqr\n",
    "df['compactness_se']=np.where(df['compactness_se']>upper,upper,df['compactness_se'])\n",
    "df['compactness_se']=np.where(df['compactness_se']<lower,lower,df['compactness_se'])"
   ]
  },
  {
   "cell_type": "markdown",
   "id": "d741ea1f",
   "metadata": {},
   "source": [
    "## concavity_se"
   ]
  },
  {
   "cell_type": "code",
   "execution_count": 42,
   "id": "450d9a90",
   "metadata": {},
   "outputs": [
    {
     "data": {
      "image/png": "[encoded data removed]",
      "text/plain": [
       "<Figure size 640x480 with 1 Axes>"
      ]
     },
     "metadata": {},
     "output_type": "display_data"
    }
   ],
   "source": [
    "sns.boxplot(x=\"concavity_se\", data=df)\n",
    "plt.show()"
   ]
  },
  {
   "cell_type": "code",
   "execution_count": 43,
   "id": "264f9171",
   "metadata": {},
   "outputs": [],
   "source": [
    "q1=df['concavity_se'].quantile(0.25)\n",
    "q3=df['concavity_se'].quantile(0.75)\n",
    "iqr=q3-q1\n",
    "lower=q1- 1.5*iqr\n",
    "upper=q3+1.5*iqr\n",
    "df['concavity_se']=np.where(df['concavity_se']>upper,upper,df['concavity_se'])\n",
    "df['concavity_se']=np.where(df['concavity_se']<lower,lower,df['concavity_se'])"
   ]
  },
  {
   "cell_type": "markdown",
   "id": "5fbd03e5",
   "metadata": {},
   "source": [
    "## concave points_se"
   ]
  },
  {
   "cell_type": "code",
   "execution_count": 44,
   "id": "0bf8b2d9",
   "metadata": {},
   "outputs": [
    {
     "data": {
      "image/png": "[encoded data removed]",
      "text/plain": [
       "<Figure size 640x480 with 1 Axes>"
      ]
     },
     "metadata": {},
     "output_type": "display_data"
    }
   ],
   "source": [
    "sns.boxplot(x=\"concave points_se\", data=df)\n",
    "plt.show()"
   ]
  },
  {
   "cell_type": "code",
   "execution_count": 45,
   "id": "f27f6623",
   "metadata": {},
   "outputs": [],
   "source": [
    "q1=df['concave points_se'].quantile(0.25)\n",
    "q3=df['concave points_se'].quantile(0.75)\n",
    "iqr=q3-q1\n",
    "lower=q1- 1.5*iqr\n",
    "upper=q3+1.5*iqr\n",
    "df['concave points_se']=np.where(df['concave points_se']>upper,upper,df['concave points_se'])\n",
    "df['concave points_se']=np.where(df['concave points_se']<lower,lower,df['concave points_se'])"
   ]
  },
  {
   "cell_type": "markdown",
   "id": "47dbc534",
   "metadata": {},
   "source": [
    "## symmetry_se"
   ]
  },
  {
   "cell_type": "code",
   "execution_count": 46,
   "id": "df49d552",
   "metadata": {},
   "outputs": [
    {
     "data": {
      "image/png": "[encoded data removed]",
      "text/plain": [
       "<Figure size 640x480 with 1 Axes>"
      ]
     },
     "metadata": {},
     "output_type": "display_data"
    }
   ],
   "source": [
    "sns.boxplot(x=\"symmetry_se\", data=df)\n",
    "plt.show()"
   ]
  },
  {
   "cell_type": "code",
   "execution_count": 47,
   "id": "f418697b",
   "metadata": {},
   "outputs": [],
   "source": [
    "q1=df['symmetry_se'].quantile(0.25)\n",
    "q3=df['symmetry_se'].quantile(0.75)\n",
    "iqr=q3-q1\n",
    "lower=q1- 1.5*iqr\n",
    "upper=q3+1.5*iqr\n",
    "df['symmetry_se']=np.where(df['symmetry_se']>upper,upper,df['symmetry_se'])\n",
    "df['symmetry_se']=np.where(df['symmetry_se']<lower,lower,df['symmetry_se'])"
   ]
  },
  {
   "cell_type": "markdown",
   "id": "e14dfa74",
   "metadata": {},
   "source": [
    "## fractal_dimension_se"
   ]
  },
  {
   "cell_type": "code",
   "execution_count": 48,
   "id": "09cd76b0",
   "metadata": {},
   "outputs": [
    {
     "data": {
      "image/png": "[encoded data removed]",
      "text/plain": [
       "<Figure size 640x480 with 1 Axes>"
      ]
     },
     "metadata": {},
     "output_type": "display_data"
    }
   ],
   "source": [
    "sns.boxplot(x=\"fractal_dimension_se\", data=df)\n",
    "plt.show()"
   ]
  },
  {
   "cell_type": "code",
   "execution_count": 49,
   "id": "0ef47523",
   "metadata": {},
   "outputs": [],
   "source": [
    "q1=df['fractal_dimension_se'].quantile(0.25)\n",
    "q3=df['fractal_dimension_se'].quantile(0.75)\n",
    "iqr=q3-q1\n",
    "lower=q1- 1.5*iqr\n",
    "upper=q3+1.5*iqr\n",
    "df['fractal_dimension_se']=np.where(df['fractal_dimension_se']>upper,upper,df['fractal_dimension_se'])\n",
    "df['fractal_dimension_se']=np.where(df['fractal_dimension_se']<lower,lower,df['fractal_dimension_se'])"
   ]
  },
  {
   "cell_type": "markdown",
   "id": "9273777c",
   "metadata": {},
   "source": [
    "## radius_worst"
   ]
  },
  {
   "cell_type": "code",
   "execution_count": 50,
   "id": "f4b81d5b",
   "metadata": {},
   "outputs": [
    {
     "data": {
      "image/png": "[encoded data removed]",
      "text/plain": [
       "<Figure size 640x480 with 1 Axes>"
      ]
     },
     "metadata": {},
     "output_type": "display_data"
    }
   ],
   "source": [
    "sns.boxplot(x=\"radius_worst\", data=df)\n",
    "plt.show()"
   ]
  },
  {
   "cell_type": "code",
   "execution_count": 51,
   "id": "5f38cb9a",
   "metadata": {},
   "outputs": [],
   "source": [
    "q1=df['radius_worst'].quantile(0.25)\n",
    "q3=df['radius_worst'].quantile(0.75)\n",
    "iqr=q3-q1\n",
    "lower=q1- 1.5*iqr\n",
    "upper=q3+1.5*iqr\n",
    "df['radius_worst']=np.where(df['radius_worst']>upper,upper,df['radius_worst'])\n",
    "df['radius_worst']=np.where(df['radius_worst']<lower,lower,df['radius_worst'])"
   ]
  },
  {
   "cell_type": "markdown",
   "id": "d462ae3e",
   "metadata": {},
   "source": [
    "## texture_worst"
   ]
  },
  {
   "cell_type": "code",
   "execution_count": 52,
   "id": "b628e4ef",
   "metadata": {},
   "outputs": [
    {
     "data": {
      "image/png": "[encoded data removed]",
      "text/plain": [
       "<Figure size 640x480 with 1 Axes>"
      ]
     },
     "metadata": {},
     "output_type": "display_data"
    }
   ],
   "source": [
    "sns.boxplot(x=\"texture_worst\", data=df)\n",
    "plt.show()"
   ]
  },
  {
   "cell_type": "code",
   "execution_count": 53,
   "id": "6224ae10",
   "metadata": {},
   "outputs": [],
   "source": [
    "q1=df['texture_worst'].quantile(0.25)\n",
    "q3=df['texture_worst'].quantile(0.75)\n",
    "iqr=q3-q1\n",
    "lower=q1- 1.5*iqr\n",
    "upper=q3+1.5*iqr\n",
    "df['texture_worst']=np.where(df['texture_worst']>upper,upper,df['texture_worst'])\n",
    "df['texture_worst']=np.where(df['texture_worst']<lower,lower,df['texture_worst'])"
   ]
  },
  {
   "cell_type": "markdown",
   "id": "d9843e46",
   "metadata": {},
   "source": [
    "## perimeter_worst"
   ]
  },
  {
   "cell_type": "code",
   "execution_count": 54,
   "id": "a4ce831e",
   "metadata": {},
   "outputs": [
    {
     "data": {
      "image/png": "[encoded data removed]",
      "text/plain": [
       "<Figure size 640x480 with 1 Axes>"
      ]
     },
     "metadata": {},
     "output_type": "display_data"
    }
   ],
   "source": [
    "sns.boxplot(x=\"perimeter_worst\", data=df)\n",
    "plt.show()"
   ]
  },
  {
   "cell_type": "code",
   "execution_count": 55,
   "id": "9602b17e",
   "metadata": {},
   "outputs": [],
   "source": [
    "q1=df['perimeter_worst'].quantile(0.25)\n",
    "q3=df['perimeter_worst'].quantile(0.75)\n",
    "iqr=q3-q1\n",
    "lower=q1- 1.5*iqr\n",
    "upper=q3+1.5*iqr\n",
    "df['perimeter_worst']=np.where(df['perimeter_worst']>upper,upper,df['perimeter_worst'])\n",
    "df['perimeter_worst']=np.where(df['perimeter_worst']<lower,lower,df['perimeter_worst'])"
   ]
  },
  {
   "cell_type": "markdown",
   "id": "59822e08",
   "metadata": {},
   "source": [
    "## area_worst"
   ]
  },
  {
   "cell_type": "code",
   "execution_count": 56,
   "id": "dc48fccf",
   "metadata": {},
   "outputs": [
    {
     "data": {
      "image/png": "[encoded data removed]",
      "text/plain": [
       "<Figure size 640x480 with 1 Axes>"
      ]
     },
     "metadata": {},
     "output_type": "display_data"
    }
   ],
   "source": [
    "sns.boxplot(x=\"area_worst\", data=df)\n",
    "plt.show()"
   ]
  },
  {
   "cell_type": "code",
   "execution_count": 57,
   "id": "3550ff5e",
   "metadata": {},
   "outputs": [],
   "source": [
    "q1=df['area_worst'].quantile(0.25)\n",
    "q3=df['area_worst'].quantile(0.75)\n",
    "iqr=q3-q1\n",
    "lower=q1- 1.5*iqr\n",
    "upper=q3+1.5*iqr\n",
    "df['area_worst']=np.where(df['area_worst']>upper,upper,df['area_worst'])\n",
    "df['area_worst']=np.where(df['area_worst']<lower,lower,df['area_worst'])"
   ]
  },
  {
   "cell_type": "markdown",
   "id": "111d8c01",
   "metadata": {},
   "source": [
    "## smoothness_worst"
   ]
  },
  {
   "cell_type": "code",
   "execution_count": 58,
   "id": "f3dc34b5",
   "metadata": {},
   "outputs": [
    {
     "data": {
      "image/png": "[encoded data removed]",
      "text/plain": [
       "<Figure size 640x480 with 1 Axes>"
      ]
     },
     "metadata": {},
     "output_type": "display_data"
    }
   ],
   "source": [
    "sns.boxplot(x=\"smoothness_worst\", data=df)\n",
    "plt.show()"
   ]
  },
  {
   "cell_type": "code",
   "execution_count": 59,
   "id": "66b9158a",
   "metadata": {},
   "outputs": [],
   "source": [
    "q1=df['smoothness_worst'].quantile(0.25)\n",
    "q3=df['smoothness_worst'].quantile(0.75)\n",
    "iqr=q3-q1\n",
    "lower=q1- 1.5*iqr\n",
    "upper=q3+1.5*iqr\n",
    "df['smoothness_worst']=np.where(df['smoothness_worst']>upper,upper,df['smoothness_worst'])\n",
    "df['smoothness_worst']=np.where(df['smoothness_worst']<lower,lower,df['smoothness_worst'])"
   ]
  },
  {
   "cell_type": "markdown",
   "id": "cbb7146b",
   "metadata": {},
   "source": [
    "## compactness_worst"
   ]
  },
  {
   "cell_type": "code",
   "execution_count": 60,
   "id": "dca420b6",
   "metadata": {},
   "outputs": [
    {
     "data": {
      "image/png": "[encoded data removed]",
      "text/plain": [
       "<Figure size 640x480 with 1 Axes>"
      ]
     },
     "metadata": {},
     "output_type": "display_data"
    }
   ],
   "source": [
    "sns.boxplot(x=\"compactness_worst\", data=df)\n",
    "plt.show()"
   ]
  },
  {
   "cell_type": "code",
   "execution_count": 61,
   "id": "06b8fb5b",
   "metadata": {},
   "outputs": [],
   "source": [
    "q1=df['compactness_worst'].quantile(0.25)\n",
    "q3=df['compactness_worst'].quantile(0.75)\n",
    "iqr=q3-q1\n",
    "lower=q1- 1.5*iqr\n",
    "upper=q3+1.5*iqr\n",
    "df['compactness_worst']=np.where(df['compactness_worst']>upper,upper,df['compactness_worst'])\n",
    "df['compactness_worst']=np.where(df['compactness_worst']<lower,lower,df['compactness_worst'])"
   ]
  },
  {
   "cell_type": "markdown",
   "id": "1dcddbba",
   "metadata": {},
   "source": [
    "## concavity_worst"
   ]
  },
  {
   "cell_type": "code",
   "execution_count": 62,
   "id": "7e4f12fe",
   "metadata": {},
   "outputs": [
    {
     "data": {
      "image/png": "[encoded data removed]",
      "text/plain": [
       "<Figure size 640x480 with 1 Axes>"
      ]
     },
     "metadata": {},
     "output_type": "display_data"
    }
   ],
   "source": [
    "sns.boxplot(x=\"concavity_worst\", data=df)\n",
    "plt.show()"
   ]
  },
  {
   "cell_type": "code",
   "execution_count": 63,
   "id": "b030370e",
   "metadata": {},
   "outputs": [],
   "source": [
    "q1=df['concavity_worst'].quantile(0.25)\n",
    "q3=df['concavity_worst'].quantile(0.75)\n",
    "iqr=q3-q1\n",
    "lower=q1- 1.5*iqr\n",
    "upper=q3+1.5*iqr\n",
    "df['concavity_worst']=np.where(df['concavity_worst']>upper,upper,df['concavity_worst'])\n",
    "df['concavity_worst']=np.where(df['concavity_worst']<lower,lower,df['concavity_worst'])"
   ]
  },
  {
   "cell_type": "markdown",
   "id": "15abc252",
   "metadata": {},
   "source": [
    "## concave points_worst"
   ]
  },
  {
   "cell_type": "code",
   "execution_count": 64,
   "id": "e3d9060f",
   "metadata": {},
   "outputs": [
    {
     "data": {
      "image/png": "[encoded data removed]",
      "text/plain": [
       "<Figure size 640x480 with 1 Axes>"
      ]
     },
     "metadata": {},
     "output_type": "display_data"
    }
   ],
   "source": [
    "sns.boxplot(x=\"concave points_worst\", data=df)\n",
    "plt.show()"
   ]
  },
  {
   "cell_type": "code",
   "execution_count": 65,
   "id": "c83a8777",
   "metadata": {},
   "outputs": [],
   "source": [
    "q1=df['concave points_worst'].quantile(0.25)\n",
    "q3=df['concave points_worst'].quantile(0.75)\n",
    "iqr=q3-q1\n",
    "lower=q1- 1.5*iqr\n",
    "upper=q3+1.5*iqr\n",
    "df['concave points_worst']=np.where(df['concave points_worst']>upper,upper,df['concave points_worst'])\n",
    "df['concave points_worst']=np.where(df['concave points_worst']<lower,lower,df['concave points_worst'])"
   ]
  },
  {
   "cell_type": "markdown",
   "id": "d785f703",
   "metadata": {},
   "source": [
    "## symmetry_worst"
   ]
  },
  {
   "cell_type": "code",
   "execution_count": 66,
   "id": "9be1122d",
   "metadata": {},
   "outputs": [
    {
     "data": {
      "image/png": "[encoded data removed]",
      "text/plain": [
       "<Figure size 640x480 with 1 Axes>"
      ]
     },
     "metadata": {},
     "output_type": "display_data"
    }
   ],
   "source": [
    "sns.boxplot(x=\"symmetry_worst\", data=df)\n",
    "plt.show()"
   ]
  },
  {
   "cell_type": "code",
   "execution_count": 67,
   "id": "c0e73f79",
   "metadata": {},
   "outputs": [],
   "source": [
    "q1=df['symmetry_worst'].quantile(0.25)\n",
    "q3=df['symmetry_worst'].quantile(0.75)\n",
    "iqr=q3-q1\n",
    "lower=q1- 1.5*iqr\n",
    "upper=q3+1.5*iqr\n",
    "df['symmetry_worst']=np.where(df['symmetry_worst']>upper,upper,df['symmetry_worst'])\n",
    "df['symmetry_worst']=np.where(df['symmetry_worst']<lower,lower,df['symmetry_worst'])"
   ]
  },
  {
   "cell_type": "markdown",
   "id": "1b0ab8c2",
   "metadata": {},
   "source": [
    "## fractal_dimension_worst"
   ]
  },
  {
   "cell_type": "code",
   "execution_count": 68,
   "id": "62b39280",
   "metadata": {},
   "outputs": [
    {
     "data": {
      "image/png": "[encoded data removed]",
      "text/plain": [
       "<Figure size 640x480 with 1 Axes>"
      ]
     },
     "metadata": {},
     "output_type": "display_data"
    }
   ],
   "source": [
    "sns.boxplot(x=\"fractal_dimension_worst\", data=df)\n",
    "plt.show()"
   ]
  },
  {
   "cell_type": "code",
   "execution_count": 69,
   "id": "39d09b92",
   "metadata": {},
   "outputs": [],
   "source": [
    "q1=df['fractal_dimension_worst'].quantile(0.25)\n",
    "q3=df['fractal_dimension_worst'].quantile(0.75)\n",
    "iqr=q3-q1\n",
    "lower=q1- 1.5*iqr\n",
    "upper=q3+1.5*iqr\n",
    "df['fractal_dimension_worst']=np.where(df['fractal_dimension_worst']>upper,upper,df['fractal_dimension_worst'])\n",
    "df['fractal_dimension_worst']=np.where(df['fractal_dimension_worst']<lower,lower,df['fractal_dimension_worst'])"
   ]
  },
  {
   "cell_type": "markdown",
   "id": "1574afc3",
   "metadata": {},
   "source": [
    "## scaling"
   ]
  },
  {
   "cell_type": "code",
   "execution_count": 70,
   "id": "09aaae95",
   "metadata": {},
   "outputs": [],
   "source": [
    "from sklearn.preprocessing import StandardScaler"
   ]
  },
  {
   "cell_type": "code",
   "execution_count": 71,
   "id": "6d00f54d",
   "metadata": {},
   "outputs": [],
   "source": [
    "scaler = StandardScaler() \n",
    "df_scaled = scaler.fit_transform(df.iloc[:, 1:])"
   ]
  },
  {
   "cell_type": "code",
   "execution_count": 72,
   "id": "86f49546",
   "metadata": {},
   "outputs": [],
   "source": [
    "df_scaled = pd.DataFrame(df_scaled, columns=df.iloc[:, 1:].columns.tolist())"
   ]
  },
  {
   "cell_type": "code",
   "execution_count": 73,
   "id": "29979e19",
   "metadata": {},
   "outputs": [
    {
     "data": {
      "text/html": [
       "<div>\n",
       "<style scoped>\n",
       "    .dataframe tbody tr th:only-of-type {\n",
       "        vertical-align: middle;\n",
       "    }\n",
       "\n",
       "    .dataframe tbody tr th {\n",
       "        vertical-align: top;\n",
       "    }\n",
       "\n",
       "    .dataframe thead th {\n",
       "        text-align: right;\n",
       "    }\n",
       "</style>\n",
       "<table border=\"1\" class=\"dataframe\">\n",
       "  <thead>\n",
       "    <tr style=\"text-align: right;\">\n",
       "      <th></th>\n",
       "      <th>radius_mean</th>\n",
       "      <th>texture_mean</th>\n",
       "      <th>perimeter_mean</th>\n",
       "      <th>area_mean</th>\n",
       "      <th>smoothness_mean</th>\n",
       "      <th>compactness_mean</th>\n",
       "      <th>concavity_mean</th>\n",
       "      <th>concave points_mean</th>\n",
       "      <th>symmetry_mean</th>\n",
       "      <th>fractal_dimension_mean</th>\n",
       "      <th>radius_se</th>\n",
       "      <th>texture_se</th>\n",
       "      <th>perimeter_se</th>\n",
       "      <th>area_se</th>\n",
       "      <th>smoothness_se</th>\n",
       "      <th>compactness_se</th>\n",
       "      <th>concavity_se</th>\n",
       "      <th>concave points_se</th>\n",
       "      <th>symmetry_se</th>\n",
       "      <th>fractal_dimension_se</th>\n",
       "      <th>radius_worst</th>\n",
       "      <th>texture_worst</th>\n",
       "      <th>perimeter_worst</th>\n",
       "      <th>area_worst</th>\n",
       "      <th>smoothness_worst</th>\n",
       "      <th>compactness_worst</th>\n",
       "      <th>concavity_worst</th>\n",
       "      <th>concave points_worst</th>\n",
       "      <th>symmetry_worst</th>\n",
       "      <th>fractal_dimension_worst</th>\n",
       "    </tr>\n",
       "  </thead>\n",
       "  <tbody>\n",
       "    <tr>\n",
       "      <th>0</th>\n",
       "      <td>1.176800</td>\n",
       "      <td>-2.121200</td>\n",
       "      <td>1.357375</td>\n",
       "      <td>1.184085</td>\n",
       "      <td>1.618861</td>\n",
       "      <td>2.541404</td>\n",
       "      <td>2.647422</td>\n",
       "      <td>2.620973</td>\n",
       "      <td>2.348535</td>\n",
       "      <td>2.511708</td>\n",
       "      <td>2.280613</td>\n",
       "      <td>-0.603532</td>\n",
       "      <td>2.343091</td>\n",
       "      <td>2.110995</td>\n",
       "      <td>-0.197982</td>\n",
       "      <td>1.639184</td>\n",
       "      <td>1.152362</td>\n",
       "      <td>0.778698</td>\n",
       "      <td>1.520305</td>\n",
       "      <td>1.462719</td>\n",
       "      <td>2.006477</td>\n",
       "      <td>-1.375159</td>\n",
       "      <td>2.439568</td>\n",
       "      <td>2.287627</td>\n",
       "      <td>1.344848</td>\n",
       "      <td>2.641905</td>\n",
       "      <td>2.246192</td>\n",
       "      <td>2.296076</td>\n",
       "      <td>2.443918</td>\n",
       "      <td>2.225247</td>\n",
       "    </tr>\n",
       "    <tr>\n",
       "      <th>1</th>\n",
       "      <td>1.949929</td>\n",
       "      <td>-0.354875</td>\n",
       "      <td>1.795991</td>\n",
       "      <td>2.249396</td>\n",
       "      <td>-0.842995</td>\n",
       "      <td>-0.498189</td>\n",
       "      <td>-0.000497</td>\n",
       "      <td>0.574944</td>\n",
       "      <td>0.017882</td>\n",
       "      <td>-0.925449</td>\n",
       "      <td>0.780609</td>\n",
       "      <td>-0.956881</td>\n",
       "      <td>0.498609</td>\n",
       "      <td>1.611678</td>\n",
       "      <td>-0.685568</td>\n",
       "      <td>-0.768782</td>\n",
       "      <td>-0.556348</td>\n",
       "      <td>0.328106</td>\n",
       "      <td>-0.937631</td>\n",
       "      <td>-0.033315</td>\n",
       "      <td>1.921384</td>\n",
       "      <td>-0.370048</td>\n",
       "      <td>1.631542</td>\n",
       "      <td>2.287627</td>\n",
       "      <td>-0.377098</td>\n",
       "      <td>-0.443388</td>\n",
       "      <td>-0.137634</td>\n",
       "      <td>1.087084</td>\n",
       "      <td>-0.234408</td>\n",
       "      <td>0.355314</td>\n",
       "    </tr>\n",
       "    <tr>\n",
       "      <th>2</th>\n",
       "      <td>1.686226</td>\n",
       "      <td>0.476899</td>\n",
       "      <td>1.670052</td>\n",
       "      <td>1.846217</td>\n",
       "      <td>0.975239</td>\n",
       "      <td>1.148680</td>\n",
       "      <td>1.496076</td>\n",
       "      <td>2.110330</td>\n",
       "      <td>1.004666</td>\n",
       "      <td>-0.407692</td>\n",
       "      <td>1.774057</td>\n",
       "      <td>-0.847619</td>\n",
       "      <td>1.345409</td>\n",
       "      <td>2.110995</td>\n",
       "      <td>-0.301397</td>\n",
       "      <td>1.037862</td>\n",
       "      <td>0.402825</td>\n",
       "      <td>1.637925</td>\n",
       "      <td>0.373573</td>\n",
       "      <td>0.550819</td>\n",
       "      <td>1.611558</td>\n",
       "      <td>-0.019582</td>\n",
       "      <td>1.434234</td>\n",
       "      <td>1.807751</td>\n",
       "      <td>0.546654</td>\n",
       "      <td>1.223448</td>\n",
       "      <td>0.920718</td>\n",
       "      <td>1.955000</td>\n",
       "      <td>1.369057</td>\n",
       "      <td>0.265197</td>\n",
       "    </tr>\n",
       "    <tr>\n",
       "      <th>3</th>\n",
       "      <td>-0.791983</td>\n",
       "      <td>0.268955</td>\n",
       "      <td>-0.606410</td>\n",
       "      <td>-0.831485</td>\n",
       "      <td>2.737521</td>\n",
       "      <td>2.541404</td>\n",
       "      <td>2.091997</td>\n",
       "      <td>1.506601</td>\n",
       "      <td>2.521318</td>\n",
       "      <td>2.517947</td>\n",
       "      <td>0.545151</td>\n",
       "      <td>-0.086703</td>\n",
       "      <td>0.532139</td>\n",
       "      <td>-0.318438</td>\n",
       "      <td>0.927950</td>\n",
       "      <td>2.473870</td>\n",
       "      <td>1.292444</td>\n",
       "      <td>1.289491</td>\n",
       "      <td>2.423376</td>\n",
       "      <td>2.491558</td>\n",
       "      <td>-0.277945</td>\n",
       "      <td>0.140773</td>\n",
       "      <td>-0.245395</td>\n",
       "      <td>-0.593838</td>\n",
       "      <td>2.595949</td>\n",
       "      <td>2.641905</td>\n",
       "      <td>2.119474</td>\n",
       "      <td>2.175786</td>\n",
       "      <td>2.443918</td>\n",
       "      <td>2.482456</td>\n",
       "    </tr>\n",
       "    <tr>\n",
       "      <th>4</th>\n",
       "      <td>1.866023</td>\n",
       "      <td>-1.174698</td>\n",
       "      <td>1.891531</td>\n",
       "      <td>2.154338</td>\n",
       "      <td>0.295047</td>\n",
       "      <td>0.599453</td>\n",
       "      <td>1.504202</td>\n",
       "      <td>1.482665</td>\n",
       "      <td>0.006363</td>\n",
       "      <td>-0.588595</td>\n",
       "      <td>1.831079</td>\n",
       "      <td>-0.859164</td>\n",
       "      <td>1.953934</td>\n",
       "      <td>2.110995</td>\n",
       "      <td>1.916411</td>\n",
       "      <td>0.003294</td>\n",
       "      <td>1.305576</td>\n",
       "      <td>1.322328</td>\n",
       "      <td>-0.378732</td>\n",
       "      <td>0.856659</td>\n",
       "      <td>1.386825</td>\n",
       "      <td>-1.484267</td>\n",
       "      <td>1.424838</td>\n",
       "      <td>1.525780</td>\n",
       "      <td>0.232758</td>\n",
       "      <td>-0.314469</td>\n",
       "      <td>0.665254</td>\n",
       "      <td>0.729259</td>\n",
       "      <td>-0.951602</td>\n",
       "      <td>-0.410683</td>\n",
       "    </tr>\n",
       "    <tr>\n",
       "      <th>...</th>\n",
       "      <td>...</td>\n",
       "      <td>...</td>\n",
       "      <td>...</td>\n",
       "      <td>...</td>\n",
       "      <td>...</td>\n",
       "      <td>...</td>\n",
       "      <td>...</td>\n",
       "      <td>...</td>\n",
       "      <td>...</td>\n",
       "      <td>...</td>\n",
       "      <td>...</td>\n",
       "      <td>...</td>\n",
       "      <td>...</td>\n",
       "      <td>...</td>\n",
       "      <td>...</td>\n",
       "      <td>...</td>\n",
       "      <td>...</td>\n",
       "      <td>...</td>\n",
       "      <td>...</td>\n",
       "      <td>...</td>\n",
       "      <td>...</td>\n",
       "      <td>...</td>\n",
       "      <td>...</td>\n",
       "      <td>...</td>\n",
       "      <td>...</td>\n",
       "      <td>...</td>\n",
       "      <td>...</td>\n",
       "      <td>...</td>\n",
       "      <td>...</td>\n",
       "      <td>...</td>\n",
       "    </tr>\n",
       "    <tr>\n",
       "      <th>564</th>\n",
       "      <td>2.246595</td>\n",
       "      <td>0.749377</td>\n",
       "      <td>2.191180</td>\n",
       "      <td>2.250380</td>\n",
       "      <td>1.077633</td>\n",
       "      <td>0.256947</td>\n",
       "      <td>2.125856</td>\n",
       "      <td>2.402886</td>\n",
       "      <td>-0.312326</td>\n",
       "      <td>-0.994068</td>\n",
       "      <td>2.280613</td>\n",
       "      <td>0.119452</td>\n",
       "      <td>2.343091</td>\n",
       "      <td>2.110995</td>\n",
       "      <td>1.422181</td>\n",
       "      <td>0.291232</td>\n",
       "      <td>1.067242</td>\n",
       "      <td>2.360332</td>\n",
       "      <td>-1.356424</td>\n",
       "      <td>0.364166</td>\n",
       "      <td>2.021750</td>\n",
       "      <td>0.124241</td>\n",
       "      <td>1.860170</td>\n",
       "      <td>2.287627</td>\n",
       "      <td>0.394190</td>\n",
       "      <td>-0.270329</td>\n",
       "      <td>0.719489</td>\n",
       "      <td>1.629151</td>\n",
       "      <td>-1.516438</td>\n",
       "      <td>-0.763016</td>\n",
       "    </tr>\n",
       "    <tr>\n",
       "      <th>565</th>\n",
       "      <td>1.818077</td>\n",
       "      <td>2.150007</td>\n",
       "      <td>1.722165</td>\n",
       "      <td>2.036334</td>\n",
       "      <td>0.112199</td>\n",
       "      <td>0.003614</td>\n",
       "      <td>0.772845</td>\n",
       "      <td>1.312717</td>\n",
       "      <td>-0.212495</td>\n",
       "      <td>-1.134424</td>\n",
       "      <td>1.871878</td>\n",
       "      <td>2.548261</td>\n",
       "      <td>1.786287</td>\n",
       "      <td>2.110995</td>\n",
       "      <td>-0.459634</td>\n",
       "      <td>-0.022152</td>\n",
       "      <td>0.460220</td>\n",
       "      <td>0.944706</td>\n",
       "      <td>-0.162482</td>\n",
       "      <td>-0.614637</td>\n",
       "      <td>1.637740</td>\n",
       "      <td>2.083216</td>\n",
       "      <td>1.512531</td>\n",
       "      <td>1.854045</td>\n",
       "      <td>-0.699963</td>\n",
       "      <td>-0.404152</td>\n",
       "      <td>0.267358</td>\n",
       "      <td>0.733827</td>\n",
       "      <td>-0.565135</td>\n",
       "      <td>-1.062155</td>\n",
       "    </tr>\n",
       "    <tr>\n",
       "      <th>566</th>\n",
       "      <td>0.760269</td>\n",
       "      <td>2.109375</td>\n",
       "      <td>0.727678</td>\n",
       "      <td>0.715676</td>\n",
       "      <td>-0.856891</td>\n",
       "      <td>-0.018680</td>\n",
       "      <td>0.075483</td>\n",
       "      <td>0.118824</td>\n",
       "      <td>-0.834515</td>\n",
       "      <td>-0.955080</td>\n",
       "      <td>0.352458</td>\n",
       "      <td>-0.253688</td>\n",
       "      <td>0.517871</td>\n",
       "      <td>0.559899</td>\n",
       "      <td>-0.403981</td>\n",
       "      <td>0.853716</td>\n",
       "      <td>0.839609</td>\n",
       "      <td>0.723970</td>\n",
       "      <td>-1.045756</td>\n",
       "      <td>0.169080</td>\n",
       "      <td>0.610078</td>\n",
       "      <td>1.400468</td>\n",
       "      <td>0.626208</td>\n",
       "      <td>0.576760</td>\n",
       "      <td>-0.821037</td>\n",
       "      <td>0.417005</td>\n",
       "      <td>0.362650</td>\n",
       "      <td>0.414069</td>\n",
       "      <td>-1.222872</td>\n",
       "      <td>-0.321817</td>\n",
       "    </tr>\n",
       "    <tr>\n",
       "      <th>567</th>\n",
       "      <td>1.958919</td>\n",
       "      <td>2.408144</td>\n",
       "      <td>2.108668</td>\n",
       "      <td>2.049446</td>\n",
       "      <td>1.574978</td>\n",
       "      <td>2.541404</td>\n",
       "      <td>2.647422</td>\n",
       "      <td>2.751293</td>\n",
       "      <td>2.264063</td>\n",
       "      <td>1.178328</td>\n",
       "      <td>1.677711</td>\n",
       "      <td>0.818315</td>\n",
       "      <td>2.192208</td>\n",
       "      <td>2.110995</td>\n",
       "      <td>-0.146898</td>\n",
       "      <td>2.473870</td>\n",
       "      <td>2.000636</td>\n",
       "      <td>0.919166</td>\n",
       "      <td>0.486266</td>\n",
       "      <td>1.458221</td>\n",
       "      <td>2.085025</td>\n",
       "      <td>2.276634</td>\n",
       "      <td>2.439568</td>\n",
       "      <td>2.043428</td>\n",
       "      <td>1.470406</td>\n",
       "      <td>2.641905</td>\n",
       "      <td>2.619251</td>\n",
       "      <td>2.289985</td>\n",
       "      <td>2.249756</td>\n",
       "      <td>2.482456</td>\n",
       "    </tr>\n",
       "    <tr>\n",
       "      <th>568</th>\n",
       "      <td>-1.888747</td>\n",
       "      <td>1.263260</td>\n",
       "      <td>-1.894466</td>\n",
       "      <td>-1.503778</td>\n",
       "      <td>-2.800558</td>\n",
       "      <td>-1.207927</td>\n",
       "      <td>-1.177440</td>\n",
       "      <td>-1.291295</td>\n",
       "      <td>-0.846033</td>\n",
       "      <td>-0.587036</td>\n",
       "      <td>0.004923</td>\n",
       "      <td>0.474037</td>\n",
       "      <td>-0.107776</td>\n",
       "      <td>-0.651316</td>\n",
       "      <td>0.130121</td>\n",
       "      <td>-1.332605</td>\n",
       "      <td>-1.461044</td>\n",
       "      <td>-2.116403</td>\n",
       "      <td>1.022322</td>\n",
       "      <td>-0.454408</td>\n",
       "      <td>-1.467939</td>\n",
       "      <td>0.780539</td>\n",
       "      <td>-1.489065</td>\n",
       "      <td>-1.223221</td>\n",
       "      <td>-1.894563</td>\n",
       "      <td>-1.299297</td>\n",
       "      <td>-1.362240</td>\n",
       "      <td>-1.745063</td>\n",
       "      <td>-0.009589</td>\n",
       "      <td>-0.810578</td>\n",
       "    </tr>\n",
       "  </tbody>\n",
       "</table>\n",
       "<p>569 rows × 30 columns</p>\n",
       "</div>"
      ],
      "text/plain": [
       "     radius_mean  texture_mean  perimeter_mean  area_mean  smoothness_mean  \\\n",
       "0       1.176800     -2.121200        1.357375   1.184085         1.618861   \n",
       "1       1.949929     -0.354875        1.795991   2.249396        -0.842995   \n",
       "2       1.686226      0.476899        1.670052   1.846217         0.975239   \n",
       "3      -0.791983      0.268955       -0.606410  -0.831485         2.737521   \n",
       "4       1.866023     -1.174698        1.891531   2.154338         0.295047   \n",
       "..           ...           ...             ...        ...              ...   \n",
       "564     2.246595      0.749377        2.191180   2.250380         1.077633   \n",
       "565     1.818077      2.150007        1.722165   2.036334         0.112199   \n",
       "566     0.760269      2.109375        0.727678   0.715676        -0.856891   \n",
       "567     1.958919      2.408144        2.108668   2.049446         1.574978   \n",
       "568    -1.888747      1.263260       -1.894466  -1.503778        -2.800558   \n",
       "\n",
       "     compactness_mean  concavity_mean  concave points_mean  symmetry_mean  \\\n",
       "0            2.541404        2.647422             2.620973       2.348535   \n",
       "1           -0.498189       -0.000497             0.574944       0.017882   \n",
       "2            1.148680        1.496076             2.110330       1.004666   \n",
       "3            2.541404        2.091997             1.506601       2.521318   \n",
       "4            0.599453        1.504202             1.482665       0.006363   \n",
       "..                ...             ...                  ...            ...   \n",
       "564          0.256947        2.125856             2.402886      -0.312326   \n",
       "565          0.003614        0.772845             1.312717      -0.212495   \n",
       "566         -0.018680        0.075483             0.118824      -0.834515   \n",
       "567          2.541404        2.647422             2.751293       2.264063   \n",
       "568         -1.207927       -1.177440            -1.291295      -0.846033   \n",
       "\n",
       "     fractal_dimension_mean  radius_se  texture_se  perimeter_se   area_se  \\\n",
       "0                  2.511708   2.280613   -0.603532      2.343091  2.110995   \n",
       "1                 -0.925449   0.780609   -0.956881      0.498609  1.611678   \n",
       "2                 -0.407692   1.774057   -0.847619      1.345409  2.110995   \n",
       "3                  2.517947   0.545151   -0.086703      0.532139 -0.318438   \n",
       "4                 -0.588595   1.831079   -0.859164      1.953934  2.110995   \n",
       "..                      ...        ...         ...           ...       ...   \n",
       "564               -0.994068   2.280613    0.119452      2.343091  2.110995   \n",
       "565               -1.134424   1.871878    2.548261      1.786287  2.110995   \n",
       "566               -0.955080   0.352458   -0.253688      0.517871  0.559899   \n",
       "567                1.178328   1.677711    0.818315      2.192208  2.110995   \n",
       "568               -0.587036   0.004923    0.474037     -0.107776 -0.651316   \n",
       "\n",
       "     smoothness_se  compactness_se  concavity_se  concave points_se  \\\n",
       "0        -0.197982        1.639184      1.152362           0.778698   \n",
       "1        -0.685568       -0.768782     -0.556348           0.328106   \n",
       "2        -0.301397        1.037862      0.402825           1.637925   \n",
       "3         0.927950        2.473870      1.292444           1.289491   \n",
       "4         1.916411        0.003294      1.305576           1.322328   \n",
       "..             ...             ...           ...                ...   \n",
       "564       1.422181        0.291232      1.067242           2.360332   \n",
       "565      -0.459634       -0.022152      0.460220           0.944706   \n",
       "566      -0.403981        0.853716      0.839609           0.723970   \n",
       "567      -0.146898        2.473870      2.000636           0.919166   \n",
       "568       0.130121       -1.332605     -1.461044          -2.116403   \n",
       "\n",
       "     symmetry_se  fractal_dimension_se  radius_worst  texture_worst  \\\n",
       "0       1.520305              1.462719      2.006477      -1.375159   \n",
       "1      -0.937631             -0.033315      1.921384      -0.370048   \n",
       "2       0.373573              0.550819      1.611558      -0.019582   \n",
       "3       2.423376              2.491558     -0.277945       0.140773   \n",
       "4      -0.378732              0.856659      1.386825      -1.484267   \n",
       "..           ...                   ...           ...            ...   \n",
       "564    -1.356424              0.364166      2.021750       0.124241   \n",
       "565    -0.162482             -0.614637      1.637740       2.083216   \n",
       "566    -1.045756              0.169080      0.610078       1.400468   \n",
       "567     0.486266              1.458221      2.085025       2.276634   \n",
       "568     1.022322             -0.454408     -1.467939       0.780539   \n",
       "\n",
       "     perimeter_worst  area_worst  smoothness_worst  compactness_worst  \\\n",
       "0           2.439568    2.287627          1.344848           2.641905   \n",
       "1           1.631542    2.287627         -0.377098          -0.443388   \n",
       "2           1.434234    1.807751          0.546654           1.223448   \n",
       "3          -0.245395   -0.593838          2.595949           2.641905   \n",
       "4           1.424838    1.525780          0.232758          -0.314469   \n",
       "..               ...         ...               ...                ...   \n",
       "564         1.860170    2.287627          0.394190          -0.270329   \n",
       "565         1.512531    1.854045         -0.699963          -0.404152   \n",
       "566         0.626208    0.576760         -0.821037           0.417005   \n",
       "567         2.439568    2.043428          1.470406           2.641905   \n",
       "568        -1.489065   -1.223221         -1.894563          -1.299297   \n",
       "\n",
       "     concavity_worst  concave points_worst  symmetry_worst  \\\n",
       "0           2.246192              2.296076        2.443918   \n",
       "1          -0.137634              1.087084       -0.234408   \n",
       "2           0.920718              1.955000        1.369057   \n",
       "3           2.119474              2.175786        2.443918   \n",
       "4           0.665254              0.729259       -0.951602   \n",
       "..               ...                   ...             ...   \n",
       "564         0.719489              1.629151       -1.516438   \n",
       "565         0.267358              0.733827       -0.565135   \n",
       "566         0.362650              0.414069       -1.222872   \n",
       "567         2.619251              2.289985        2.249756   \n",
       "568        -1.362240             -1.745063       -0.009589   \n",
       "\n",
       "     fractal_dimension_worst  \n",
       "0                   2.225247  \n",
       "1                   0.355314  \n",
       "2                   0.265197  \n",
       "3                   2.482456  \n",
       "4                  -0.410683  \n",
       "..                       ...  \n",
       "564                -0.763016  \n",
       "565                -1.062155  \n",
       "566                -0.321817  \n",
       "567                 2.482456  \n",
       "568                -0.810578  \n",
       "\n",
       "[569 rows x 30 columns]"
      ]
     },
     "execution_count": 73,
     "metadata": {},
     "output_type": "execute_result"
    }
   ],
   "source": [
    "df_scaled  #scaled columns except target"
   ]
  },
  {
   "cell_type": "code",
   "execution_count": 74,
   "id": "5390c867",
   "metadata": {},
   "outputs": [],
   "source": [
    "df1 = df_scaled.join(df['diagnosis'])"
   ]
  },
  {
   "cell_type": "code",
   "execution_count": 75,
   "id": "08cf5231",
   "metadata": {},
   "outputs": [
    {
     "data": {
      "text/html": [
       "<div>\n",
       "<style scoped>\n",
       "    .dataframe tbody tr th:only-of-type {\n",
       "        vertical-align: middle;\n",
       "    }\n",
       "\n",
       "    .dataframe tbody tr th {\n",
       "        vertical-align: top;\n",
       "    }\n",
       "\n",
       "    .dataframe thead th {\n",
       "        text-align: right;\n",
       "    }\n",
       "</style>\n",
       "<table border=\"1\" class=\"dataframe\">\n",
       "  <thead>\n",
       "    <tr style=\"text-align: right;\">\n",
       "      <th></th>\n",
       "      <th>radius_mean</th>\n",
       "      <th>texture_mean</th>\n",
       "      <th>perimeter_mean</th>\n",
       "      <th>area_mean</th>\n",
       "      <th>smoothness_mean</th>\n",
       "      <th>compactness_mean</th>\n",
       "      <th>concavity_mean</th>\n",
       "      <th>concave points_mean</th>\n",
       "      <th>symmetry_mean</th>\n",
       "      <th>fractal_dimension_mean</th>\n",
       "      <th>radius_se</th>\n",
       "      <th>texture_se</th>\n",
       "      <th>perimeter_se</th>\n",
       "      <th>area_se</th>\n",
       "      <th>smoothness_se</th>\n",
       "      <th>compactness_se</th>\n",
       "      <th>concavity_se</th>\n",
       "      <th>concave points_se</th>\n",
       "      <th>symmetry_se</th>\n",
       "      <th>fractal_dimension_se</th>\n",
       "      <th>radius_worst</th>\n",
       "      <th>texture_worst</th>\n",
       "      <th>perimeter_worst</th>\n",
       "      <th>area_worst</th>\n",
       "      <th>smoothness_worst</th>\n",
       "      <th>compactness_worst</th>\n",
       "      <th>concavity_worst</th>\n",
       "      <th>concave points_worst</th>\n",
       "      <th>symmetry_worst</th>\n",
       "      <th>fractal_dimension_worst</th>\n",
       "      <th>diagnosis</th>\n",
       "    </tr>\n",
       "  </thead>\n",
       "  <tbody>\n",
       "    <tr>\n",
       "      <th>0</th>\n",
       "      <td>1.176800</td>\n",
       "      <td>-2.121200</td>\n",
       "      <td>1.357375</td>\n",
       "      <td>1.184085</td>\n",
       "      <td>1.618861</td>\n",
       "      <td>2.541404</td>\n",
       "      <td>2.647422</td>\n",
       "      <td>2.620973</td>\n",
       "      <td>2.348535</td>\n",
       "      <td>2.511708</td>\n",
       "      <td>2.280613</td>\n",
       "      <td>-0.603532</td>\n",
       "      <td>2.343091</td>\n",
       "      <td>2.110995</td>\n",
       "      <td>-0.197982</td>\n",
       "      <td>1.639184</td>\n",
       "      <td>1.152362</td>\n",
       "      <td>0.778698</td>\n",
       "      <td>1.520305</td>\n",
       "      <td>1.462719</td>\n",
       "      <td>2.006477</td>\n",
       "      <td>-1.375159</td>\n",
       "      <td>2.439568</td>\n",
       "      <td>2.287627</td>\n",
       "      <td>1.344848</td>\n",
       "      <td>2.641905</td>\n",
       "      <td>2.246192</td>\n",
       "      <td>2.296076</td>\n",
       "      <td>2.443918</td>\n",
       "      <td>2.225247</td>\n",
       "      <td>M</td>\n",
       "    </tr>\n",
       "    <tr>\n",
       "      <th>1</th>\n",
       "      <td>1.949929</td>\n",
       "      <td>-0.354875</td>\n",
       "      <td>1.795991</td>\n",
       "      <td>2.249396</td>\n",
       "      <td>-0.842995</td>\n",
       "      <td>-0.498189</td>\n",
       "      <td>-0.000497</td>\n",
       "      <td>0.574944</td>\n",
       "      <td>0.017882</td>\n",
       "      <td>-0.925449</td>\n",
       "      <td>0.780609</td>\n",
       "      <td>-0.956881</td>\n",
       "      <td>0.498609</td>\n",
       "      <td>1.611678</td>\n",
       "      <td>-0.685568</td>\n",
       "      <td>-0.768782</td>\n",
       "      <td>-0.556348</td>\n",
       "      <td>0.328106</td>\n",
       "      <td>-0.937631</td>\n",
       "      <td>-0.033315</td>\n",
       "      <td>1.921384</td>\n",
       "      <td>-0.370048</td>\n",
       "      <td>1.631542</td>\n",
       "      <td>2.287627</td>\n",
       "      <td>-0.377098</td>\n",
       "      <td>-0.443388</td>\n",
       "      <td>-0.137634</td>\n",
       "      <td>1.087084</td>\n",
       "      <td>-0.234408</td>\n",
       "      <td>0.355314</td>\n",
       "      <td>M</td>\n",
       "    </tr>\n",
       "    <tr>\n",
       "      <th>2</th>\n",
       "      <td>1.686226</td>\n",
       "      <td>0.476899</td>\n",
       "      <td>1.670052</td>\n",
       "      <td>1.846217</td>\n",
       "      <td>0.975239</td>\n",
       "      <td>1.148680</td>\n",
       "      <td>1.496076</td>\n",
       "      <td>2.110330</td>\n",
       "      <td>1.004666</td>\n",
       "      <td>-0.407692</td>\n",
       "      <td>1.774057</td>\n",
       "      <td>-0.847619</td>\n",
       "      <td>1.345409</td>\n",
       "      <td>2.110995</td>\n",
       "      <td>-0.301397</td>\n",
       "      <td>1.037862</td>\n",
       "      <td>0.402825</td>\n",
       "      <td>1.637925</td>\n",
       "      <td>0.373573</td>\n",
       "      <td>0.550819</td>\n",
       "      <td>1.611558</td>\n",
       "      <td>-0.019582</td>\n",
       "      <td>1.434234</td>\n",
       "      <td>1.807751</td>\n",
       "      <td>0.546654</td>\n",
       "      <td>1.223448</td>\n",
       "      <td>0.920718</td>\n",
       "      <td>1.955000</td>\n",
       "      <td>1.369057</td>\n",
       "      <td>0.265197</td>\n",
       "      <td>M</td>\n",
       "    </tr>\n",
       "    <tr>\n",
       "      <th>3</th>\n",
       "      <td>-0.791983</td>\n",
       "      <td>0.268955</td>\n",
       "      <td>-0.606410</td>\n",
       "      <td>-0.831485</td>\n",
       "      <td>2.737521</td>\n",
       "      <td>2.541404</td>\n",
       "      <td>2.091997</td>\n",
       "      <td>1.506601</td>\n",
       "      <td>2.521318</td>\n",
       "      <td>2.517947</td>\n",
       "      <td>0.545151</td>\n",
       "      <td>-0.086703</td>\n",
       "      <td>0.532139</td>\n",
       "      <td>-0.318438</td>\n",
       "      <td>0.927950</td>\n",
       "      <td>2.473870</td>\n",
       "      <td>1.292444</td>\n",
       "      <td>1.289491</td>\n",
       "      <td>2.423376</td>\n",
       "      <td>2.491558</td>\n",
       "      <td>-0.277945</td>\n",
       "      <td>0.140773</td>\n",
       "      <td>-0.245395</td>\n",
       "      <td>-0.593838</td>\n",
       "      <td>2.595949</td>\n",
       "      <td>2.641905</td>\n",
       "      <td>2.119474</td>\n",
       "      <td>2.175786</td>\n",
       "      <td>2.443918</td>\n",
       "      <td>2.482456</td>\n",
       "      <td>M</td>\n",
       "    </tr>\n",
       "    <tr>\n",
       "      <th>4</th>\n",
       "      <td>1.866023</td>\n",
       "      <td>-1.174698</td>\n",
       "      <td>1.891531</td>\n",
       "      <td>2.154338</td>\n",
       "      <td>0.295047</td>\n",
       "      <td>0.599453</td>\n",
       "      <td>1.504202</td>\n",
       "      <td>1.482665</td>\n",
       "      <td>0.006363</td>\n",
       "      <td>-0.588595</td>\n",
       "      <td>1.831079</td>\n",
       "      <td>-0.859164</td>\n",
       "      <td>1.953934</td>\n",
       "      <td>2.110995</td>\n",
       "      <td>1.916411</td>\n",
       "      <td>0.003294</td>\n",
       "      <td>1.305576</td>\n",
       "      <td>1.322328</td>\n",
       "      <td>-0.378732</td>\n",
       "      <td>0.856659</td>\n",
       "      <td>1.386825</td>\n",
       "      <td>-1.484267</td>\n",
       "      <td>1.424838</td>\n",
       "      <td>1.525780</td>\n",
       "      <td>0.232758</td>\n",
       "      <td>-0.314469</td>\n",
       "      <td>0.665254</td>\n",
       "      <td>0.729259</td>\n",
       "      <td>-0.951602</td>\n",
       "      <td>-0.410683</td>\n",
       "      <td>M</td>\n",
       "    </tr>\n",
       "    <tr>\n",
       "      <th>...</th>\n",
       "      <td>...</td>\n",
       "      <td>...</td>\n",
       "      <td>...</td>\n",
       "      <td>...</td>\n",
       "      <td>...</td>\n",
       "      <td>...</td>\n",
       "      <td>...</td>\n",
       "      <td>...</td>\n",
       "      <td>...</td>\n",
       "      <td>...</td>\n",
       "      <td>...</td>\n",
       "      <td>...</td>\n",
       "      <td>...</td>\n",
       "      <td>...</td>\n",
       "      <td>...</td>\n",
       "      <td>...</td>\n",
       "      <td>...</td>\n",
       "      <td>...</td>\n",
       "      <td>...</td>\n",
       "      <td>...</td>\n",
       "      <td>...</td>\n",
       "      <td>...</td>\n",
       "      <td>...</td>\n",
       "      <td>...</td>\n",
       "      <td>...</td>\n",
       "      <td>...</td>\n",
       "      <td>...</td>\n",
       "      <td>...</td>\n",
       "      <td>...</td>\n",
       "      <td>...</td>\n",
       "      <td>...</td>\n",
       "    </tr>\n",
       "    <tr>\n",
       "      <th>564</th>\n",
       "      <td>2.246595</td>\n",
       "      <td>0.749377</td>\n",
       "      <td>2.191180</td>\n",
       "      <td>2.250380</td>\n",
       "      <td>1.077633</td>\n",
       "      <td>0.256947</td>\n",
       "      <td>2.125856</td>\n",
       "      <td>2.402886</td>\n",
       "      <td>-0.312326</td>\n",
       "      <td>-0.994068</td>\n",
       "      <td>2.280613</td>\n",
       "      <td>0.119452</td>\n",
       "      <td>2.343091</td>\n",
       "      <td>2.110995</td>\n",
       "      <td>1.422181</td>\n",
       "      <td>0.291232</td>\n",
       "      <td>1.067242</td>\n",
       "      <td>2.360332</td>\n",
       "      <td>-1.356424</td>\n",
       "      <td>0.364166</td>\n",
       "      <td>2.021750</td>\n",
       "      <td>0.124241</td>\n",
       "      <td>1.860170</td>\n",
       "      <td>2.287627</td>\n",
       "      <td>0.394190</td>\n",
       "      <td>-0.270329</td>\n",
       "      <td>0.719489</td>\n",
       "      <td>1.629151</td>\n",
       "      <td>-1.516438</td>\n",
       "      <td>-0.763016</td>\n",
       "      <td>M</td>\n",
       "    </tr>\n",
       "    <tr>\n",
       "      <th>565</th>\n",
       "      <td>1.818077</td>\n",
       "      <td>2.150007</td>\n",
       "      <td>1.722165</td>\n",
       "      <td>2.036334</td>\n",
       "      <td>0.112199</td>\n",
       "      <td>0.003614</td>\n",
       "      <td>0.772845</td>\n",
       "      <td>1.312717</td>\n",
       "      <td>-0.212495</td>\n",
       "      <td>-1.134424</td>\n",
       "      <td>1.871878</td>\n",
       "      <td>2.548261</td>\n",
       "      <td>1.786287</td>\n",
       "      <td>2.110995</td>\n",
       "      <td>-0.459634</td>\n",
       "      <td>-0.022152</td>\n",
       "      <td>0.460220</td>\n",
       "      <td>0.944706</td>\n",
       "      <td>-0.162482</td>\n",
       "      <td>-0.614637</td>\n",
       "      <td>1.637740</td>\n",
       "      <td>2.083216</td>\n",
       "      <td>1.512531</td>\n",
       "      <td>1.854045</td>\n",
       "      <td>-0.699963</td>\n",
       "      <td>-0.404152</td>\n",
       "      <td>0.267358</td>\n",
       "      <td>0.733827</td>\n",
       "      <td>-0.565135</td>\n",
       "      <td>-1.062155</td>\n",
       "      <td>M</td>\n",
       "    </tr>\n",
       "    <tr>\n",
       "      <th>566</th>\n",
       "      <td>0.760269</td>\n",
       "      <td>2.109375</td>\n",
       "      <td>0.727678</td>\n",
       "      <td>0.715676</td>\n",
       "      <td>-0.856891</td>\n",
       "      <td>-0.018680</td>\n",
       "      <td>0.075483</td>\n",
       "      <td>0.118824</td>\n",
       "      <td>-0.834515</td>\n",
       "      <td>-0.955080</td>\n",
       "      <td>0.352458</td>\n",
       "      <td>-0.253688</td>\n",
       "      <td>0.517871</td>\n",
       "      <td>0.559899</td>\n",
       "      <td>-0.403981</td>\n",
       "      <td>0.853716</td>\n",
       "      <td>0.839609</td>\n",
       "      <td>0.723970</td>\n",
       "      <td>-1.045756</td>\n",
       "      <td>0.169080</td>\n",
       "      <td>0.610078</td>\n",
       "      <td>1.400468</td>\n",
       "      <td>0.626208</td>\n",
       "      <td>0.576760</td>\n",
       "      <td>-0.821037</td>\n",
       "      <td>0.417005</td>\n",
       "      <td>0.362650</td>\n",
       "      <td>0.414069</td>\n",
       "      <td>-1.222872</td>\n",
       "      <td>-0.321817</td>\n",
       "      <td>M</td>\n",
       "    </tr>\n",
       "    <tr>\n",
       "      <th>567</th>\n",
       "      <td>1.958919</td>\n",
       "      <td>2.408144</td>\n",
       "      <td>2.108668</td>\n",
       "      <td>2.049446</td>\n",
       "      <td>1.574978</td>\n",
       "      <td>2.541404</td>\n",
       "      <td>2.647422</td>\n",
       "      <td>2.751293</td>\n",
       "      <td>2.264063</td>\n",
       "      <td>1.178328</td>\n",
       "      <td>1.677711</td>\n",
       "      <td>0.818315</td>\n",
       "      <td>2.192208</td>\n",
       "      <td>2.110995</td>\n",
       "      <td>-0.146898</td>\n",
       "      <td>2.473870</td>\n",
       "      <td>2.000636</td>\n",
       "      <td>0.919166</td>\n",
       "      <td>0.486266</td>\n",
       "      <td>1.458221</td>\n",
       "      <td>2.085025</td>\n",
       "      <td>2.276634</td>\n",
       "      <td>2.439568</td>\n",
       "      <td>2.043428</td>\n",
       "      <td>1.470406</td>\n",
       "      <td>2.641905</td>\n",
       "      <td>2.619251</td>\n",
       "      <td>2.289985</td>\n",
       "      <td>2.249756</td>\n",
       "      <td>2.482456</td>\n",
       "      <td>M</td>\n",
       "    </tr>\n",
       "    <tr>\n",
       "      <th>568</th>\n",
       "      <td>-1.888747</td>\n",
       "      <td>1.263260</td>\n",
       "      <td>-1.894466</td>\n",
       "      <td>-1.503778</td>\n",
       "      <td>-2.800558</td>\n",
       "      <td>-1.207927</td>\n",
       "      <td>-1.177440</td>\n",
       "      <td>-1.291295</td>\n",
       "      <td>-0.846033</td>\n",
       "      <td>-0.587036</td>\n",
       "      <td>0.004923</td>\n",
       "      <td>0.474037</td>\n",
       "      <td>-0.107776</td>\n",
       "      <td>-0.651316</td>\n",
       "      <td>0.130121</td>\n",
       "      <td>-1.332605</td>\n",
       "      <td>-1.461044</td>\n",
       "      <td>-2.116403</td>\n",
       "      <td>1.022322</td>\n",
       "      <td>-0.454408</td>\n",
       "      <td>-1.467939</td>\n",
       "      <td>0.780539</td>\n",
       "      <td>-1.489065</td>\n",
       "      <td>-1.223221</td>\n",
       "      <td>-1.894563</td>\n",
       "      <td>-1.299297</td>\n",
       "      <td>-1.362240</td>\n",
       "      <td>-1.745063</td>\n",
       "      <td>-0.009589</td>\n",
       "      <td>-0.810578</td>\n",
       "      <td>B</td>\n",
       "    </tr>\n",
       "  </tbody>\n",
       "</table>\n",
       "<p>569 rows × 31 columns</p>\n",
       "</div>"
      ],
      "text/plain": [
       "     radius_mean  texture_mean  perimeter_mean  area_mean  smoothness_mean  \\\n",
       "0       1.176800     -2.121200        1.357375   1.184085         1.618861   \n",
       "1       1.949929     -0.354875        1.795991   2.249396        -0.842995   \n",
       "2       1.686226      0.476899        1.670052   1.846217         0.975239   \n",
       "3      -0.791983      0.268955       -0.606410  -0.831485         2.737521   \n",
       "4       1.866023     -1.174698        1.891531   2.154338         0.295047   \n",
       "..           ...           ...             ...        ...              ...   \n",
       "564     2.246595      0.749377        2.191180   2.250380         1.077633   \n",
       "565     1.818077      2.150007        1.722165   2.036334         0.112199   \n",
       "566     0.760269      2.109375        0.727678   0.715676        -0.856891   \n",
       "567     1.958919      2.408144        2.108668   2.049446         1.574978   \n",
       "568    -1.888747      1.263260       -1.894466  -1.503778        -2.800558   \n",
       "\n",
       "     compactness_mean  concavity_mean  concave points_mean  symmetry_mean  \\\n",
       "0            2.541404        2.647422             2.620973       2.348535   \n",
       "1           -0.498189       -0.000497             0.574944       0.017882   \n",
       "2            1.148680        1.496076             2.110330       1.004666   \n",
       "3            2.541404        2.091997             1.506601       2.521318   \n",
       "4            0.599453        1.504202             1.482665       0.006363   \n",
       "..                ...             ...                  ...            ...   \n",
       "564          0.256947        2.125856             2.402886      -0.312326   \n",
       "565          0.003614        0.772845             1.312717      -0.212495   \n",
       "566         -0.018680        0.075483             0.118824      -0.834515   \n",
       "567          2.541404        2.647422             2.751293       2.264063   \n",
       "568         -1.207927       -1.177440            -1.291295      -0.846033   \n",
       "\n",
       "     fractal_dimension_mean  radius_se  texture_se  perimeter_se   area_se  \\\n",
       "0                  2.511708   2.280613   -0.603532      2.343091  2.110995   \n",
       "1                 -0.925449   0.780609   -0.956881      0.498609  1.611678   \n",
       "2                 -0.407692   1.774057   -0.847619      1.345409  2.110995   \n",
       "3                  2.517947   0.545151   -0.086703      0.532139 -0.318438   \n",
       "4                 -0.588595   1.831079   -0.859164      1.953934  2.110995   \n",
       "..                      ...        ...         ...           ...       ...   \n",
       "564               -0.994068   2.280613    0.119452      2.343091  2.110995   \n",
       "565               -1.134424   1.871878    2.548261      1.786287  2.110995   \n",
       "566               -0.955080   0.352458   -0.253688      0.517871  0.559899   \n",
       "567                1.178328   1.677711    0.818315      2.192208  2.110995   \n",
       "568               -0.587036   0.004923    0.474037     -0.107776 -0.651316   \n",
       "\n",
       "     smoothness_se  compactness_se  concavity_se  concave points_se  \\\n",
       "0        -0.197982        1.639184      1.152362           0.778698   \n",
       "1        -0.685568       -0.768782     -0.556348           0.328106   \n",
       "2        -0.301397        1.037862      0.402825           1.637925   \n",
       "3         0.927950        2.473870      1.292444           1.289491   \n",
       "4         1.916411        0.003294      1.305576           1.322328   \n",
       "..             ...             ...           ...                ...   \n",
       "564       1.422181        0.291232      1.067242           2.360332   \n",
       "565      -0.459634       -0.022152      0.460220           0.944706   \n",
       "566      -0.403981        0.853716      0.839609           0.723970   \n",
       "567      -0.146898        2.473870      2.000636           0.919166   \n",
       "568       0.130121       -1.332605     -1.461044          -2.116403   \n",
       "\n",
       "     symmetry_se  fractal_dimension_se  radius_worst  texture_worst  \\\n",
       "0       1.520305              1.462719      2.006477      -1.375159   \n",
       "1      -0.937631             -0.033315      1.921384      -0.370048   \n",
       "2       0.373573              0.550819      1.611558      -0.019582   \n",
       "3       2.423376              2.491558     -0.277945       0.140773   \n",
       "4      -0.378732              0.856659      1.386825      -1.484267   \n",
       "..           ...                   ...           ...            ...   \n",
       "564    -1.356424              0.364166      2.021750       0.124241   \n",
       "565    -0.162482             -0.614637      1.637740       2.083216   \n",
       "566    -1.045756              0.169080      0.610078       1.400468   \n",
       "567     0.486266              1.458221      2.085025       2.276634   \n",
       "568     1.022322             -0.454408     -1.467939       0.780539   \n",
       "\n",
       "     perimeter_worst  area_worst  smoothness_worst  compactness_worst  \\\n",
       "0           2.439568    2.287627          1.344848           2.641905   \n",
       "1           1.631542    2.287627         -0.377098          -0.443388   \n",
       "2           1.434234    1.807751          0.546654           1.223448   \n",
       "3          -0.245395   -0.593838          2.595949           2.641905   \n",
       "4           1.424838    1.525780          0.232758          -0.314469   \n",
       "..               ...         ...               ...                ...   \n",
       "564         1.860170    2.287627          0.394190          -0.270329   \n",
       "565         1.512531    1.854045         -0.699963          -0.404152   \n",
       "566         0.626208    0.576760         -0.821037           0.417005   \n",
       "567         2.439568    2.043428          1.470406           2.641905   \n",
       "568        -1.489065   -1.223221         -1.894563          -1.299297   \n",
       "\n",
       "     concavity_worst  concave points_worst  symmetry_worst  \\\n",
       "0           2.246192              2.296076        2.443918   \n",
       "1          -0.137634              1.087084       -0.234408   \n",
       "2           0.920718              1.955000        1.369057   \n",
       "3           2.119474              2.175786        2.443918   \n",
       "4           0.665254              0.729259       -0.951602   \n",
       "..               ...                   ...             ...   \n",
       "564         0.719489              1.629151       -1.516438   \n",
       "565         0.267358              0.733827       -0.565135   \n",
       "566         0.362650              0.414069       -1.222872   \n",
       "567         2.619251              2.289985        2.249756   \n",
       "568        -1.362240             -1.745063       -0.009589   \n",
       "\n",
       "     fractal_dimension_worst diagnosis  \n",
       "0                   2.225247         M  \n",
       "1                   0.355314         M  \n",
       "2                   0.265197         M  \n",
       "3                   2.482456         M  \n",
       "4                  -0.410683         M  \n",
       "..                       ...       ...  \n",
       "564                -0.763016         M  \n",
       "565                -1.062155         M  \n",
       "566                -0.321817         M  \n",
       "567                 2.482456         M  \n",
       "568                -0.810578         B  \n",
       "\n",
       "[569 rows x 31 columns]"
      ]
     },
     "execution_count": 75,
     "metadata": {},
     "output_type": "execute_result"
    }
   ],
   "source": [
    "df1 # new df"
   ]
  },
  {
   "cell_type": "code",
   "execution_count": 76,
   "id": "59faa51b",
   "metadata": {},
   "outputs": [],
   "source": [
    "df1.rename(columns={'concave points_mean': 'concave_points_mean'}, inplace=True)"
   ]
  },
  {
   "cell_type": "code",
   "execution_count": 77,
   "id": "e39d29fe",
   "metadata": {},
   "outputs": [],
   "source": [
    "df1.rename(columns={'concave points_se': 'concave_points_se'}, inplace=True)"
   ]
  },
  {
   "cell_type": "code",
   "execution_count": 78,
   "id": "952c1da9",
   "metadata": {},
   "outputs": [],
   "source": [
    "df1.rename(columns={'concave points_worst': 'concave_points_worst'}, inplace=True)"
   ]
  },
  {
   "cell_type": "code",
   "execution_count": null,
   "id": "9645a9d2",
   "metadata": {},
   "outputs": [],
   "source": []
  },
  {
   "cell_type": "markdown",
   "id": "076d3724",
   "metadata": {},
   "source": [
    "## ANOVA"
   ]
  },
  {
   "cell_type": "code",
   "execution_count": 81,
   "id": "0ac2149f",
   "metadata": {},
   "outputs": [],
   "source": [
    "import statsmodels.api as sm \n",
    "from statsmodels.formula.api import ols"
   ]
  },
  {
   "cell_type": "code",
   "execution_count": null,
   "id": "06561e49",
   "metadata": {},
   "outputs": [],
   "source": []
  },
  {
   "cell_type": "code",
   "execution_count": 82,
   "id": "647a5c03",
   "metadata": {},
   "outputs": [],
   "source": [
    "columns = df1.iloc[:, 0:30]"
   ]
  },
  {
   "cell_type": "code",
   "execution_count": 83,
   "id": "75345932",
   "metadata": {},
   "outputs": [
    {
     "name": "stdout",
     "output_type": "stream",
     "text": [
      "ANOVA for radius_mean\n",
      "              df     sum_sq    mean_sq          F  PR(>F)\n",
      "diagnosis    1.0  315.99328  315.99328  708.15587     0.0\n",
      "Residual   567.0  253.00672    0.44622        NaN     NaN\n",
      "\n",
      "\n",
      "ANOVA for texture_mean\n",
      "              df    sum_sq   mean_sq          F  PR(>F)\n",
      "diagnosis    1.0   99.9527  99.95270  120.82615     0.0\n",
      "Residual   567.0  469.0473   0.82724        NaN     NaN\n",
      "\n",
      "\n",
      "ANOVA for perimeter_mean\n",
      "              df     sum_sq    mean_sq          F  PR(>F)\n",
      "diagnosis    1.0  327.79502  327.79502  770.54699     0.0\n",
      "Residual   567.0  241.20498    0.42541        NaN     NaN\n",
      "\n",
      "\n",
      "ANOVA for area_mean\n",
      "              df     sum_sq    mean_sq          F  PR(>F)\n",
      "diagnosis    1.0  322.44455  322.44455  741.52107     0.0\n",
      "Residual   567.0  246.55545    0.43484        NaN     NaN\n",
      "\n",
      "\n",
      "ANOVA for smoothness_mean\n",
      "              df     sum_sq   mean_sq         F  PR(>F)\n",
      "diagnosis    1.0   76.60911  76.60911  88.21723     0.0\n",
      "Residual   567.0  492.39089   0.86841       NaN     NaN\n",
      "\n",
      "\n",
      "ANOVA for compactness_mean\n",
      "              df     sum_sq    mean_sq          F  PR(>F)\n",
      "diagnosis    1.0  210.68099  210.68099  333.37926     0.0\n",
      "Residual   567.0  358.31901    0.63196        NaN     NaN\n",
      "\n",
      "\n",
      "ANOVA for concavity_mean\n",
      "              df     sum_sq    mean_sq         F  PR(>F)\n",
      "diagnosis    1.0  300.87223  300.87223  636.2435     0.0\n",
      "Residual   567.0  268.12777    0.47289       NaN     NaN\n",
      "\n",
      "\n",
      "ANOVA for concave_points_mean\n",
      "              df    sum_sq    mean_sq        F  PR(>F)\n",
      "diagnosis    1.0  353.4056  353.40560  929.435     0.0\n",
      "Residual   567.0  215.5944    0.38024      NaN     NaN\n",
      "\n",
      "\n",
      "ANOVA for symmetry_mean\n",
      "              df    sum_sq   mean_sq         F  PR(>F)\n",
      "diagnosis    1.0   63.6793  63.67930  71.45197     0.0\n",
      "Residual   567.0  505.3207   0.89122       NaN     NaN\n",
      "\n",
      "\n",
      "ANOVA for fractal_dimension_mean\n",
      "              df     sum_sq  mean_sq        F  PR(>F)\n",
      "diagnosis    1.0    0.02632  0.02632  0.02623  0.8714\n",
      "Residual   567.0  568.97368  1.00348      NaN     NaN\n",
      "\n",
      "\n",
      "ANOVA for radius_se\n",
      "              df    sum_sq   mean_sq          F  PR(>F)\n",
      "diagnosis    1.0  234.8126  234.8126  398.39547     0.0\n",
      "Residual   567.0  334.1874    0.5894        NaN     NaN\n",
      "\n",
      "\n",
      "ANOVA for texture_se\n",
      "              df     sum_sq  mean_sq        F  PR(>F)\n",
      "diagnosis    1.0    0.00001  0.00001  0.00001  0.9971\n",
      "Residual   567.0  568.99999  1.00353      NaN     NaN\n",
      "\n",
      "\n",
      "ANOVA for perimeter_se\n",
      "              df     sum_sq    mean_sq          F  PR(>F)\n",
      "diagnosis    1.0  238.09629  238.09629  407.97548     0.0\n",
      "Residual   567.0  330.90371    0.58360        NaN     NaN\n",
      "\n",
      "\n",
      "ANOVA for area_se\n",
      "              df     sum_sq    mean_sq          F  PR(>F)\n",
      "diagnosis    1.0  310.79985  310.79985  682.50742     0.0\n",
      "Residual   567.0  258.20015    0.45538        NaN     NaN\n",
      "\n",
      "\n",
      "ANOVA for smoothness_se\n",
      "              df     sum_sq  mean_sq       F   PR(>F)\n",
      "diagnosis    1.0    3.44371  3.44371  3.4525  0.06367\n",
      "Residual   567.0  565.55629  0.99745     NaN      NaN\n",
      "\n",
      "\n",
      "ANOVA for compactness_se\n",
      "              df     sum_sq   mean_sq         F  PR(>F)\n",
      "diagnosis    1.0   62.65592  62.65592  70.16159     0.0\n",
      "Residual   567.0  506.34408   0.89302       NaN     NaN\n",
      "\n",
      "\n",
      "ANOVA for concavity_se\n",
      "              df     sum_sq   mean_sq          F  PR(>F)\n",
      "diagnosis    1.0   90.18617  90.18617  106.79632     0.0\n",
      "Residual   567.0  478.81383   0.84447        NaN     NaN\n",
      "\n",
      "\n",
      "ANOVA for concave_points_se\n",
      "              df     sum_sq    mean_sq          F  PR(>F)\n",
      "diagnosis    1.0  115.29076  115.29076  144.07876     0.0\n",
      "Residual   567.0  453.70924    0.80019        NaN     NaN\n",
      "\n",
      "\n",
      "ANOVA for symmetry_se\n",
      "              df     sum_sq  mean_sq        F   PR(>F)\n",
      "diagnosis    1.0    2.75678  2.75678  2.76047  0.09717\n",
      "Residual   567.0  566.24322  0.99867      NaN      NaN\n",
      "\n",
      "\n",
      "ANOVA for fractal_dimension_se\n",
      "              df     sum_sq   mean_sq         F   PR(>F)\n",
      "diagnosis    1.0   13.50516  13.50516  13.78487  0.00023\n",
      "Residual   567.0  555.49484   0.97971       NaN      NaN\n",
      "\n",
      "\n",
      "ANOVA for radius_worst\n",
      "              df     sum_sq    mean_sq         F  PR(>F)\n",
      "diagnosis    1.0  358.66181  358.66181  966.8299     0.0\n",
      "Residual   567.0  210.33819    0.37097       NaN     NaN\n",
      "\n",
      "\n",
      "ANOVA for texture_worst\n",
      "              df  sum_sq    mean_sq          F  PR(>F)\n",
      "diagnosis    1.0  119.18  119.18000  150.22688     0.0\n",
      "Residual   567.0  449.82    0.79333        NaN     NaN\n",
      "\n",
      "\n",
      "ANOVA for perimeter_worst\n",
      "              df     sum_sq    mean_sq           F  PR(>F)\n",
      "diagnosis    1.0  364.72269  364.72269  1012.33837     0.0\n",
      "Residual   567.0  204.27731    0.36028         NaN     NaN\n",
      "\n",
      "\n",
      "ANOVA for area_worst\n",
      "              df     sum_sq    mean_sq          F  PR(>F)\n",
      "diagnosis    1.0  359.29671  359.29671  971.47369     0.0\n",
      "Residual   567.0  209.70329    0.36985        NaN     NaN\n",
      "\n",
      "\n",
      "ANOVA for smoothness_worst\n",
      "              df     sum_sq    mean_sq          F  PR(>F)\n",
      "diagnosis    1.0  101.99839  101.99839  123.83916     0.0\n",
      "Residual   567.0  467.00161    0.82364        NaN     NaN\n",
      "\n",
      "\n",
      "ANOVA for compactness_worst\n",
      "              df     sum_sq    mean_sq          F  PR(>F)\n",
      "diagnosis    1.0  212.47728  212.47728  337.91569     0.0\n",
      "Residual   567.0  356.52272    0.62879        NaN     NaN\n",
      "\n",
      "\n",
      "ANOVA for concavity_worst\n",
      "              df     sum_sq    mean_sq          F  PR(>F)\n",
      "diagnosis    1.0  265.87189  265.87189  497.31237     0.0\n",
      "Residual   567.0  303.12811    0.53462        NaN     NaN\n",
      "\n",
      "\n",
      "ANOVA for concave_points_worst\n",
      "              df     sum_sq    mean_sq          F  PR(>F)\n",
      "diagnosis    1.0  358.32606  358.32606  964.38539     0.0\n",
      "Residual   567.0  210.67394    0.37156        NaN     NaN\n",
      "\n",
      "\n",
      "ANOVA for symmetry_worst\n",
      "              df    sum_sq  mean_sq          F  PR(>F)\n",
      "diagnosis    1.0   99.9218  99.9218  120.78085     0.0\n",
      "Residual   567.0  469.0782   0.8273        NaN     NaN\n",
      "\n",
      "\n",
      "ANOVA for fractal_dimension_worst\n",
      "              df    sum_sq   mean_sq         F  PR(>F)\n",
      "diagnosis    1.0   61.4841  61.48410  68.69043     0.0\n",
      "Residual   567.0  507.5159   0.89509       NaN     NaN\n",
      "\n",
      "\n"
     ]
    }
   ],
   "source": [
    "for col in columns:\n",
    "    model = ols(f'{col} ~ diagnosis', data = df1).fit()\n",
    "    anova = sm.stats.anova_lm(model, type = 2) \n",
    "    print(f'ANOVA for {col}') \n",
    "    print(anova.round(decimals=5))  \n",
    "    print('\\n')"
   ]
  },
  {
   "cell_type": "code",
   "execution_count": null,
   "id": "a22ecb37",
   "metadata": {},
   "outputs": [],
   "source": []
  },
  {
   "cell_type": "code",
   "execution_count": null,
   "id": "37c91c8b",
   "metadata": {},
   "outputs": [],
   "source": []
  },
  {
   "cell_type": "markdown",
   "id": "763ffef8",
   "metadata": {},
   "source": [
    "## converting target to contineous "
   ]
  },
  {
   "cell_type": "code",
   "execution_count": 84,
   "id": "4415ff60",
   "metadata": {},
   "outputs": [],
   "source": [
    "from sklearn.preprocessing import LabelEncoder"
   ]
  },
  {
   "cell_type": "code",
   "execution_count": 85,
   "id": "245e9aea",
   "metadata": {},
   "outputs": [],
   "source": [
    "lab = LabelEncoder()"
   ]
  },
  {
   "cell_type": "code",
   "execution_count": 86,
   "id": "aab48627",
   "metadata": {},
   "outputs": [],
   "source": [
    "df['diagnosis'] = lab.fit_transform(df['diagnosis'])"
   ]
  },
  {
   "cell_type": "code",
   "execution_count": null,
   "id": "99880d23",
   "metadata": {},
   "outputs": [],
   "source": []
  },
  {
   "cell_type": "code",
   "execution_count": null,
   "id": "7eb30384",
   "metadata": {},
   "outputs": [],
   "source": []
  },
  {
   "cell_type": "code",
   "execution_count": 87,
   "id": "9cb801d8",
   "metadata": {},
   "outputs": [],
   "source": [
    "from sklearn.model_selection import train_test_split"
   ]
  },
  {
   "cell_type": "code",
   "execution_count": 88,
   "id": "e360eb92",
   "metadata": {},
   "outputs": [],
   "source": [
    "X = df1.drop('diagnosis', axis = 1)\n",
    "y = df1['diagnosis']"
   ]
  },
  {
   "cell_type": "code",
   "execution_count": 89,
   "id": "1918ce0f",
   "metadata": {},
   "outputs": [],
   "source": [
    "xtrain, xtest, ytrain, ytest = train_test_split(X, y, stratify = y, test_size = 0.25, random_state = 42)"
   ]
  },
  {
   "cell_type": "markdown",
   "id": "6a2e69e0",
   "metadata": {},
   "source": [
    "## Data Balancing"
   ]
  },
  {
   "cell_type": "code",
   "execution_count": 92,
   "id": "41debb2e",
   "metadata": {},
   "outputs": [],
   "source": [
    "from imblearn.over_sampling import SMOTE"
   ]
  },
  {
   "cell_type": "code",
   "execution_count": 93,
   "id": "f12f3a80",
   "metadata": {},
   "outputs": [
    {
     "name": "stdout",
     "output_type": "stream",
     "text": [
      "Distribution BEFORE balancing:\n",
      "B    267\n",
      "M    159\n",
      "Name: diagnosis, dtype: int64\n",
      "=-=-=-=-=-=-=-=-=-=-=-=-=-=-=-=-\n",
      "Distribution AFTER balancing:\n",
      "B    267\n",
      "M    267\n",
      "Name: diagnosis, dtype: int64\n"
     ]
    }
   ],
   "source": [
    "smt = SMOTE(random_state = 0)\n",
    "\n",
    "# Data Balancing\n",
    "xtrain_res, ytrain_res = smt.fit_resample(xtrain, ytrain)\n",
    "\n",
    "print(f'Distribution BEFORE balancing:\\n{ytrain.value_counts()}')\n",
    "print('=-'*16)\n",
    "print(f'Distribution AFTER balancing:\\n{ytrain_res.value_counts()}')"
   ]
  },
  {
   "cell_type": "markdown",
   "id": "af906424",
   "metadata": {},
   "source": [
    "## Training Logistic regression"
   ]
  },
  {
   "cell_type": "code",
   "execution_count": 107,
   "id": "414d2d44",
   "metadata": {},
   "outputs": [],
   "source": [
    "from sklearn.metrics import accuracy_score\n"
   ]
  },
  {
   "cell_type": "code",
   "execution_count": 108,
   "id": "63a3fb18",
   "metadata": {},
   "outputs": [],
   "source": [
    "from sklearn.linear_model import LogisticRegression"
   ]
  },
  {
   "cell_type": "code",
   "execution_count": 109,
   "id": "6f404fb9",
   "metadata": {},
   "outputs": [
    {
     "data": {
      "text/html": [
       "<style>#sk-container-id-3 {color: black;background-color: white;}#sk-container-id-3 pre{padding: 0;}#sk-container-id-3 div.sk-toggleable {background-color: white;}#sk-container-id-3 label.sk-toggleable__label {cursor: pointer;display: block;width: 100%;margin-bottom: 0;padding: 0.3em;box-sizing: border-box;text-align: center;}#sk-container-id-3 label.sk-toggleable__label-arrow:before {content: \"▸\";float: left;margin-right: 0.25em;color: #696969;}#sk-container-id-3 label.sk-toggleable__label-arrow:hover:before {color: black;}#sk-container-id-3 div.sk-estimator:hover label.sk-toggleable__label-arrow:before {color: black;}#sk-container-id-3 div.sk-toggleable__content {max-height: 0;max-width: 0;overflow: hidden;text-align: left;background-color: #f0f8ff;}#sk-container-id-3 div.sk-toggleable__content pre {margin: 0.2em;color: black;border-radius: 0.25em;background-color: #f0f8ff;}#sk-container-id-3 input.sk-toggleable__control:checked~div.sk-toggleable__content {max-height: 200px;max-width: 100%;overflow: auto;}#sk-container-id-3 input.sk-toggleable__control:checked~label.sk-toggleable__label-arrow:before {content: \"▾\";}#sk-container-id-3 div.sk-estimator input.sk-toggleable__control:checked~label.sk-toggleable__label {background-color: #d4ebff;}#sk-container-id-3 div.sk-label input.sk-toggleable__control:checked~label.sk-toggleable__label {background-color: #d4ebff;}#sk-container-id-3 input.sk-hidden--visually {border: 0;clip: rect(1px 1px 1px 1px);clip: rect(1px, 1px, 1px, 1px);height: 1px;margin: -1px;overflow: hidden;padding: 0;position: absolute;width: 1px;}#sk-container-id-3 div.sk-estimator {font-family: monospace;background-color: #f0f8ff;border: 1px dotted black;border-radius: 0.25em;box-sizing: border-box;margin-bottom: 0.5em;}#sk-container-id-3 div.sk-estimator:hover {background-color: #d4ebff;}#sk-container-id-3 div.sk-parallel-item::after {content: \"\";width: 100%;border-bottom: 1px solid gray;flex-grow: 1;}#sk-container-id-3 div.sk-label:hover label.sk-toggleable__label {background-color: #d4ebff;}#sk-container-id-3 div.sk-serial::before {content: \"\";position: absolute;border-left: 1px solid gray;box-sizing: border-box;top: 0;bottom: 0;left: 50%;z-index: 0;}#sk-container-id-3 div.sk-serial {display: flex;flex-direction: column;align-items: center;background-color: white;padding-right: 0.2em;padding-left: 0.2em;position: relative;}#sk-container-id-3 div.sk-item {position: relative;z-index: 1;}#sk-container-id-3 div.sk-parallel {display: flex;align-items: stretch;justify-content: center;background-color: white;position: relative;}#sk-container-id-3 div.sk-item::before, #sk-container-id-3 div.sk-parallel-item::before {content: \"\";position: absolute;border-left: 1px solid gray;box-sizing: border-box;top: 0;bottom: 0;left: 50%;z-index: -1;}#sk-container-id-3 div.sk-parallel-item {display: flex;flex-direction: column;z-index: 1;position: relative;background-color: white;}#sk-container-id-3 div.sk-parallel-item:first-child::after {align-self: flex-end;width: 50%;}#sk-container-id-3 div.sk-parallel-item:last-child::after {align-self: flex-start;width: 50%;}#sk-container-id-3 div.sk-parallel-item:only-child::after {width: 0;}#sk-container-id-3 div.sk-dashed-wrapped {border: 1px dashed gray;margin: 0 0.4em 0.5em 0.4em;box-sizing: border-box;padding-bottom: 0.4em;background-color: white;}#sk-container-id-3 div.sk-label label {font-family: monospace;font-weight: bold;display: inline-block;line-height: 1.2em;}#sk-container-id-3 div.sk-label-container {text-align: center;}#sk-container-id-3 div.sk-container {/* jupyter's `normalize.less` sets `[hidden] { display: none; }` but bootstrap.min.css set `[hidden] { display: none !important; }` so we also need the `!important` here to be able to override the default hidden behavior on the sphinx rendered scikit-learn.org. See: https://github.com/scikit-learn/scikit-learn/issues/21755 */display: inline-block !important;position: relative;}#sk-container-id-3 div.sk-text-repr-fallback {display: none;}</style><div id=\"sk-container-id-3\" class=\"sk-top-container\"><div class=\"sk-text-repr-fallback\"><pre>LogisticRegression(random_state=0)</pre><b>In a Jupyter environment, please rerun this cell to show the HTML representation or trust the notebook. <br />On GitHub, the HTML representation is unable to render, please try loading this page with nbviewer.org.</b></div><div class=\"sk-container\" hidden><div class=\"sk-item\"><div class=\"sk-estimator sk-toggleable\"><input class=\"sk-toggleable__control sk-hidden--visually\" id=\"sk-estimator-id-3\" type=\"checkbox\" checked><label for=\"sk-estimator-id-3\" class=\"sk-toggleable__label sk-toggleable__label-arrow\">LogisticRegression</label><div class=\"sk-toggleable__content\"><pre>LogisticRegression(random_state=0)</pre></div></div></div></div></div>"
      ],
      "text/plain": [
       "LogisticRegression(random_state=0)"
      ]
     },
     "execution_count": 109,
     "metadata": {},
     "output_type": "execute_result"
    }
   ],
   "source": [
    "lg= LogisticRegression( random_state = 0)\n",
    "lg.fit(xtrain_res, ytrain_res)"
   ]
  },
  {
   "cell_type": "code",
   "execution_count": 110,
   "id": "03ab4f25",
   "metadata": {},
   "outputs": [],
   "source": [
    "pred = lg.predict(xtest)"
   ]
  },
  {
   "cell_type": "code",
   "execution_count": 111,
   "id": "31d42056",
   "metadata": {},
   "outputs": [
    {
     "name": "stdout",
     "output_type": "stream",
     "text": [
      "0.972027972027972\n"
     ]
    }
   ],
   "source": [
    "accuracy = accuracy_score(ytest, pred)\n",
    "print(accuracy)"
   ]
  },
  {
   "cell_type": "markdown",
   "id": "f0a6f444",
   "metadata": {},
   "source": [
    "## Good model"
   ]
  }
 ],
 "metadata": {
  "kernelspec": {
   "display_name": "Python 3 (ipykernel)",
   "language": "python",
   "name": "python3"
  },
  "language_info": {
   "codemirror_mode": {
    "name": "ipython",
    "version": 3
   },
   "file_extension": ".py",
   "mimetype": "text/x-python",
   "name": "python",
   "nbconvert_exporter": "python",
   "pygments_lexer": "ipython3",
   "version": "3.10.9"
  }
 },
 "nbformat": 4,
 "nbformat_minor": 5
}
