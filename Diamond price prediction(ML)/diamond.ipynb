{
 "cells": [
  {
   "cell_type": "code",
   "execution_count": 1,
   "id": "95603397",
   "metadata": {},
   "outputs": [],
   "source": [
    "import pandas as pd\n",
    "import numpy as np\n",
    "import matplotlib.pyplot as plt\n",
    "import seaborn as sns"
   ]
  },
  {
   "cell_type": "code",
   "execution_count": 2,
   "id": "b4c212f5",
   "metadata": {},
   "outputs": [],
   "source": [
    "df=pd.read_csv('diamonds.csv')\n",
    "df=pd.DataFrame(df)"
   ]
  },
  {
   "cell_type": "code",
   "execution_count": 3,
   "id": "582bbe9c",
   "metadata": {},
   "outputs": [
    {
     "data": {
      "text/plain": [
       "(53940, 11)"
      ]
     },
     "execution_count": 3,
     "metadata": {},
     "output_type": "execute_result"
    }
   ],
   "source": [
    "df.shape"
   ]
  },
  {
   "cell_type": "code",
   "execution_count": 4,
   "id": "7720fb60",
   "metadata": {},
   "outputs": [
    {
     "data": {
      "text/html": [
       "<div>\n",
       "<style scoped>\n",
       "    .dataframe tbody tr th:only-of-type {\n",
       "        vertical-align: middle;\n",
       "    }\n",
       "\n",
       "    .dataframe tbody tr th {\n",
       "        vertical-align: top;\n",
       "    }\n",
       "\n",
       "    .dataframe thead th {\n",
       "        text-align: right;\n",
       "    }\n",
       "</style>\n",
       "<table border=\"1\" class=\"dataframe\">\n",
       "  <thead>\n",
       "    <tr style=\"text-align: right;\">\n",
       "      <th></th>\n",
       "      <th>Unnamed: 0</th>\n",
       "      <th>carat</th>\n",
       "      <th>cut</th>\n",
       "      <th>color</th>\n",
       "      <th>clarity</th>\n",
       "      <th>depth</th>\n",
       "      <th>table</th>\n",
       "      <th>price</th>\n",
       "      <th>x</th>\n",
       "      <th>y</th>\n",
       "      <th>z</th>\n",
       "    </tr>\n",
       "  </thead>\n",
       "  <tbody>\n",
       "    <tr>\n",
       "      <th>0</th>\n",
       "      <td>1</td>\n",
       "      <td>0.23</td>\n",
       "      <td>Ideal</td>\n",
       "      <td>E</td>\n",
       "      <td>SI2</td>\n",
       "      <td>61.5</td>\n",
       "      <td>55.0</td>\n",
       "      <td>326</td>\n",
       "      <td>3.95</td>\n",
       "      <td>3.98</td>\n",
       "      <td>2.43</td>\n",
       "    </tr>\n",
       "    <tr>\n",
       "      <th>1</th>\n",
       "      <td>2</td>\n",
       "      <td>0.21</td>\n",
       "      <td>Premium</td>\n",
       "      <td>E</td>\n",
       "      <td>SI1</td>\n",
       "      <td>59.8</td>\n",
       "      <td>61.0</td>\n",
       "      <td>326</td>\n",
       "      <td>3.89</td>\n",
       "      <td>3.84</td>\n",
       "      <td>2.31</td>\n",
       "    </tr>\n",
       "    <tr>\n",
       "      <th>2</th>\n",
       "      <td>3</td>\n",
       "      <td>0.23</td>\n",
       "      <td>Good</td>\n",
       "      <td>E</td>\n",
       "      <td>VS1</td>\n",
       "      <td>56.9</td>\n",
       "      <td>65.0</td>\n",
       "      <td>327</td>\n",
       "      <td>4.05</td>\n",
       "      <td>4.07</td>\n",
       "      <td>2.31</td>\n",
       "    </tr>\n",
       "    <tr>\n",
       "      <th>3</th>\n",
       "      <td>4</td>\n",
       "      <td>0.29</td>\n",
       "      <td>Premium</td>\n",
       "      <td>I</td>\n",
       "      <td>VS2</td>\n",
       "      <td>62.4</td>\n",
       "      <td>58.0</td>\n",
       "      <td>334</td>\n",
       "      <td>4.20</td>\n",
       "      <td>4.23</td>\n",
       "      <td>2.63</td>\n",
       "    </tr>\n",
       "    <tr>\n",
       "      <th>4</th>\n",
       "      <td>5</td>\n",
       "      <td>0.31</td>\n",
       "      <td>Good</td>\n",
       "      <td>J</td>\n",
       "      <td>SI2</td>\n",
       "      <td>63.3</td>\n",
       "      <td>58.0</td>\n",
       "      <td>335</td>\n",
       "      <td>4.34</td>\n",
       "      <td>4.35</td>\n",
       "      <td>2.75</td>\n",
       "    </tr>\n",
       "  </tbody>\n",
       "</table>\n",
       "</div>"
      ],
      "text/plain": [
       "   Unnamed: 0  carat      cut color clarity  depth  table  price     x     y  \\\n",
       "0           1   0.23    Ideal     E     SI2   61.5   55.0    326  3.95  3.98   \n",
       "1           2   0.21  Premium     E     SI1   59.8   61.0    326  3.89  3.84   \n",
       "2           3   0.23     Good     E     VS1   56.9   65.0    327  4.05  4.07   \n",
       "3           4   0.29  Premium     I     VS2   62.4   58.0    334  4.20  4.23   \n",
       "4           5   0.31     Good     J     SI2   63.3   58.0    335  4.34  4.35   \n",
       "\n",
       "      z  \n",
       "0  2.43  \n",
       "1  2.31  \n",
       "2  2.31  \n",
       "3  2.63  \n",
       "4  2.75  "
      ]
     },
     "execution_count": 4,
     "metadata": {},
     "output_type": "execute_result"
    }
   ],
   "source": [
    "df.head()"
   ]
  },
  {
   "cell_type": "code",
   "execution_count": 5,
   "id": "ce474207",
   "metadata": {},
   "outputs": [
    {
     "name": "stdout",
     "output_type": "stream",
     "text": [
      "<class 'pandas.core.frame.DataFrame'>\n",
      "RangeIndex: 53940 entries, 0 to 53939\n",
      "Data columns (total 11 columns):\n",
      " #   Column      Non-Null Count  Dtype  \n",
      "---  ------      --------------  -----  \n",
      " 0   Unnamed: 0  53940 non-null  int64  \n",
      " 1   carat       53940 non-null  float64\n",
      " 2   cut         53940 non-null  object \n",
      " 3   color       53940 non-null  object \n",
      " 4   clarity     53940 non-null  object \n",
      " 5   depth       53940 non-null  float64\n",
      " 6   table       53940 non-null  float64\n",
      " 7   price       53940 non-null  int64  \n",
      " 8   x           53940 non-null  float64\n",
      " 9   y           53940 non-null  float64\n",
      " 10  z           53940 non-null  float64\n",
      "dtypes: float64(6), int64(2), object(3)\n",
      "memory usage: 4.5+ MB\n"
     ]
    }
   ],
   "source": [
    "df.info()"
   ]
  },
  {
   "cell_type": "code",
   "execution_count": 6,
   "id": "f13f7ee5",
   "metadata": {},
   "outputs": [
    {
     "data": {
      "text/html": [
       "<div>\n",
       "<style scoped>\n",
       "    .dataframe tbody tr th:only-of-type {\n",
       "        vertical-align: middle;\n",
       "    }\n",
       "\n",
       "    .dataframe tbody tr th {\n",
       "        vertical-align: top;\n",
       "    }\n",
       "\n",
       "    .dataframe thead th {\n",
       "        text-align: right;\n",
       "    }\n",
       "</style>\n",
       "<table border=\"1\" class=\"dataframe\">\n",
       "  <thead>\n",
       "    <tr style=\"text-align: right;\">\n",
       "      <th></th>\n",
       "      <th>Unnamed: 0</th>\n",
       "      <th>carat</th>\n",
       "      <th>depth</th>\n",
       "      <th>table</th>\n",
       "      <th>price</th>\n",
       "      <th>x</th>\n",
       "      <th>y</th>\n",
       "      <th>z</th>\n",
       "    </tr>\n",
       "  </thead>\n",
       "  <tbody>\n",
       "    <tr>\n",
       "      <th>count</th>\n",
       "      <td>53940.000000</td>\n",
       "      <td>53940.000000</td>\n",
       "      <td>53940.000000</td>\n",
       "      <td>53940.000000</td>\n",
       "      <td>53940.000000</td>\n",
       "      <td>53940.000000</td>\n",
       "      <td>53940.000000</td>\n",
       "      <td>53940.000000</td>\n",
       "    </tr>\n",
       "    <tr>\n",
       "      <th>mean</th>\n",
       "      <td>26970.500000</td>\n",
       "      <td>0.797940</td>\n",
       "      <td>61.749405</td>\n",
       "      <td>57.457184</td>\n",
       "      <td>3932.799722</td>\n",
       "      <td>5.731157</td>\n",
       "      <td>5.734526</td>\n",
       "      <td>3.538734</td>\n",
       "    </tr>\n",
       "    <tr>\n",
       "      <th>std</th>\n",
       "      <td>15571.281097</td>\n",
       "      <td>0.474011</td>\n",
       "      <td>1.432621</td>\n",
       "      <td>2.234491</td>\n",
       "      <td>3989.439738</td>\n",
       "      <td>1.121761</td>\n",
       "      <td>1.142135</td>\n",
       "      <td>0.705699</td>\n",
       "    </tr>\n",
       "    <tr>\n",
       "      <th>min</th>\n",
       "      <td>1.000000</td>\n",
       "      <td>0.200000</td>\n",
       "      <td>43.000000</td>\n",
       "      <td>43.000000</td>\n",
       "      <td>326.000000</td>\n",
       "      <td>0.000000</td>\n",
       "      <td>0.000000</td>\n",
       "      <td>0.000000</td>\n",
       "    </tr>\n",
       "    <tr>\n",
       "      <th>25%</th>\n",
       "      <td>13485.750000</td>\n",
       "      <td>0.400000</td>\n",
       "      <td>61.000000</td>\n",
       "      <td>56.000000</td>\n",
       "      <td>950.000000</td>\n",
       "      <td>4.710000</td>\n",
       "      <td>4.720000</td>\n",
       "      <td>2.910000</td>\n",
       "    </tr>\n",
       "    <tr>\n",
       "      <th>50%</th>\n",
       "      <td>26970.500000</td>\n",
       "      <td>0.700000</td>\n",
       "      <td>61.800000</td>\n",
       "      <td>57.000000</td>\n",
       "      <td>2401.000000</td>\n",
       "      <td>5.700000</td>\n",
       "      <td>5.710000</td>\n",
       "      <td>3.530000</td>\n",
       "    </tr>\n",
       "    <tr>\n",
       "      <th>75%</th>\n",
       "      <td>40455.250000</td>\n",
       "      <td>1.040000</td>\n",
       "      <td>62.500000</td>\n",
       "      <td>59.000000</td>\n",
       "      <td>5324.250000</td>\n",
       "      <td>6.540000</td>\n",
       "      <td>6.540000</td>\n",
       "      <td>4.040000</td>\n",
       "    </tr>\n",
       "    <tr>\n",
       "      <th>max</th>\n",
       "      <td>53940.000000</td>\n",
       "      <td>5.010000</td>\n",
       "      <td>79.000000</td>\n",
       "      <td>95.000000</td>\n",
       "      <td>18823.000000</td>\n",
       "      <td>10.740000</td>\n",
       "      <td>58.900000</td>\n",
       "      <td>31.800000</td>\n",
       "    </tr>\n",
       "  </tbody>\n",
       "</table>\n",
       "</div>"
      ],
      "text/plain": [
       "         Unnamed: 0         carat         depth         table         price  \\\n",
       "count  53940.000000  53940.000000  53940.000000  53940.000000  53940.000000   \n",
       "mean   26970.500000      0.797940     61.749405     57.457184   3932.799722   \n",
       "std    15571.281097      0.474011      1.432621      2.234491   3989.439738   \n",
       "min        1.000000      0.200000     43.000000     43.000000    326.000000   \n",
       "25%    13485.750000      0.400000     61.000000     56.000000    950.000000   \n",
       "50%    26970.500000      0.700000     61.800000     57.000000   2401.000000   \n",
       "75%    40455.250000      1.040000     62.500000     59.000000   5324.250000   \n",
       "max    53940.000000      5.010000     79.000000     95.000000  18823.000000   \n",
       "\n",
       "                  x             y             z  \n",
       "count  53940.000000  53940.000000  53940.000000  \n",
       "mean       5.731157      5.734526      3.538734  \n",
       "std        1.121761      1.142135      0.705699  \n",
       "min        0.000000      0.000000      0.000000  \n",
       "25%        4.710000      4.720000      2.910000  \n",
       "50%        5.700000      5.710000      3.530000  \n",
       "75%        6.540000      6.540000      4.040000  \n",
       "max       10.740000     58.900000     31.800000  "
      ]
     },
     "execution_count": 6,
     "metadata": {},
     "output_type": "execute_result"
    }
   ],
   "source": [
    "df.describe()"
   ]
  },
  {
   "cell_type": "markdown",
   "id": "ea724601",
   "metadata": {},
   "source": [
    "# checking for null values"
   ]
  },
  {
   "cell_type": "code",
   "execution_count": 7,
   "id": "73e2a70c",
   "metadata": {},
   "outputs": [
    {
     "data": {
      "text/plain": [
       "Unnamed: 0    0\n",
       "carat         0\n",
       "cut           0\n",
       "color         0\n",
       "clarity       0\n",
       "depth         0\n",
       "table         0\n",
       "price         0\n",
       "x             0\n",
       "y             0\n",
       "z             0\n",
       "dtype: int64"
      ]
     },
     "execution_count": 7,
     "metadata": {},
     "output_type": "execute_result"
    }
   ],
   "source": [
    "df.isnull().sum()"
   ]
  },
  {
   "cell_type": "code",
   "execution_count": 8,
   "id": "01755738",
   "metadata": {},
   "outputs": [],
   "source": [
    "#dropping  Unnamed: 0\n",
    "df.drop('Unnamed: 0',axis=1,inplace=True)"
   ]
  },
  {
   "cell_type": "code",
   "execution_count": 9,
   "id": "9f1c6c04",
   "metadata": {},
   "outputs": [
    {
     "data": {
      "text/html": [
       "<div>\n",
       "<style scoped>\n",
       "    .dataframe tbody tr th:only-of-type {\n",
       "        vertical-align: middle;\n",
       "    }\n",
       "\n",
       "    .dataframe tbody tr th {\n",
       "        vertical-align: top;\n",
       "    }\n",
       "\n",
       "    .dataframe thead th {\n",
       "        text-align: right;\n",
       "    }\n",
       "</style>\n",
       "<table border=\"1\" class=\"dataframe\">\n",
       "  <thead>\n",
       "    <tr style=\"text-align: right;\">\n",
       "      <th></th>\n",
       "      <th>carat</th>\n",
       "      <th>cut</th>\n",
       "      <th>color</th>\n",
       "      <th>clarity</th>\n",
       "      <th>depth</th>\n",
       "      <th>table</th>\n",
       "      <th>price</th>\n",
       "      <th>x</th>\n",
       "      <th>y</th>\n",
       "      <th>z</th>\n",
       "    </tr>\n",
       "  </thead>\n",
       "  <tbody>\n",
       "    <tr>\n",
       "      <th>2207</th>\n",
       "      <td>1.00</td>\n",
       "      <td>Premium</td>\n",
       "      <td>G</td>\n",
       "      <td>SI2</td>\n",
       "      <td>59.1</td>\n",
       "      <td>59.0</td>\n",
       "      <td>3142</td>\n",
       "      <td>6.55</td>\n",
       "      <td>6.48</td>\n",
       "      <td>0.0</td>\n",
       "    </tr>\n",
       "    <tr>\n",
       "      <th>2314</th>\n",
       "      <td>1.01</td>\n",
       "      <td>Premium</td>\n",
       "      <td>H</td>\n",
       "      <td>I1</td>\n",
       "      <td>58.1</td>\n",
       "      <td>59.0</td>\n",
       "      <td>3167</td>\n",
       "      <td>6.66</td>\n",
       "      <td>6.60</td>\n",
       "      <td>0.0</td>\n",
       "    </tr>\n",
       "    <tr>\n",
       "      <th>4791</th>\n",
       "      <td>1.10</td>\n",
       "      <td>Premium</td>\n",
       "      <td>G</td>\n",
       "      <td>SI2</td>\n",
       "      <td>63.0</td>\n",
       "      <td>59.0</td>\n",
       "      <td>3696</td>\n",
       "      <td>6.50</td>\n",
       "      <td>6.47</td>\n",
       "      <td>0.0</td>\n",
       "    </tr>\n",
       "    <tr>\n",
       "      <th>5471</th>\n",
       "      <td>1.01</td>\n",
       "      <td>Premium</td>\n",
       "      <td>F</td>\n",
       "      <td>SI2</td>\n",
       "      <td>59.2</td>\n",
       "      <td>58.0</td>\n",
       "      <td>3837</td>\n",
       "      <td>6.50</td>\n",
       "      <td>6.47</td>\n",
       "      <td>0.0</td>\n",
       "    </tr>\n",
       "    <tr>\n",
       "      <th>10167</th>\n",
       "      <td>1.50</td>\n",
       "      <td>Good</td>\n",
       "      <td>G</td>\n",
       "      <td>I1</td>\n",
       "      <td>64.0</td>\n",
       "      <td>61.0</td>\n",
       "      <td>4731</td>\n",
       "      <td>7.15</td>\n",
       "      <td>7.04</td>\n",
       "      <td>0.0</td>\n",
       "    </tr>\n",
       "    <tr>\n",
       "      <th>11182</th>\n",
       "      <td>1.07</td>\n",
       "      <td>Ideal</td>\n",
       "      <td>F</td>\n",
       "      <td>SI2</td>\n",
       "      <td>61.6</td>\n",
       "      <td>56.0</td>\n",
       "      <td>4954</td>\n",
       "      <td>0.00</td>\n",
       "      <td>6.62</td>\n",
       "      <td>0.0</td>\n",
       "    </tr>\n",
       "    <tr>\n",
       "      <th>11963</th>\n",
       "      <td>1.00</td>\n",
       "      <td>Very Good</td>\n",
       "      <td>H</td>\n",
       "      <td>VS2</td>\n",
       "      <td>63.3</td>\n",
       "      <td>53.0</td>\n",
       "      <td>5139</td>\n",
       "      <td>0.00</td>\n",
       "      <td>0.00</td>\n",
       "      <td>0.0</td>\n",
       "    </tr>\n",
       "    <tr>\n",
       "      <th>13601</th>\n",
       "      <td>1.15</td>\n",
       "      <td>Ideal</td>\n",
       "      <td>G</td>\n",
       "      <td>VS2</td>\n",
       "      <td>59.2</td>\n",
       "      <td>56.0</td>\n",
       "      <td>5564</td>\n",
       "      <td>6.88</td>\n",
       "      <td>6.83</td>\n",
       "      <td>0.0</td>\n",
       "    </tr>\n",
       "    <tr>\n",
       "      <th>15951</th>\n",
       "      <td>1.14</td>\n",
       "      <td>Fair</td>\n",
       "      <td>G</td>\n",
       "      <td>VS1</td>\n",
       "      <td>57.5</td>\n",
       "      <td>67.0</td>\n",
       "      <td>6381</td>\n",
       "      <td>0.00</td>\n",
       "      <td>0.00</td>\n",
       "      <td>0.0</td>\n",
       "    </tr>\n",
       "    <tr>\n",
       "      <th>24394</th>\n",
       "      <td>2.18</td>\n",
       "      <td>Premium</td>\n",
       "      <td>H</td>\n",
       "      <td>SI2</td>\n",
       "      <td>59.4</td>\n",
       "      <td>61.0</td>\n",
       "      <td>12631</td>\n",
       "      <td>8.49</td>\n",
       "      <td>8.45</td>\n",
       "      <td>0.0</td>\n",
       "    </tr>\n",
       "    <tr>\n",
       "      <th>24520</th>\n",
       "      <td>1.56</td>\n",
       "      <td>Ideal</td>\n",
       "      <td>G</td>\n",
       "      <td>VS2</td>\n",
       "      <td>62.2</td>\n",
       "      <td>54.0</td>\n",
       "      <td>12800</td>\n",
       "      <td>0.00</td>\n",
       "      <td>0.00</td>\n",
       "      <td>0.0</td>\n",
       "    </tr>\n",
       "    <tr>\n",
       "      <th>26123</th>\n",
       "      <td>2.25</td>\n",
       "      <td>Premium</td>\n",
       "      <td>I</td>\n",
       "      <td>SI1</td>\n",
       "      <td>61.3</td>\n",
       "      <td>58.0</td>\n",
       "      <td>15397</td>\n",
       "      <td>8.52</td>\n",
       "      <td>8.42</td>\n",
       "      <td>0.0</td>\n",
       "    </tr>\n",
       "    <tr>\n",
       "      <th>26243</th>\n",
       "      <td>1.20</td>\n",
       "      <td>Premium</td>\n",
       "      <td>D</td>\n",
       "      <td>VVS1</td>\n",
       "      <td>62.1</td>\n",
       "      <td>59.0</td>\n",
       "      <td>15686</td>\n",
       "      <td>0.00</td>\n",
       "      <td>0.00</td>\n",
       "      <td>0.0</td>\n",
       "    </tr>\n",
       "    <tr>\n",
       "      <th>27112</th>\n",
       "      <td>2.20</td>\n",
       "      <td>Premium</td>\n",
       "      <td>H</td>\n",
       "      <td>SI1</td>\n",
       "      <td>61.2</td>\n",
       "      <td>59.0</td>\n",
       "      <td>17265</td>\n",
       "      <td>8.42</td>\n",
       "      <td>8.37</td>\n",
       "      <td>0.0</td>\n",
       "    </tr>\n",
       "    <tr>\n",
       "      <th>27429</th>\n",
       "      <td>2.25</td>\n",
       "      <td>Premium</td>\n",
       "      <td>H</td>\n",
       "      <td>SI2</td>\n",
       "      <td>62.8</td>\n",
       "      <td>59.0</td>\n",
       "      <td>18034</td>\n",
       "      <td>0.00</td>\n",
       "      <td>0.00</td>\n",
       "      <td>0.0</td>\n",
       "    </tr>\n",
       "    <tr>\n",
       "      <th>27503</th>\n",
       "      <td>2.02</td>\n",
       "      <td>Premium</td>\n",
       "      <td>H</td>\n",
       "      <td>VS2</td>\n",
       "      <td>62.7</td>\n",
       "      <td>53.0</td>\n",
       "      <td>18207</td>\n",
       "      <td>8.02</td>\n",
       "      <td>7.95</td>\n",
       "      <td>0.0</td>\n",
       "    </tr>\n",
       "    <tr>\n",
       "      <th>27739</th>\n",
       "      <td>2.80</td>\n",
       "      <td>Good</td>\n",
       "      <td>G</td>\n",
       "      <td>SI2</td>\n",
       "      <td>63.8</td>\n",
       "      <td>58.0</td>\n",
       "      <td>18788</td>\n",
       "      <td>8.90</td>\n",
       "      <td>8.85</td>\n",
       "      <td>0.0</td>\n",
       "    </tr>\n",
       "    <tr>\n",
       "      <th>49556</th>\n",
       "      <td>0.71</td>\n",
       "      <td>Good</td>\n",
       "      <td>F</td>\n",
       "      <td>SI2</td>\n",
       "      <td>64.1</td>\n",
       "      <td>60.0</td>\n",
       "      <td>2130</td>\n",
       "      <td>0.00</td>\n",
       "      <td>0.00</td>\n",
       "      <td>0.0</td>\n",
       "    </tr>\n",
       "    <tr>\n",
       "      <th>49557</th>\n",
       "      <td>0.71</td>\n",
       "      <td>Good</td>\n",
       "      <td>F</td>\n",
       "      <td>SI2</td>\n",
       "      <td>64.1</td>\n",
       "      <td>60.0</td>\n",
       "      <td>2130</td>\n",
       "      <td>0.00</td>\n",
       "      <td>0.00</td>\n",
       "      <td>0.0</td>\n",
       "    </tr>\n",
       "    <tr>\n",
       "      <th>51506</th>\n",
       "      <td>1.12</td>\n",
       "      <td>Premium</td>\n",
       "      <td>G</td>\n",
       "      <td>I1</td>\n",
       "      <td>60.4</td>\n",
       "      <td>59.0</td>\n",
       "      <td>2383</td>\n",
       "      <td>6.71</td>\n",
       "      <td>6.67</td>\n",
       "      <td>0.0</td>\n",
       "    </tr>\n",
       "  </tbody>\n",
       "</table>\n",
       "</div>"
      ],
      "text/plain": [
       "       carat        cut color clarity  depth  table  price     x     y    z\n",
       "2207    1.00    Premium     G     SI2   59.1   59.0   3142  6.55  6.48  0.0\n",
       "2314    1.01    Premium     H      I1   58.1   59.0   3167  6.66  6.60  0.0\n",
       "4791    1.10    Premium     G     SI2   63.0   59.0   3696  6.50  6.47  0.0\n",
       "5471    1.01    Premium     F     SI2   59.2   58.0   3837  6.50  6.47  0.0\n",
       "10167   1.50       Good     G      I1   64.0   61.0   4731  7.15  7.04  0.0\n",
       "11182   1.07      Ideal     F     SI2   61.6   56.0   4954  0.00  6.62  0.0\n",
       "11963   1.00  Very Good     H     VS2   63.3   53.0   5139  0.00  0.00  0.0\n",
       "13601   1.15      Ideal     G     VS2   59.2   56.0   5564  6.88  6.83  0.0\n",
       "15951   1.14       Fair     G     VS1   57.5   67.0   6381  0.00  0.00  0.0\n",
       "24394   2.18    Premium     H     SI2   59.4   61.0  12631  8.49  8.45  0.0\n",
       "24520   1.56      Ideal     G     VS2   62.2   54.0  12800  0.00  0.00  0.0\n",
       "26123   2.25    Premium     I     SI1   61.3   58.0  15397  8.52  8.42  0.0\n",
       "26243   1.20    Premium     D    VVS1   62.1   59.0  15686  0.00  0.00  0.0\n",
       "27112   2.20    Premium     H     SI1   61.2   59.0  17265  8.42  8.37  0.0\n",
       "27429   2.25    Premium     H     SI2   62.8   59.0  18034  0.00  0.00  0.0\n",
       "27503   2.02    Premium     H     VS2   62.7   53.0  18207  8.02  7.95  0.0\n",
       "27739   2.80       Good     G     SI2   63.8   58.0  18788  8.90  8.85  0.0\n",
       "49556   0.71       Good     F     SI2   64.1   60.0   2130  0.00  0.00  0.0\n",
       "49557   0.71       Good     F     SI2   64.1   60.0   2130  0.00  0.00  0.0\n",
       "51506   1.12    Premium     G      I1   60.4   59.0   2383  6.71  6.67  0.0"
      ]
     },
     "execution_count": 9,
     "metadata": {},
     "output_type": "execute_result"
    }
   ],
   "source": [
    "df[(df['z'] == 0) | (df['y'] == 0) | (df['x']==0)]\n",
    "#theses datas are the datas without either height,width,lenget = 0. which does not exist. so we should remove theses rows"
   ]
  },
  {
   "cell_type": "code",
   "execution_count": 10,
   "id": "dcf47454",
   "metadata": {},
   "outputs": [],
   "source": [
    "df.drop(df[(df['z'] == 0) | (df['y'] == 0) | (df['x']==0)].index,inplace=True)"
   ]
  },
  {
   "cell_type": "code",
   "execution_count": null,
   "id": "8148b73a",
   "metadata": {},
   "outputs": [],
   "source": []
  },
  {
   "cell_type": "code",
   "execution_count": null,
   "id": "683e4a94",
   "metadata": {},
   "outputs": [],
   "source": []
  },
  {
   "cell_type": "code",
   "execution_count": null,
   "id": "58cb24e2",
   "metadata": {},
   "outputs": [],
   "source": []
  },
  {
   "cell_type": "code",
   "execution_count": 11,
   "id": "9cea1286",
   "metadata": {},
   "outputs": [
    {
     "data": {
      "text/html": [
       "<div>\n",
       "<style scoped>\n",
       "    .dataframe tbody tr th:only-of-type {\n",
       "        vertical-align: middle;\n",
       "    }\n",
       "\n",
       "    .dataframe tbody tr th {\n",
       "        vertical-align: top;\n",
       "    }\n",
       "\n",
       "    .dataframe thead th {\n",
       "        text-align: right;\n",
       "    }\n",
       "</style>\n",
       "<table border=\"1\" class=\"dataframe\">\n",
       "  <thead>\n",
       "    <tr style=\"text-align: right;\">\n",
       "      <th></th>\n",
       "      <th>carat</th>\n",
       "      <th>cut</th>\n",
       "      <th>color</th>\n",
       "      <th>clarity</th>\n",
       "      <th>depth</th>\n",
       "      <th>table</th>\n",
       "      <th>price</th>\n",
       "      <th>x</th>\n",
       "      <th>y</th>\n",
       "      <th>z</th>\n",
       "    </tr>\n",
       "  </thead>\n",
       "  <tbody>\n",
       "    <tr>\n",
       "      <th>0</th>\n",
       "      <td>0.23</td>\n",
       "      <td>Ideal</td>\n",
       "      <td>E</td>\n",
       "      <td>SI2</td>\n",
       "      <td>61.5</td>\n",
       "      <td>55.0</td>\n",
       "      <td>326</td>\n",
       "      <td>3.95</td>\n",
       "      <td>3.98</td>\n",
       "      <td>2.43</td>\n",
       "    </tr>\n",
       "    <tr>\n",
       "      <th>1</th>\n",
       "      <td>0.21</td>\n",
       "      <td>Premium</td>\n",
       "      <td>E</td>\n",
       "      <td>SI1</td>\n",
       "      <td>59.8</td>\n",
       "      <td>61.0</td>\n",
       "      <td>326</td>\n",
       "      <td>3.89</td>\n",
       "      <td>3.84</td>\n",
       "      <td>2.31</td>\n",
       "    </tr>\n",
       "    <tr>\n",
       "      <th>2</th>\n",
       "      <td>0.23</td>\n",
       "      <td>Good</td>\n",
       "      <td>E</td>\n",
       "      <td>VS1</td>\n",
       "      <td>56.9</td>\n",
       "      <td>65.0</td>\n",
       "      <td>327</td>\n",
       "      <td>4.05</td>\n",
       "      <td>4.07</td>\n",
       "      <td>2.31</td>\n",
       "    </tr>\n",
       "    <tr>\n",
       "      <th>3</th>\n",
       "      <td>0.29</td>\n",
       "      <td>Premium</td>\n",
       "      <td>I</td>\n",
       "      <td>VS2</td>\n",
       "      <td>62.4</td>\n",
       "      <td>58.0</td>\n",
       "      <td>334</td>\n",
       "      <td>4.20</td>\n",
       "      <td>4.23</td>\n",
       "      <td>2.63</td>\n",
       "    </tr>\n",
       "    <tr>\n",
       "      <th>4</th>\n",
       "      <td>0.31</td>\n",
       "      <td>Good</td>\n",
       "      <td>J</td>\n",
       "      <td>SI2</td>\n",
       "      <td>63.3</td>\n",
       "      <td>58.0</td>\n",
       "      <td>335</td>\n",
       "      <td>4.34</td>\n",
       "      <td>4.35</td>\n",
       "      <td>2.75</td>\n",
       "    </tr>\n",
       "  </tbody>\n",
       "</table>\n",
       "</div>"
      ],
      "text/plain": [
       "   carat      cut color clarity  depth  table  price     x     y     z\n",
       "0   0.23    Ideal     E     SI2   61.5   55.0    326  3.95  3.98  2.43\n",
       "1   0.21  Premium     E     SI1   59.8   61.0    326  3.89  3.84  2.31\n",
       "2   0.23     Good     E     VS1   56.9   65.0    327  4.05  4.07  2.31\n",
       "3   0.29  Premium     I     VS2   62.4   58.0    334  4.20  4.23  2.63\n",
       "4   0.31     Good     J     SI2   63.3   58.0    335  4.34  4.35  2.75"
      ]
     },
     "execution_count": 11,
     "metadata": {},
     "output_type": "execute_result"
    }
   ],
   "source": [
    "df.head()"
   ]
  },
  {
   "cell_type": "code",
   "execution_count": null,
   "id": "a194553e",
   "metadata": {},
   "outputs": [],
   "source": []
  },
  {
   "cell_type": "markdown",
   "id": "6c3916fe",
   "metadata": {},
   "source": [
    "### this dataset doesnot have any null vlaues"
   ]
  },
  {
   "cell_type": "markdown",
   "id": "5b37fa5e",
   "metadata": {},
   "source": [
    "# price (target)"
   ]
  },
  {
   "cell_type": "code",
   "execution_count": 12,
   "id": "3854909f",
   "metadata": {},
   "outputs": [
    {
     "name": "stderr",
     "output_type": "stream",
     "text": [
      "C:\\Users\\jonah\\anaconda3\\lib\\site-packages\\seaborn\\_decorators.py:36: FutureWarning: Pass the following variable as a keyword arg: x. From version 0.12, the only valid positional argument will be `data`, and passing other arguments without an explicit keyword will result in an error or misinterpretation.\n",
      "  warnings.warn(\n"
     ]
    },
    {
     "data": {
      "text/plain": [
       "<AxesSubplot:xlabel='price'>"
      ]
     },
     "execution_count": 12,
     "metadata": {},
     "output_type": "execute_result"
    },
    {
     "data": {
      "image/png": "[encoded data removed]",
      "text/plain": [
       "<Figure size 432x288 with 1 Axes>"
      ]
     },
     "metadata": {
      "needs_background": "light"
     },
     "output_type": "display_data"
    }
   ],
   "source": [
    "sns.boxplot(df.price)"
   ]
  },
  {
   "cell_type": "code",
   "execution_count": 13,
   "id": "8f5a9f68",
   "metadata": {},
   "outputs": [],
   "source": [
    "#filling outliers \n",
    "q1=df.price.quantile(0.25)\n",
    "q3=df.price.quantile(0.75)\n",
    "iqr=q3-q1\n",
    "upper=q3+(1.5*iqr)\n",
    "df.price=np.where(df.price>upper,upper,df.price)"
   ]
  },
  {
   "cell_type": "code",
   "execution_count": 14,
   "id": "a39571cf",
   "metadata": {},
   "outputs": [
    {
     "name": "stderr",
     "output_type": "stream",
     "text": [
      "C:\\Users\\jonah\\anaconda3\\lib\\site-packages\\seaborn\\distributions.py:2619: FutureWarning: `distplot` is a deprecated function and will be removed in a future version. Please adapt your code to use either `displot` (a figure-level function with similar flexibility) or `histplot` (an axes-level function for histograms).\n",
      "  warnings.warn(msg, FutureWarning)\n"
     ]
    },
    {
     "data": {
      "text/plain": [
       "<AxesSubplot:xlabel='price', ylabel='Density'>"
      ]
     },
     "execution_count": 14,
     "metadata": {},
     "output_type": "execute_result"
    },
    {
     "data": {
      "image/png": "[encoded data removed]",
      "text/plain": [
       "<Figure size 432x288 with 1 Axes>"
      ]
     },
     "metadata": {
      "needs_background": "light"
     },
     "output_type": "display_data"
    }
   ],
   "source": [
    "sns.distplot(df.price)"
   ]
  },
  {
   "cell_type": "markdown",
   "id": "5b54ce41",
   "metadata": {},
   "source": [
    "# carat"
   ]
  },
  {
   "cell_type": "code",
   "execution_count": 15,
   "id": "ef21c56a",
   "metadata": {},
   "outputs": [
    {
     "name": "stderr",
     "output_type": "stream",
     "text": [
      "C:\\Users\\jonah\\anaconda3\\lib\\site-packages\\seaborn\\distributions.py:2619: FutureWarning: `distplot` is a deprecated function and will be removed in a future version. Please adapt your code to use either `displot` (a figure-level function with similar flexibility) or `histplot` (an axes-level function for histograms).\n",
      "  warnings.warn(msg, FutureWarning)\n"
     ]
    },
    {
     "data": {
      "text/plain": [
       "<AxesSubplot:xlabel='carat', ylabel='Density'>"
      ]
     },
     "execution_count": 15,
     "metadata": {},
     "output_type": "execute_result"
    },
    {
     "data": {
      "image/png": "[encoded data removed]",
      "text/plain": [
       "<Figure size 432x288 with 1 Axes>"
      ]
     },
     "metadata": {
      "needs_background": "light"
     },
     "output_type": "display_data"
    }
   ],
   "source": [
    "sns.distplot(df.carat)"
   ]
  },
  {
   "cell_type": "code",
   "execution_count": 16,
   "id": "797e169e",
   "metadata": {},
   "outputs": [
    {
     "name": "stderr",
     "output_type": "stream",
     "text": [
      "C:\\Users\\jonah\\anaconda3\\lib\\site-packages\\seaborn\\_decorators.py:36: FutureWarning: Pass the following variable as a keyword arg: x. From version 0.12, the only valid positional argument will be `data`, and passing other arguments without an explicit keyword will result in an error or misinterpretation.\n",
      "  warnings.warn(\n"
     ]
    },
    {
     "data": {
      "text/plain": [
       "<AxesSubplot:xlabel='carat'>"
      ]
     },
     "execution_count": 16,
     "metadata": {},
     "output_type": "execute_result"
    },
    {
     "data": {
      "image/png": "[encoded data removed]",
      "text/plain": [
       "<Figure size 432x288 with 1 Axes>"
      ]
     },
     "metadata": {
      "needs_background": "light"
     },
     "output_type": "display_data"
    }
   ],
   "source": [
    "sns.boxplot(df.carat)"
   ]
  },
  {
   "cell_type": "code",
   "execution_count": 17,
   "id": "64ef0e43",
   "metadata": {},
   "outputs": [],
   "source": [
    "#filling outliers \n",
    "q1=df.carat.quantile(0.25)\n",
    "q3=df.carat.quantile(0.75)\n",
    "iqr=q3-q1\n",
    "upper=q3+(1.5*iqr)\n",
    "df.carat=np.where(df.carat>upper,upper,df.carat)"
   ]
  },
  {
   "cell_type": "markdown",
   "id": "e1e4eda8",
   "metadata": {},
   "source": [
    "# cut"
   ]
  },
  {
   "cell_type": "code",
   "execution_count": 18,
   "id": "f0732535",
   "metadata": {},
   "outputs": [
    {
     "name": "stderr",
     "output_type": "stream",
     "text": [
      "C:\\Users\\jonah\\anaconda3\\lib\\site-packages\\seaborn\\_decorators.py:36: FutureWarning: Pass the following variable as a keyword arg: x. From version 0.12, the only valid positional argument will be `data`, and passing other arguments without an explicit keyword will result in an error or misinterpretation.\n",
      "  warnings.warn(\n"
     ]
    },
    {
     "data": {
      "text/plain": [
       "<AxesSubplot:xlabel='cut', ylabel='count'>"
      ]
     },
     "execution_count": 18,
     "metadata": {},
     "output_type": "execute_result"
    },
    {
     "data": {
      "image/png": "[encoded data removed]",
      "text/plain": [
       "<Figure size 432x288 with 1 Axes>"
      ]
     },
     "metadata": {
      "needs_background": "light"
     },
     "output_type": "display_data"
    }
   ],
   "source": [
    "sns.countplot(df.cut)"
   ]
  },
  {
   "cell_type": "markdown",
   "id": "0c595506",
   "metadata": {},
   "source": [
    "### this is an ordinal variable "
   ]
  },
  {
   "cell_type": "code",
   "execution_count": 19,
   "id": "d9979290",
   "metadata": {},
   "outputs": [],
   "source": [
    "cut_numeric = {'Ideal':1,'Premium':2,'Very Good':3,'Good':4,'Fair':5}\n",
    "df['cut']=df['cut'].map(cut_numeric)"
   ]
  },
  {
   "cell_type": "markdown",
   "id": "a4919d56",
   "metadata": {},
   "source": [
    "# color"
   ]
  },
  {
   "cell_type": "code",
   "execution_count": 20,
   "id": "2a43771f",
   "metadata": {},
   "outputs": [
    {
     "name": "stderr",
     "output_type": "stream",
     "text": [
      "C:\\Users\\jonah\\anaconda3\\lib\\site-packages\\seaborn\\_decorators.py:36: FutureWarning: Pass the following variable as a keyword arg: x. From version 0.12, the only valid positional argument will be `data`, and passing other arguments without an explicit keyword will result in an error or misinterpretation.\n",
      "  warnings.warn(\n"
     ]
    },
    {
     "data": {
      "text/plain": [
       "<AxesSubplot:xlabel='color', ylabel='count'>"
      ]
     },
     "execution_count": 20,
     "metadata": {},
     "output_type": "execute_result"
    },
    {
     "data": {
      "image/png": "[encoded data removed]",
      "text/plain": [
       "<Figure size 432x288 with 1 Axes>"
      ]
     },
     "metadata": {
      "needs_background": "light"
     },
     "output_type": "display_data"
    }
   ],
   "source": [
    "sns.countplot(df.color)\n",
    "#color: diamond colour, from J (worst) to D (best)"
   ]
  },
  {
   "cell_type": "code",
   "execution_count": 21,
   "id": "4dfeb5bc",
   "metadata": {},
   "outputs": [],
   "source": [
    "color_n = {'J':7,'I':6,'H':5,'G':4,'F':3,'E':2,'D':1}\n",
    "df['color']=df['color'].map(color_n)"
   ]
  },
  {
   "cell_type": "markdown",
   "id": "509297d2",
   "metadata": {},
   "source": [
    "# clarity"
   ]
  },
  {
   "cell_type": "code",
   "execution_count": 22,
   "id": "568f69a7",
   "metadata": {},
   "outputs": [
    {
     "name": "stderr",
     "output_type": "stream",
     "text": [
      "C:\\Users\\jonah\\anaconda3\\lib\\site-packages\\seaborn\\_decorators.py:36: FutureWarning: Pass the following variable as a keyword arg: x. From version 0.12, the only valid positional argument will be `data`, and passing other arguments without an explicit keyword will result in an error or misinterpretation.\n",
      "  warnings.warn(\n"
     ]
    },
    {
     "data": {
      "text/plain": [
       "<AxesSubplot:xlabel='clarity', ylabel='count'>"
      ]
     },
     "execution_count": 22,
     "metadata": {},
     "output_type": "execute_result"
    },
    {
     "data": {
      "image/png": "[encoded data removed]",
      "text/plain": [
       "<Figure size 432x288 with 1 Axes>"
      ]
     },
     "metadata": {
      "needs_background": "light"
     },
     "output_type": "display_data"
    }
   ],
   "source": [
    "sns.countplot(df.clarity)\n",
    "#clarity: a measurement of how clear the diamond is (I1 (worst), SI2, SI1, VS2, VS1, VVS2, VVS1, IF (best))"
   ]
  },
  {
   "cell_type": "code",
   "execution_count": 23,
   "id": "9979b29f",
   "metadata": {},
   "outputs": [],
   "source": [
    "clarity_n = {'I1':8,'SI2':7,'SI1':6,'VS2':5,'VS1':4,'VVS2':3,'VVS1':2,'IF':1}\n",
    "df['clarity']=df['clarity'].map(clarity_n)"
   ]
  },
  {
   "cell_type": "markdown",
   "id": "70773793",
   "metadata": {},
   "source": [
    "# depth"
   ]
  },
  {
   "cell_type": "code",
   "execution_count": 24,
   "id": "a0d571bc",
   "metadata": {},
   "outputs": [
    {
     "name": "stderr",
     "output_type": "stream",
     "text": [
      "C:\\Users\\jonah\\anaconda3\\lib\\site-packages\\seaborn\\distributions.py:2619: FutureWarning: `distplot` is a deprecated function and will be removed in a future version. Please adapt your code to use either `displot` (a figure-level function with similar flexibility) or `histplot` (an axes-level function for histograms).\n",
      "  warnings.warn(msg, FutureWarning)\n"
     ]
    },
    {
     "data": {
      "text/plain": [
       "<AxesSubplot:xlabel='depth', ylabel='Density'>"
      ]
     },
     "execution_count": 24,
     "metadata": {},
     "output_type": "execute_result"
    },
    {
     "data": {
      "image/png": "[encoded data removed]",
      "text/plain": [
       "<Figure size 432x288 with 1 Axes>"
      ]
     },
     "metadata": {
      "needs_background": "light"
     },
     "output_type": "display_data"
    }
   ],
   "source": [
    "sns.distplot(df.depth)"
   ]
  },
  {
   "cell_type": "code",
   "execution_count": 25,
   "id": "2f20e8c9",
   "metadata": {},
   "outputs": [
    {
     "name": "stderr",
     "output_type": "stream",
     "text": [
      "C:\\Users\\jonah\\anaconda3\\lib\\site-packages\\seaborn\\_decorators.py:36: FutureWarning: Pass the following variable as a keyword arg: x. From version 0.12, the only valid positional argument will be `data`, and passing other arguments without an explicit keyword will result in an error or misinterpretation.\n",
      "  warnings.warn(\n"
     ]
    },
    {
     "data": {
      "text/plain": [
       "<AxesSubplot:xlabel='depth'>"
      ]
     },
     "execution_count": 25,
     "metadata": {},
     "output_type": "execute_result"
    },
    {
     "data": {
      "image/png": "[encoded data removed]",
      "text/plain": [
       "<Figure size 432x288 with 1 Axes>"
      ]
     },
     "metadata": {
      "needs_background": "light"
     },
     "output_type": "display_data"
    }
   ],
   "source": [
    "sns.boxplot(df.depth)"
   ]
  },
  {
   "cell_type": "code",
   "execution_count": 26,
   "id": "5bc61b80",
   "metadata": {},
   "outputs": [],
   "source": [
    "#filling outliers \n",
    "q1=df.depth.quantile(0.25)\n",
    "q3=df.depth.quantile(0.75)\n",
    "iqr=q3-q1\n",
    "upper=q3+(1.5*iqr)\n",
    "lower=q1-(1.5*iqr)\n",
    "df.depth=np.where(df.depth>upper,upper,df.depth)\n",
    "df.depth=np.where(df.depth<lower,lower,df.depth)\n"
   ]
  },
  {
   "cell_type": "markdown",
   "id": "99a11b2b",
   "metadata": {},
   "source": [
    "# table"
   ]
  },
  {
   "cell_type": "code",
   "execution_count": 27,
   "id": "6e9d2f1e",
   "metadata": {},
   "outputs": [
    {
     "name": "stderr",
     "output_type": "stream",
     "text": [
      "C:\\Users\\jonah\\anaconda3\\lib\\site-packages\\seaborn\\distributions.py:2619: FutureWarning: `distplot` is a deprecated function and will be removed in a future version. Please adapt your code to use either `displot` (a figure-level function with similar flexibility) or `histplot` (an axes-level function for histograms).\n",
      "  warnings.warn(msg, FutureWarning)\n"
     ]
    },
    {
     "data": {
      "text/plain": [
       "<AxesSubplot:xlabel='table', ylabel='Density'>"
      ]
     },
     "execution_count": 27,
     "metadata": {},
     "output_type": "execute_result"
    },
    {
     "data": {
      "image/png": "[encoded data removed]",
      "text/plain": [
       "<Figure size 432x288 with 1 Axes>"
      ]
     },
     "metadata": {
      "needs_background": "light"
     },
     "output_type": "display_data"
    }
   ],
   "source": [
    "sns.distplot(df.table)"
   ]
  },
  {
   "cell_type": "code",
   "execution_count": 28,
   "id": "580847a7",
   "metadata": {},
   "outputs": [
    {
     "name": "stderr",
     "output_type": "stream",
     "text": [
      "C:\\Users\\jonah\\anaconda3\\lib\\site-packages\\seaborn\\_decorators.py:36: FutureWarning: Pass the following variable as a keyword arg: x. From version 0.12, the only valid positional argument will be `data`, and passing other arguments without an explicit keyword will result in an error or misinterpretation.\n",
      "  warnings.warn(\n"
     ]
    },
    {
     "data": {
      "text/plain": [
       "<AxesSubplot:xlabel='table'>"
      ]
     },
     "execution_count": 28,
     "metadata": {},
     "output_type": "execute_result"
    },
    {
     "data": {
      "image/png": "[encoded data removed]",
      "text/plain": [
       "<Figure size 432x288 with 1 Axes>"
      ]
     },
     "metadata": {
      "needs_background": "light"
     },
     "output_type": "display_data"
    }
   ],
   "source": [
    "sns.boxplot(df.table)"
   ]
  },
  {
   "cell_type": "code",
   "execution_count": 29,
   "id": "6c2092ac",
   "metadata": {},
   "outputs": [],
   "source": [
    "#filling outliers \n",
    "q1=df.table.quantile(0.25)\n",
    "q3=df.table.quantile(0.75)\n",
    "iqr=q3-q1\n",
    "upper=q3+(1.5*iqr)\n",
    "lower=q1-(1.5*iqr)\n",
    "df.table=np.where(df.table>upper,upper,df.table)\n",
    "df.table=np.where(df.table<lower,lower,df.table)\n"
   ]
  },
  {
   "cell_type": "markdown",
   "id": "5fff966c",
   "metadata": {},
   "source": [
    "# x"
   ]
  },
  {
   "cell_type": "code",
   "execution_count": 30,
   "id": "cd94416a",
   "metadata": {},
   "outputs": [
    {
     "name": "stderr",
     "output_type": "stream",
     "text": [
      "C:\\Users\\jonah\\anaconda3\\lib\\site-packages\\seaborn\\distributions.py:2619: FutureWarning: `distplot` is a deprecated function and will be removed in a future version. Please adapt your code to use either `displot` (a figure-level function with similar flexibility) or `histplot` (an axes-level function for histograms).\n",
      "  warnings.warn(msg, FutureWarning)\n"
     ]
    },
    {
     "data": {
      "text/plain": [
       "<AxesSubplot:xlabel='x', ylabel='Density'>"
      ]
     },
     "execution_count": 30,
     "metadata": {},
     "output_type": "execute_result"
    },
    {
     "data": {
      "image/png": "[encoded data removed]",
      "text/plain": [
       "<Figure size 432x288 with 1 Axes>"
      ]
     },
     "metadata": {
      "needs_background": "light"
     },
     "output_type": "display_data"
    }
   ],
   "source": [
    "sns.distplot(df.x)"
   ]
  },
  {
   "cell_type": "code",
   "execution_count": 31,
   "id": "09e4e2e5",
   "metadata": {},
   "outputs": [
    {
     "name": "stderr",
     "output_type": "stream",
     "text": [
      "C:\\Users\\jonah\\anaconda3\\lib\\site-packages\\seaborn\\_decorators.py:36: FutureWarning: Pass the following variable as a keyword arg: x. From version 0.12, the only valid positional argument will be `data`, and passing other arguments without an explicit keyword will result in an error or misinterpretation.\n",
      "  warnings.warn(\n"
     ]
    },
    {
     "data": {
      "text/plain": [
       "<AxesSubplot:xlabel='x'>"
      ]
     },
     "execution_count": 31,
     "metadata": {},
     "output_type": "execute_result"
    },
    {
     "data": {
      "image/png": "[encoded data removed]",
      "text/plain": [
       "<Figure size 432x288 with 1 Axes>"
      ]
     },
     "metadata": {
      "needs_background": "light"
     },
     "output_type": "display_data"
    }
   ],
   "source": [
    "sns.boxplot(df.x)"
   ]
  },
  {
   "cell_type": "code",
   "execution_count": 32,
   "id": "db3b3c20",
   "metadata": {},
   "outputs": [],
   "source": [
    "#filling outliers \n",
    "q1=df.x.quantile(0.25)\n",
    "q3=df.x.quantile(0.75)\n",
    "iqr=q3-q1\n",
    "upper=q3+(1.5*iqr)\n",
    "lower=q1-(1.5*iqr)\n",
    "df.x=np.where(df.x>upper,upper,df.x)\n",
    "df.x=np.where(df.x<lower,lower,df.x)\n"
   ]
  },
  {
   "cell_type": "markdown",
   "id": "c9dc30e9",
   "metadata": {},
   "source": [
    "# y"
   ]
  },
  {
   "cell_type": "code",
   "execution_count": 33,
   "id": "6e18eb1e",
   "metadata": {},
   "outputs": [
    {
     "name": "stderr",
     "output_type": "stream",
     "text": [
      "C:\\Users\\jonah\\anaconda3\\lib\\site-packages\\seaborn\\distributions.py:2619: FutureWarning: `distplot` is a deprecated function and will be removed in a future version. Please adapt your code to use either `displot` (a figure-level function with similar flexibility) or `histplot` (an axes-level function for histograms).\n",
      "  warnings.warn(msg, FutureWarning)\n"
     ]
    },
    {
     "data": {
      "text/plain": [
       "<AxesSubplot:xlabel='y', ylabel='Density'>"
      ]
     },
     "execution_count": 33,
     "metadata": {},
     "output_type": "execute_result"
    },
    {
     "data": {
      "image/png": "[encoded data removed]",
      "text/plain": [
       "<Figure size 432x288 with 1 Axes>"
      ]
     },
     "metadata": {
      "needs_background": "light"
     },
     "output_type": "display_data"
    }
   ],
   "source": [
    "sns.distplot(df.y)"
   ]
  },
  {
   "cell_type": "code",
   "execution_count": 34,
   "id": "ca259890",
   "metadata": {},
   "outputs": [
    {
     "name": "stderr",
     "output_type": "stream",
     "text": [
      "C:\\Users\\jonah\\anaconda3\\lib\\site-packages\\seaborn\\_decorators.py:36: FutureWarning: Pass the following variable as a keyword arg: x. From version 0.12, the only valid positional argument will be `data`, and passing other arguments without an explicit keyword will result in an error or misinterpretation.\n",
      "  warnings.warn(\n"
     ]
    },
    {
     "data": {
      "text/plain": [
       "<AxesSubplot:xlabel='y'>"
      ]
     },
     "execution_count": 34,
     "metadata": {},
     "output_type": "execute_result"
    },
    {
     "data": {
      "image/png": "[encoded data removed]",
      "text/plain": [
       "<Figure size 432x288 with 1 Axes>"
      ]
     },
     "metadata": {
      "needs_background": "light"
     },
     "output_type": "display_data"
    }
   ],
   "source": [
    "sns.boxplot(df.y)"
   ]
  },
  {
   "cell_type": "code",
   "execution_count": 35,
   "id": "ade3b227",
   "metadata": {},
   "outputs": [],
   "source": [
    "#filling outliers \n",
    "q1=df.y.quantile(0.25)\n",
    "q3=df.y.quantile(0.75)\n",
    "iqr=q3-q1\n",
    "upper=q3+(1.5*iqr)\n",
    "lower=q1-(1.5*iqr)\n",
    "df.y=np.where(df.y>upper,upper,df.y)\n",
    "df.y=np.where(df.y<lower,lower,df.y)\n"
   ]
  },
  {
   "cell_type": "markdown",
   "id": "8b2c9f24",
   "metadata": {},
   "source": [
    "# z"
   ]
  },
  {
   "cell_type": "code",
   "execution_count": 36,
   "id": "8e4cff5c",
   "metadata": {},
   "outputs": [
    {
     "name": "stderr",
     "output_type": "stream",
     "text": [
      "C:\\Users\\jonah\\anaconda3\\lib\\site-packages\\seaborn\\distributions.py:2619: FutureWarning: `distplot` is a deprecated function and will be removed in a future version. Please adapt your code to use either `displot` (a figure-level function with similar flexibility) or `histplot` (an axes-level function for histograms).\n",
      "  warnings.warn(msg, FutureWarning)\n"
     ]
    },
    {
     "data": {
      "text/plain": [
       "<AxesSubplot:xlabel='z', ylabel='Density'>"
      ]
     },
     "execution_count": 36,
     "metadata": {},
     "output_type": "execute_result"
    },
    {
     "data": {
      "image/png": "[encoded data removed]",
      "text/plain": [
       "<Figure size 432x288 with 1 Axes>"
      ]
     },
     "metadata": {
      "needs_background": "light"
     },
     "output_type": "display_data"
    }
   ],
   "source": [
    "sns.distplot(df.z)"
   ]
  },
  {
   "cell_type": "code",
   "execution_count": 37,
   "id": "548a9f55",
   "metadata": {},
   "outputs": [
    {
     "name": "stderr",
     "output_type": "stream",
     "text": [
      "C:\\Users\\jonah\\anaconda3\\lib\\site-packages\\seaborn\\_decorators.py:36: FutureWarning: Pass the following variable as a keyword arg: x. From version 0.12, the only valid positional argument will be `data`, and passing other arguments without an explicit keyword will result in an error or misinterpretation.\n",
      "  warnings.warn(\n"
     ]
    },
    {
     "data": {
      "text/plain": [
       "<AxesSubplot:xlabel='z'>"
      ]
     },
     "execution_count": 37,
     "metadata": {},
     "output_type": "execute_result"
    },
    {
     "data": {
      "image/png": "[encoded data removed]",
      "text/plain": [
       "<Figure size 432x288 with 1 Axes>"
      ]
     },
     "metadata": {
      "needs_background": "light"
     },
     "output_type": "display_data"
    }
   ],
   "source": [
    "sns.boxplot(df.z)"
   ]
  },
  {
   "cell_type": "code",
   "execution_count": 38,
   "id": "4c460594",
   "metadata": {},
   "outputs": [],
   "source": [
    "#filling outliers \n",
    "q1=df.z.quantile(0.25)\n",
    "q3=df.z.quantile(0.75)\n",
    "iqr=q3-q1\n",
    "upper=q3+(1.5*iqr)\n",
    "lower=q1-(1.5*iqr)\n",
    "df.z=np.where(df.z>upper,upper,df.z)\n",
    "df.z=np.where(df.z<lower,lower,df.z)\n"
   ]
  },
  {
   "cell_type": "markdown",
   "id": "c9708354",
   "metadata": {},
   "source": [
    "# Anova test"
   ]
  },
  {
   "cell_type": "code",
   "execution_count": 39,
   "id": "d37d5f28",
   "metadata": {},
   "outputs": [],
   "source": [
    "import statsmodels.api as sm\n",
    "from statsmodels.formula.api import ols\n"
   ]
  },
  {
   "cell_type": "code",
   "execution_count": 40,
   "id": "a5fe785d",
   "metadata": {},
   "outputs": [
    {
     "name": "stdout",
     "output_type": "stream",
     "text": [
      "               df        sum_sq       mean_sq          F  PR(>F)\n",
      "cut           1.0  2.314352e+09  2.314352e+09  196.77001     0.0\n",
      "Residual  53918.0  6.341679e+11  1.176171e+07        NaN     NaN\n"
     ]
    }
   ],
   "source": [
    "model = ols('price ~ cut', data = df).fit()\n",
    "anova = sm.stats.anova_lm(model, type = 2)\n",
    "print(anova.round(decimals=5))"
   ]
  },
  {
   "cell_type": "code",
   "execution_count": 41,
   "id": "3d54ba34",
   "metadata": {},
   "outputs": [
    {
     "name": "stdout",
     "output_type": "stream",
     "text": [
      "               df        sum_sq       mean_sq           F  PR(>F)\n",
      "color         1.0  1.983556e+10  1.983556e+10  1734.37003     0.0\n",
      "Residual  53918.0  6.166467e+11  1.143675e+07         NaN     NaN\n"
     ]
    }
   ],
   "source": [
    "model = ols('price ~ color', data = df).fit()\n",
    "anova = sm.stats.anova_lm(model, type = 2)\n",
    "print(anova.round(decimals=5))"
   ]
  },
  {
   "cell_type": "code",
   "execution_count": 42,
   "id": "a233cd54",
   "metadata": {},
   "outputs": [
    {
     "name": "stdout",
     "output_type": "stream",
     "text": [
      "               df        sum_sq       mean_sq           F  PR(>F)\n",
      "clarity       1.0  1.523508e+10  1.523508e+10  1322.25202     0.0\n",
      "Residual  53918.0  6.212471e+11  1.152207e+07         NaN     NaN\n"
     ]
    }
   ],
   "source": [
    "model = ols('price ~ clarity', data = df).fit()\n",
    "anova = sm.stats.anova_lm(model, type = 2)\n",
    "print(anova.round(decimals=5))"
   ]
  },
  {
   "cell_type": "code",
   "execution_count": 43,
   "id": "22400c77",
   "metadata": {},
   "outputs": [],
   "source": [
    "from statsmodels.stats.outliers_influence import variance_inflation_factor"
   ]
  },
  {
   "cell_type": "code",
   "execution_count": 44,
   "id": "e26d9e98",
   "metadata": {},
   "outputs": [],
   "source": [
    "#calculate VIF for each independent variable\n",
    "vif = pd.DataFrame()\n",
    "vif[\"variable\"] = df.drop(['price','cut','color','clarity'],axis=1).columns\n",
    "vif[\"VIF\"] = [variance_inflation_factor(df.values, i) for i in range(len(vif[\"variable\"]))]\n"
   ]
  },
  {
   "cell_type": "code",
   "execution_count": 45,
   "id": "d97a9335",
   "metadata": {},
   "outputs": [
    {
     "data": {
      "text/html": [
       "<div>\n",
       "<style scoped>\n",
       "    .dataframe tbody tr th:only-of-type {\n",
       "        vertical-align: middle;\n",
       "    }\n",
       "\n",
       "    .dataframe tbody tr th {\n",
       "        vertical-align: top;\n",
       "    }\n",
       "\n",
       "    .dataframe thead th {\n",
       "        text-align: right;\n",
       "    }\n",
       "</style>\n",
       "<table border=\"1\" class=\"dataframe\">\n",
       "  <thead>\n",
       "    <tr style=\"text-align: right;\">\n",
       "      <th></th>\n",
       "      <th>variable</th>\n",
       "      <th>VIF</th>\n",
       "    </tr>\n",
       "  </thead>\n",
       "  <tbody>\n",
       "    <tr>\n",
       "      <th>0</th>\n",
       "      <td>carat</td>\n",
       "      <td>215.010708</td>\n",
       "    </tr>\n",
       "    <tr>\n",
       "      <th>1</th>\n",
       "      <td>depth</td>\n",
       "      <td>6.228903</td>\n",
       "    </tr>\n",
       "    <tr>\n",
       "      <th>2</th>\n",
       "      <td>table</td>\n",
       "      <td>7.557473</td>\n",
       "    </tr>\n",
       "    <tr>\n",
       "      <th>3</th>\n",
       "      <td>x</td>\n",
       "      <td>18.707096</td>\n",
       "    </tr>\n",
       "    <tr>\n",
       "      <th>4</th>\n",
       "      <td>y</td>\n",
       "      <td>1159.814185</td>\n",
       "    </tr>\n",
       "    <tr>\n",
       "      <th>5</th>\n",
       "      <td>z</td>\n",
       "      <td>904.560025</td>\n",
       "    </tr>\n",
       "  </tbody>\n",
       "</table>\n",
       "</div>"
      ],
      "text/plain": [
       "  variable          VIF\n",
       "0    carat   215.010708\n",
       "1    depth     6.228903\n",
       "2    table     7.557473\n",
       "3        x    18.707096\n",
       "4        y  1159.814185\n",
       "5        z   904.560025"
      ]
     },
     "execution_count": 45,
     "metadata": {},
     "output_type": "execute_result"
    }
   ],
   "source": [
    "vif"
   ]
  },
  {
   "cell_type": "code",
   "execution_count": 46,
   "id": "652da3a6",
   "metadata": {},
   "outputs": [],
   "source": [
    "df.drop('y',axis=1,inplace=True)"
   ]
  },
  {
   "cell_type": "markdown",
   "id": "fab89bba",
   "metadata": {},
   "source": [
    "# MACHINE LEARNING MODELS "
   ]
  },
  {
   "cell_type": "code",
   "execution_count": 47,
   "id": "d1a68e30",
   "metadata": {},
   "outputs": [],
   "source": [
    "x=df.drop('price',axis=1)\n",
    "y=df.price"
   ]
  },
  {
   "cell_type": "code",
   "execution_count": 48,
   "id": "baf10484",
   "metadata": {},
   "outputs": [],
   "source": [
    "from sklearn.model_selection import train_test_split\n",
    "xtrain,xtest,ytrain,ytest=train_test_split(x,y,test_size=0.2,random_state=1)\n"
   ]
  },
  {
   "cell_type": "markdown",
   "id": "5800a04f",
   "metadata": {},
   "source": [
    "### linear regression"
   ]
  },
  {
   "cell_type": "code",
   "execution_count": 49,
   "id": "e0a1e9d4",
   "metadata": {},
   "outputs": [],
   "source": [
    "from sklearn.linear_model import LinearRegression\n",
    "lg=LinearRegression()\n",
    "lg.fit(xtrain,ytrain)\n",
    "ypred=lg.predict(xtest)"
   ]
  },
  {
   "cell_type": "code",
   "execution_count": 50,
   "id": "8645c355",
   "metadata": {},
   "outputs": [],
   "source": [
    "from sklearn.metrics import r2_score,mean_absolute_error,mean_squared_error"
   ]
  },
  {
   "cell_type": "code",
   "execution_count": 51,
   "id": "0ce6bb65",
   "metadata": {},
   "outputs": [
    {
     "data": {
      "text/plain": [
       "0.9303593155912737"
      ]
     },
     "execution_count": 51,
     "metadata": {},
     "output_type": "execute_result"
    }
   ],
   "source": [
    "r2_score(ytest,ypred)"
   ]
  },
  {
   "cell_type": "markdown",
   "id": "15d28987",
   "metadata": {},
   "source": [
    "### random forest regression"
   ]
  },
  {
   "cell_type": "code",
   "execution_count": 52,
   "id": "46653ae2",
   "metadata": {},
   "outputs": [
    {
     "data": {
      "text/plain": [
       "0.9872402540662284"
      ]
     },
     "execution_count": 52,
     "metadata": {},
     "output_type": "execute_result"
    }
   ],
   "source": [
    "from sklearn.ensemble import RandomForestRegressor\n",
    "ram=RandomForestRegressor(n_estimators=100,random_state=2)\n",
    "ram.fit(xtrain,ytrain)\n",
    "ypred=ram.predict(xtest)\n",
    "r2_score(ytest,ypred)"
   ]
  },
  {
   "cell_type": "markdown",
   "id": "b9779d2a",
   "metadata": {},
   "source": [
    "### k nearest neighbors"
   ]
  },
  {
   "cell_type": "code",
   "execution_count": 53,
   "id": "a21b786e",
   "metadata": {},
   "outputs": [],
   "source": [
    "from sklearn.neighbors import KNeighborsRegressor\n"
   ]
  },
  {
   "cell_type": "code",
   "execution_count": 54,
   "id": "bc26651e",
   "metadata": {},
   "outputs": [
    {
     "data": {
      "text/plain": [
       "0.9581246640750861"
      ]
     },
     "execution_count": 54,
     "metadata": {},
     "output_type": "execute_result"
    }
   ],
   "source": [
    "knn = KNeighborsRegressor(n_neighbors=5)\n",
    "knn.fit(xtrain, ytrain)\n",
    "ypred=knn.predict(xtest)\n",
    "r2_score(ytest,ypred)"
   ]
  },
  {
   "cell_type": "markdown",
   "id": "afb310de",
   "metadata": {},
   "source": [
    "### Ada boost"
   ]
  },
  {
   "cell_type": "code",
   "execution_count": 55,
   "id": "c1a2d7b5",
   "metadata": {},
   "outputs": [
    {
     "data": {
      "text/plain": [
       "0.8653180439947481"
      ]
     },
     "execution_count": 55,
     "metadata": {},
     "output_type": "execute_result"
    }
   ],
   "source": [
    "from sklearn.ensemble import AdaBoostRegressor\n",
    "from sklearn.tree import DecisionTreeRegressor\n",
    "base = DecisionTreeRegressor(max_depth=2)\n",
    "model = AdaBoostRegressor(base_estimator=base, n_estimators=30, learning_rate=0.1, loss='linear')\n",
    "model.fit(xtrain, ytrain)\n",
    "ypred = model.predict(xtest)\n",
    "r2_score(ytest,ypred)"
   ]
  },
  {
   "cell_type": "markdown",
   "id": "810eae1e",
   "metadata": {},
   "source": [
    "### grdient boost regressor"
   ]
  },
  {
   "cell_type": "code",
   "execution_count": 56,
   "id": "d30a09be",
   "metadata": {},
   "outputs": [],
   "source": [
    "from sklearn.model_selection import GridSearchCV\n",
    "from sklearn.ensemble import GradientBoostingRegressor"
   ]
  },
  {
   "cell_type": "code",
   "execution_count": 57,
   "id": "fa4bb7a5",
   "metadata": {},
   "outputs": [],
   "source": [
    "param_grid = {\n",
    "    'n_estimators': [50, 100, 150],\n",
    "    'learning_rate': [0.01, 0.1],\n",
    "    'max_depth': [2, 3, 4],\n",
    "    'subsample': [0.5, 0.8, 1]\n",
    "}"
   ]
  },
  {
   "cell_type": "code",
   "execution_count": 58,
   "id": "292a3ac0",
   "metadata": {},
   "outputs": [
    {
     "name": "stdout",
     "output_type": "stream",
     "text": [
      "{'learning_rate': 0.1, 'max_depth': 4, 'n_estimators': 150, 'subsample': 0.8}\n",
      "0.9874103814025104\n"
     ]
    }
   ],
   "source": [
    "model = GradientBoostingRegressor()\n",
    "grid = GridSearchCV(model, param_grid, cv=5)\n",
    "grid.fit(xtrain, ytrain)\n",
    "print(grid.best_params_)\n",
    "print(grid.best_score_)"
   ]
  },
  {
   "cell_type": "code",
   "execution_count": 59,
   "id": "24fda98c",
   "metadata": {},
   "outputs": [
    {
     "data": {
      "text/plain": [
       "0.986648480331976"
      ]
     },
     "execution_count": 59,
     "metadata": {},
     "output_type": "execute_result"
    }
   ],
   "source": [
    "model = GradientBoostingRegressor(learning_rate=0.1,max_depth=4,n_estimators=150,subsample=0.5)\n",
    "model.fit(xtrain, ytrain)\n",
    "ypred=model.predict(xtest)\n",
    "r2_score(ytest,ypred)"
   ]
  },
  {
   "cell_type": "markdown",
   "id": "3baf5861",
   "metadata": {},
   "source": [
    "### Neural Network"
   ]
  },
  {
   "cell_type": "code",
   "execution_count": 61,
   "id": "92507435",
   "metadata": {},
   "outputs": [],
   "source": [
    "from keras.models import Sequential\n",
    "from keras.layers import Dense"
   ]
  },
  {
   "cell_type": "code",
   "execution_count": 62,
   "id": "3b829e7f",
   "metadata": {},
   "outputs": [],
   "source": [
    "model = Sequential()\n",
    "model.add(Dense(32, activation='relu', input_dim=8))\n",
    "model.add(Dense(32, activation='relu'))\n",
    "model.add(Dense(32, activation='relu'))\n",
    "model.add(Dense(1))\n"
   ]
  },
  {
   "cell_type": "code",
   "execution_count": 65,
   "id": "b69cbaf3",
   "metadata": {},
   "outputs": [],
   "source": [
    "model.compile(optimizer='adam', loss='mean_squared_error')"
   ]
  },
  {
   "cell_type": "code",
   "execution_count": 66,
   "id": "c3bacf44",
   "metadata": {},
   "outputs": [
    {
     "name": "stdout",
     "output_type": "stream",
     "text": [
      "Epoch 1/100\n",
      "4314/4314 [==============================] - 5s 924us/step - loss: 5231678.0000\n",
      "Epoch 2/100\n",
      "4314/4314 [==============================] - 4s 870us/step - loss: 495835.5000\n",
      "Epoch 3/100\n",
      "4314/4314 [==============================] - 3s 769us/step - loss: 468235.0000\n",
      "Epoch 4/100\n",
      "4314/4314 [==============================] - 3s 763us/step - loss: 449831.6562\n",
      "Epoch 5/100\n",
      "4314/4314 [==============================] - 3s 768us/step - loss: 436460.4062\n",
      "Epoch 6/100\n",
      "4314/4314 [==============================] - 3s 790us/step - loss: 421063.4688\n",
      "Epoch 7/100\n",
      "4314/4314 [==============================] - 3s 785us/step - loss: 413822.4688\n",
      "Epoch 8/100\n",
      "4314/4314 [==============================] - 3s 785us/step - loss: 403159.7812\n",
      "Epoch 9/100\n",
      "4314/4314 [==============================] - 3s 769us/step - loss: 391514.5938\n",
      "Epoch 10/100\n",
      "4314/4314 [==============================] - 3s 784us/step - loss: 379717.0938\n",
      "Epoch 11/100\n",
      "4314/4314 [==============================] - 3s 769us/step - loss: 370013.1875\n",
      "Epoch 12/100\n",
      "4314/4314 [==============================] - 3s 754us/step - loss: 359856.5312\n",
      "Epoch 13/100\n",
      "4314/4314 [==============================] - 3s 764us/step - loss: 358956.7188\n",
      "Epoch 14/100\n",
      "4314/4314 [==============================] - 3s 765us/step - loss: 354608.5938\n",
      "Epoch 15/100\n",
      "4314/4314 [==============================] - 3s 779us/step - loss: 353099.3438\n",
      "Epoch 16/100\n",
      "4314/4314 [==============================] - 3s 765us/step - loss: 352038.1562\n",
      "Epoch 17/100\n",
      "4314/4314 [==============================] - 3s 783us/step - loss: 348977.8750\n",
      "Epoch 18/100\n",
      "4314/4314 [==============================] - 3s 774us/step - loss: 344863.8750\n",
      "Epoch 19/100\n",
      "4314/4314 [==============================] - 3s 769us/step - loss: 342555.4062\n",
      "Epoch 20/100\n",
      "4314/4314 [==============================] - 4s 813us/step - loss: 338939.4062\n",
      "Epoch 21/100\n",
      "4314/4314 [==============================] - 3s 766us/step - loss: 334587.0312\n",
      "Epoch 22/100\n",
      "4314/4314 [==============================] - 3s 773us/step - loss: 333896.8750\n",
      "Epoch 23/100\n",
      "4314/4314 [==============================] - 3s 764us/step - loss: 329151.9375\n",
      "Epoch 24/100\n",
      "4314/4314 [==============================] - 3s 777us/step - loss: 326445.7812\n",
      "Epoch 25/100\n",
      "4314/4314 [==============================] - 3s 806us/step - loss: 323306.5938\n",
      "Epoch 26/100\n",
      "4314/4314 [==============================] - 3s 775us/step - loss: 324260.5000\n",
      "Epoch 27/100\n",
      "4314/4314 [==============================] - 3s 755us/step - loss: 318313.8750\n",
      "Epoch 28/100\n",
      "4314/4314 [==============================] - 3s 766us/step - loss: 316743.8438\n",
      "Epoch 29/100\n",
      "4314/4314 [==============================] - 3s 769us/step - loss: 315987.0000\n",
      "Epoch 30/100\n",
      "4314/4314 [==============================] - 3s 774us/step - loss: 314982.8438\n",
      "Epoch 31/100\n",
      "4314/4314 [==============================] - 3s 758us/step - loss: 314362.1562\n",
      "Epoch 32/100\n",
      "4314/4314 [==============================] - 3s 754us/step - loss: 309899.3125\n",
      "Epoch 33/100\n",
      "4314/4314 [==============================] - 3s 758us/step - loss: 305271.2812\n",
      "Epoch 34/100\n",
      "4314/4314 [==============================] - 3s 793us/step - loss: 305448.9688\n",
      "Epoch 35/100\n",
      "4314/4314 [==============================] - 3s 781us/step - loss: 300245.2812\n",
      "Epoch 36/100\n",
      "4314/4314 [==============================] - 3s 767us/step - loss: 293849.9375\n",
      "Epoch 37/100\n",
      "4314/4314 [==============================] - 3s 758us/step - loss: 287083.7500\n",
      "Epoch 38/100\n",
      "4314/4314 [==============================] - 3s 762us/step - loss: 279931.7812\n",
      "Epoch 39/100\n",
      "4314/4314 [==============================] - 3s 798us/step - loss: 271171.5312\n",
      "Epoch 40/100\n",
      "4314/4314 [==============================] - 3s 771us/step - loss: 263607.0625\n",
      "Epoch 41/100\n",
      "4314/4314 [==============================] - 3s 759us/step - loss: 256922.6406\n",
      "Epoch 42/100\n",
      "4314/4314 [==============================] - 3s 753us/step - loss: 254052.8125\n",
      "Epoch 43/100\n",
      "4314/4314 [==============================] - 3s 755us/step - loss: 249045.4531\n",
      "Epoch 44/100\n",
      "4314/4314 [==============================] - 3s 782us/step - loss: 244898.7031\n",
      "Epoch 45/100\n",
      "4314/4314 [==============================] - 3s 756us/step - loss: 243624.5469\n",
      "Epoch 46/100\n",
      "4314/4314 [==============================] - 3s 759us/step - loss: 241284.7500\n",
      "Epoch 47/100\n",
      "4314/4314 [==============================] - 3s 761us/step - loss: 238524.6562\n",
      "Epoch 48/100\n",
      "4314/4314 [==============================] - 3s 752us/step - loss: 229557.2031\n",
      "Epoch 49/100\n",
      "4314/4314 [==============================] - 4s 821us/step - loss: 227504.5156\n",
      "Epoch 50/100\n",
      "4314/4314 [==============================] - 3s 764us/step - loss: 224421.0625\n",
      "Epoch 51/100\n",
      "4314/4314 [==============================] - 3s 772us/step - loss: 220028.1250\n",
      "Epoch 52/100\n",
      "4314/4314 [==============================] - 3s 784us/step - loss: 217167.9219\n",
      "Epoch 53/100\n",
      "4314/4314 [==============================] - 3s 769us/step - loss: 215093.4844\n",
      "Epoch 54/100\n",
      "4314/4314 [==============================] - 3s 788us/step - loss: 210752.7812\n",
      "Epoch 55/100\n",
      "4314/4314 [==============================] - 3s 750us/step - loss: 212345.2031\n",
      "Epoch 56/100\n",
      "4314/4314 [==============================] - 3s 784us/step - loss: 209072.2344\n",
      "Epoch 57/100\n",
      "4314/4314 [==============================] - 3s 794us/step - loss: 208684.2969\n",
      "Epoch 58/100\n",
      "4314/4314 [==============================] - 3s 798us/step - loss: 208041.9688\n",
      "Epoch 59/100\n",
      "4314/4314 [==============================] - 3s 770us/step - loss: 205207.8750\n",
      "Epoch 60/100\n",
      "4314/4314 [==============================] - 3s 793us/step - loss: 205650.4219\n",
      "Epoch 61/100\n",
      "4314/4314 [==============================] - 3s 765us/step - loss: 203464.7344\n",
      "Epoch 62/100\n",
      "4314/4314 [==============================] - 3s 765us/step - loss: 202450.3750\n",
      "Epoch 63/100\n",
      "4314/4314 [==============================] - 3s 790us/step - loss: 202626.8281\n",
      "Epoch 64/100\n",
      "4314/4314 [==============================] - 3s 780us/step - loss: 202091.3906\n",
      "Epoch 65/100\n",
      "4314/4314 [==============================] - 3s 767us/step - loss: 200952.0469\n",
      "Epoch 66/100\n",
      "4314/4314 [==============================] - 3s 763us/step - loss: 201249.3281\n",
      "Epoch 67/100\n",
      "4314/4314 [==============================] - 3s 754us/step - loss: 200706.0469\n",
      "Epoch 68/100\n",
      "4314/4314 [==============================] - 3s 801us/step - loss: 199812.3281\n",
      "Epoch 69/100\n",
      "4314/4314 [==============================] - 3s 762us/step - loss: 198811.5000\n",
      "Epoch 70/100\n",
      "4314/4314 [==============================] - 3s 764us/step - loss: 199718.9844\n",
      "Epoch 71/100\n",
      "4314/4314 [==============================] - 3s 763us/step - loss: 198451.8125\n",
      "Epoch 72/100\n",
      "4314/4314 [==============================] - 3s 787us/step - loss: 197425.6094\n",
      "Epoch 73/100\n",
      "4314/4314 [==============================] - 4s 815us/step - loss: 196451.9375\n",
      "Epoch 74/100\n",
      "4314/4314 [==============================] - 3s 762us/step - loss: 197744.1250\n",
      "Epoch 75/100\n",
      "4314/4314 [==============================] - 3s 755us/step - loss: 195729.3594\n",
      "Epoch 76/100\n",
      "4314/4314 [==============================] - 3s 757us/step - loss: 196120.8594\n",
      "Epoch 77/100\n",
      "4314/4314 [==============================] - 3s 776us/step - loss: 195301.2344\n",
      "Epoch 78/100\n",
      "4314/4314 [==============================] - 3s 785us/step - loss: 195514.0469\n",
      "Epoch 79/100\n",
      "4314/4314 [==============================] - 3s 765us/step - loss: 195718.9844\n",
      "Epoch 80/100\n",
      "4314/4314 [==============================] - 3s 758us/step - loss: 196750.5781\n",
      "Epoch 81/100\n",
      "4314/4314 [==============================] - 3s 751us/step - loss: 193170.2344\n",
      "Epoch 82/100\n",
      "4314/4314 [==============================] - 3s 783us/step - loss: 195445.3750\n",
      "Epoch 83/100\n",
      "4314/4314 [==============================] - 3s 765us/step - loss: 194742.9844\n",
      "Epoch 84/100\n",
      "4314/4314 [==============================] - 3s 754us/step - loss: 194828.1406\n",
      "Epoch 85/100\n",
      "4314/4314 [==============================] - 3s 756us/step - loss: 193490.2031\n",
      "Epoch 86/100\n",
      "4314/4314 [==============================] - 3s 776us/step - loss: 193141.7188\n",
      "Epoch 87/100\n",
      "4314/4314 [==============================] - 4s 813us/step - loss: 193353.3125\n",
      "Epoch 88/100\n",
      "4314/4314 [==============================] - 3s 792us/step - loss: 194340.8125\n",
      "Epoch 89/100\n",
      "4314/4314 [==============================] - 3s 766us/step - loss: 192063.6562\n",
      "Epoch 90/100\n"
     ]
    },
    {
     "name": "stdout",
     "output_type": "stream",
     "text": [
      "4314/4314 [==============================] - 3s 768us/step - loss: 191763.0156\n",
      "Epoch 91/100\n",
      "4314/4314 [==============================] - 3s 763us/step - loss: 193751.9688\n",
      "Epoch 92/100\n",
      "4314/4314 [==============================] - 4s 819us/step - loss: 192079.3281\n",
      "Epoch 93/100\n",
      "4314/4314 [==============================] - 3s 767us/step - loss: 190806.7344\n",
      "Epoch 94/100\n",
      "4314/4314 [==============================] - 3s 769us/step - loss: 191218.3438\n",
      "Epoch 95/100\n",
      "4314/4314 [==============================] - 3s 763us/step - loss: 191046.5625\n",
      "Epoch 96/100\n",
      "4314/4314 [==============================] - 3s 803us/step - loss: 192125.8750\n",
      "Epoch 97/100\n",
      "4314/4314 [==============================] - 3s 810us/step - loss: 190221.1875\n",
      "Epoch 98/100\n",
      "4314/4314 [==============================] - 3s 773us/step - loss: 187580.2500\n",
      "Epoch 99/100\n",
      "4314/4314 [==============================] - 3s 762us/step - loss: 189044.7188\n",
      "Epoch 100/100\n",
      "4314/4314 [==============================] - 3s 764us/step - loss: 188515.9688\n"
     ]
    },
    {
     "data": {
      "text/plain": [
       "<keras.callbacks.History at 0x297c28eee20>"
      ]
     },
     "execution_count": 66,
     "metadata": {},
     "output_type": "execute_result"
    }
   ],
   "source": [
    "model.fit(xtrain, ytrain, batch_size=10, epochs=100)\n"
   ]
  },
  {
   "cell_type": "code",
   "execution_count": 67,
   "id": "0b9a3a1a",
   "metadata": {},
   "outputs": [
    {
     "name": "stdout",
     "output_type": "stream",
     "text": [
      "337/337 [==============================] - 1s 620us/step\n"
     ]
    }
   ],
   "source": [
    "ypred = model.predict(xtest)"
   ]
  },
  {
   "cell_type": "code",
   "execution_count": 68,
   "id": "7bcfd5dd",
   "metadata": {},
   "outputs": [
    {
     "data": {
      "text/plain": [
       "0.9839805662420961"
      ]
     },
     "execution_count": 68,
     "metadata": {},
     "output_type": "execute_result"
    }
   ],
   "source": [
    "r2_score(ytest,ypred)"
   ]
  },
  {
   "cell_type": "markdown",
   "id": "07738cc1",
   "metadata": {},
   "source": [
    "## The accuracy we obtained on various models obtained by using different algorithms suggest that the Random Forest  model is better. \n"
   ]
  }
 ],
 "metadata": {
  "kernelspec": {
   "display_name": "Python 3 (ipykernel)",
   "language": "python",
   "name": "python3"
  },
  "language_info": {
   "codemirror_mode": {
    "name": "ipython",
    "version": 3
   },
   "file_extension": ".py",
   "mimetype": "text/x-python",
   "name": "python",
   "nbconvert_exporter": "python",
   "pygments_lexer": "ipython3",
   "version": "3.9.12"
  }
 },
 "nbformat": 4,
 "nbformat_minor": 5
}
